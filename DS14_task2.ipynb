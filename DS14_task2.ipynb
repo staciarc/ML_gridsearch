{
 "cells": [
  {
   "cell_type": "markdown",
   "metadata": {
    "id": "jJu2pF1AKeC2"
   },
   "source": [
    "# TASK 2"
   ]
  },
  {
   "cell_type": "markdown",
   "metadata": {
    "id": "cfF5tl-cKgoI"
   },
   "source": [
    " Day 14. Task 02\n",
    "Gridsearch\n",
    " 0. Импорты\n"
   ]
  },
  {
   "cell_type": "code",
   "execution_count": 10,
   "metadata": {
    "id": "3u0bkA6BLRo-"
   },
   "outputs": [],
   "source": [
    "import pandas as pd\n",
    "import numpy as np\n",
    "from sklearn.model_selection import train_test_split\n",
    "from sklearn.model_selection import GridSearchCV\n",
    "from sklearn.model_selection import cross_val_score\n",
    "from sklearn.metrics import accuracy_score\n",
    "from sklearn.svm import SVC\n",
    "from sklearn.tree import DecisionTreeClassifier\n",
    "from sklearn.ensemble import RandomForestClassifier\n",
    "from tqdm.notebook import trange\n",
    "from tqdm import tqdm"
   ]
  },
  {
   "cell_type": "markdown",
   "metadata": {},
   "source": [
    " 1. Препроцессинг\n",
    " \n",
    " 1. Препроцессинг\n",
    " \n",
    "Загрузите файл из: datasets/day-of-week-not-scaled.csv. Он похож на датасет из предыдущего задания, но в этот раз в нем численные переменные не были стандартизированы (мы больше не будем пользоваться логистической регрессией).\n",
    "Воспользуйтесь train_test_split с параметрами test_size=0.2, random_state=21 и получите X_train, y_train, X_test, y_test. Используйте дополнительный параметр stratify."
   ]
  },
  {
   "cell_type": "code",
   "execution_count": 11,
   "metadata": {
    "id": "fZpsXvfVLWHr"
   },
   "outputs": [],
   "source": [
    "df = pd.read_csv('C:\\\\Google Drive\\\\School21\\\\Day14\\\\day-of-week-not-scaled.csv')\n"
   ]
  },
  {
   "cell_type": "code",
   "execution_count": 12,
   "metadata": {
    "id": "iiw_dvILXcS3"
   },
   "outputs": [
    {
     "data": {
      "text/html": [
       "<div>\n",
       "<style scoped>\n",
       "    .dataframe tbody tr th:only-of-type {\n",
       "        vertical-align: middle;\n",
       "    }\n",
       "\n",
       "    .dataframe tbody tr th {\n",
       "        vertical-align: top;\n",
       "    }\n",
       "\n",
       "    .dataframe thead th {\n",
       "        text-align: right;\n",
       "    }\n",
       "</style>\n",
       "<table border=\"1\" class=\"dataframe\">\n",
       "  <thead>\n",
       "    <tr style=\"text-align: right;\">\n",
       "      <th></th>\n",
       "      <th>numTrials</th>\n",
       "      <th>hour</th>\n",
       "      <th>dayofweek</th>\n",
       "      <th>uid_user_0</th>\n",
       "      <th>uid_user_1</th>\n",
       "      <th>uid_user_10</th>\n",
       "      <th>uid_user_11</th>\n",
       "      <th>uid_user_12</th>\n",
       "      <th>uid_user_13</th>\n",
       "      <th>uid_user_14</th>\n",
       "      <th>...</th>\n",
       "      <th>labname_lab02</th>\n",
       "      <th>labname_lab03</th>\n",
       "      <th>labname_lab03s</th>\n",
       "      <th>labname_lab05s</th>\n",
       "      <th>labname_laba04</th>\n",
       "      <th>labname_laba04s</th>\n",
       "      <th>labname_laba05</th>\n",
       "      <th>labname_laba06</th>\n",
       "      <th>labname_laba06s</th>\n",
       "      <th>labname_project1</th>\n",
       "    </tr>\n",
       "  </thead>\n",
       "  <tbody>\n",
       "    <tr>\n",
       "      <th>0</th>\n",
       "      <td>1</td>\n",
       "      <td>5</td>\n",
       "      <td>4</td>\n",
       "      <td>0.0</td>\n",
       "      <td>0.0</td>\n",
       "      <td>0.0</td>\n",
       "      <td>0.0</td>\n",
       "      <td>0.0</td>\n",
       "      <td>0.0</td>\n",
       "      <td>0.0</td>\n",
       "      <td>...</td>\n",
       "      <td>0.0</td>\n",
       "      <td>0.0</td>\n",
       "      <td>0.0</td>\n",
       "      <td>0.0</td>\n",
       "      <td>0.0</td>\n",
       "      <td>0.0</td>\n",
       "      <td>0.0</td>\n",
       "      <td>0.0</td>\n",
       "      <td>0.0</td>\n",
       "      <td>1.0</td>\n",
       "    </tr>\n",
       "    <tr>\n",
       "      <th>1</th>\n",
       "      <td>2</td>\n",
       "      <td>5</td>\n",
       "      <td>4</td>\n",
       "      <td>0.0</td>\n",
       "      <td>0.0</td>\n",
       "      <td>0.0</td>\n",
       "      <td>0.0</td>\n",
       "      <td>0.0</td>\n",
       "      <td>0.0</td>\n",
       "      <td>0.0</td>\n",
       "      <td>...</td>\n",
       "      <td>0.0</td>\n",
       "      <td>0.0</td>\n",
       "      <td>0.0</td>\n",
       "      <td>0.0</td>\n",
       "      <td>0.0</td>\n",
       "      <td>0.0</td>\n",
       "      <td>0.0</td>\n",
       "      <td>0.0</td>\n",
       "      <td>0.0</td>\n",
       "      <td>1.0</td>\n",
       "    </tr>\n",
       "    <tr>\n",
       "      <th>2</th>\n",
       "      <td>3</td>\n",
       "      <td>5</td>\n",
       "      <td>4</td>\n",
       "      <td>0.0</td>\n",
       "      <td>0.0</td>\n",
       "      <td>0.0</td>\n",
       "      <td>0.0</td>\n",
       "      <td>0.0</td>\n",
       "      <td>0.0</td>\n",
       "      <td>0.0</td>\n",
       "      <td>...</td>\n",
       "      <td>0.0</td>\n",
       "      <td>0.0</td>\n",
       "      <td>0.0</td>\n",
       "      <td>0.0</td>\n",
       "      <td>0.0</td>\n",
       "      <td>0.0</td>\n",
       "      <td>0.0</td>\n",
       "      <td>0.0</td>\n",
       "      <td>0.0</td>\n",
       "      <td>1.0</td>\n",
       "    </tr>\n",
       "    <tr>\n",
       "      <th>3</th>\n",
       "      <td>4</td>\n",
       "      <td>5</td>\n",
       "      <td>4</td>\n",
       "      <td>0.0</td>\n",
       "      <td>0.0</td>\n",
       "      <td>0.0</td>\n",
       "      <td>0.0</td>\n",
       "      <td>0.0</td>\n",
       "      <td>0.0</td>\n",
       "      <td>0.0</td>\n",
       "      <td>...</td>\n",
       "      <td>0.0</td>\n",
       "      <td>0.0</td>\n",
       "      <td>0.0</td>\n",
       "      <td>0.0</td>\n",
       "      <td>0.0</td>\n",
       "      <td>0.0</td>\n",
       "      <td>0.0</td>\n",
       "      <td>0.0</td>\n",
       "      <td>0.0</td>\n",
       "      <td>1.0</td>\n",
       "    </tr>\n",
       "    <tr>\n",
       "      <th>4</th>\n",
       "      <td>5</td>\n",
       "      <td>5</td>\n",
       "      <td>4</td>\n",
       "      <td>0.0</td>\n",
       "      <td>0.0</td>\n",
       "      <td>0.0</td>\n",
       "      <td>0.0</td>\n",
       "      <td>0.0</td>\n",
       "      <td>0.0</td>\n",
       "      <td>0.0</td>\n",
       "      <td>...</td>\n",
       "      <td>0.0</td>\n",
       "      <td>0.0</td>\n",
       "      <td>0.0</td>\n",
       "      <td>0.0</td>\n",
       "      <td>0.0</td>\n",
       "      <td>0.0</td>\n",
       "      <td>0.0</td>\n",
       "      <td>0.0</td>\n",
       "      <td>0.0</td>\n",
       "      <td>1.0</td>\n",
       "    </tr>\n",
       "    <tr>\n",
       "      <th>...</th>\n",
       "      <td>...</td>\n",
       "      <td>...</td>\n",
       "      <td>...</td>\n",
       "      <td>...</td>\n",
       "      <td>...</td>\n",
       "      <td>...</td>\n",
       "      <td>...</td>\n",
       "      <td>...</td>\n",
       "      <td>...</td>\n",
       "      <td>...</td>\n",
       "      <td>...</td>\n",
       "      <td>...</td>\n",
       "      <td>...</td>\n",
       "      <td>...</td>\n",
       "      <td>...</td>\n",
       "      <td>...</td>\n",
       "      <td>...</td>\n",
       "      <td>...</td>\n",
       "      <td>...</td>\n",
       "      <td>...</td>\n",
       "      <td>...</td>\n",
       "    </tr>\n",
       "    <tr>\n",
       "      <th>1681</th>\n",
       "      <td>9</td>\n",
       "      <td>20</td>\n",
       "      <td>3</td>\n",
       "      <td>0.0</td>\n",
       "      <td>0.0</td>\n",
       "      <td>0.0</td>\n",
       "      <td>0.0</td>\n",
       "      <td>0.0</td>\n",
       "      <td>0.0</td>\n",
       "      <td>0.0</td>\n",
       "      <td>...</td>\n",
       "      <td>0.0</td>\n",
       "      <td>0.0</td>\n",
       "      <td>0.0</td>\n",
       "      <td>0.0</td>\n",
       "      <td>0.0</td>\n",
       "      <td>0.0</td>\n",
       "      <td>0.0</td>\n",
       "      <td>0.0</td>\n",
       "      <td>1.0</td>\n",
       "      <td>0.0</td>\n",
       "    </tr>\n",
       "    <tr>\n",
       "      <th>1682</th>\n",
       "      <td>6</td>\n",
       "      <td>20</td>\n",
       "      <td>3</td>\n",
       "      <td>0.0</td>\n",
       "      <td>1.0</td>\n",
       "      <td>0.0</td>\n",
       "      <td>0.0</td>\n",
       "      <td>0.0</td>\n",
       "      <td>0.0</td>\n",
       "      <td>0.0</td>\n",
       "      <td>...</td>\n",
       "      <td>0.0</td>\n",
       "      <td>0.0</td>\n",
       "      <td>0.0</td>\n",
       "      <td>0.0</td>\n",
       "      <td>0.0</td>\n",
       "      <td>0.0</td>\n",
       "      <td>0.0</td>\n",
       "      <td>0.0</td>\n",
       "      <td>1.0</td>\n",
       "      <td>0.0</td>\n",
       "    </tr>\n",
       "    <tr>\n",
       "      <th>1683</th>\n",
       "      <td>7</td>\n",
       "      <td>20</td>\n",
       "      <td>3</td>\n",
       "      <td>0.0</td>\n",
       "      <td>1.0</td>\n",
       "      <td>0.0</td>\n",
       "      <td>0.0</td>\n",
       "      <td>0.0</td>\n",
       "      <td>0.0</td>\n",
       "      <td>0.0</td>\n",
       "      <td>...</td>\n",
       "      <td>0.0</td>\n",
       "      <td>0.0</td>\n",
       "      <td>0.0</td>\n",
       "      <td>0.0</td>\n",
       "      <td>0.0</td>\n",
       "      <td>0.0</td>\n",
       "      <td>0.0</td>\n",
       "      <td>0.0</td>\n",
       "      <td>1.0</td>\n",
       "      <td>0.0</td>\n",
       "    </tr>\n",
       "    <tr>\n",
       "      <th>1684</th>\n",
       "      <td>8</td>\n",
       "      <td>20</td>\n",
       "      <td>3</td>\n",
       "      <td>0.0</td>\n",
       "      <td>1.0</td>\n",
       "      <td>0.0</td>\n",
       "      <td>0.0</td>\n",
       "      <td>0.0</td>\n",
       "      <td>0.0</td>\n",
       "      <td>0.0</td>\n",
       "      <td>...</td>\n",
       "      <td>0.0</td>\n",
       "      <td>0.0</td>\n",
       "      <td>0.0</td>\n",
       "      <td>0.0</td>\n",
       "      <td>0.0</td>\n",
       "      <td>0.0</td>\n",
       "      <td>0.0</td>\n",
       "      <td>0.0</td>\n",
       "      <td>1.0</td>\n",
       "      <td>0.0</td>\n",
       "    </tr>\n",
       "    <tr>\n",
       "      <th>1685</th>\n",
       "      <td>9</td>\n",
       "      <td>20</td>\n",
       "      <td>3</td>\n",
       "      <td>0.0</td>\n",
       "      <td>1.0</td>\n",
       "      <td>0.0</td>\n",
       "      <td>0.0</td>\n",
       "      <td>0.0</td>\n",
       "      <td>0.0</td>\n",
       "      <td>0.0</td>\n",
       "      <td>...</td>\n",
       "      <td>0.0</td>\n",
       "      <td>0.0</td>\n",
       "      <td>0.0</td>\n",
       "      <td>0.0</td>\n",
       "      <td>0.0</td>\n",
       "      <td>0.0</td>\n",
       "      <td>0.0</td>\n",
       "      <td>0.0</td>\n",
       "      <td>1.0</td>\n",
       "      <td>0.0</td>\n",
       "    </tr>\n",
       "  </tbody>\n",
       "</table>\n",
       "<p>1686 rows × 44 columns</p>\n",
       "</div>"
      ],
      "text/plain": [
       "      numTrials  hour  dayofweek  uid_user_0  uid_user_1  uid_user_10  \\\n",
       "0             1     5          4         0.0         0.0          0.0   \n",
       "1             2     5          4         0.0         0.0          0.0   \n",
       "2             3     5          4         0.0         0.0          0.0   \n",
       "3             4     5          4         0.0         0.0          0.0   \n",
       "4             5     5          4         0.0         0.0          0.0   \n",
       "...         ...   ...        ...         ...         ...          ...   \n",
       "1681          9    20          3         0.0         0.0          0.0   \n",
       "1682          6    20          3         0.0         1.0          0.0   \n",
       "1683          7    20          3         0.0         1.0          0.0   \n",
       "1684          8    20          3         0.0         1.0          0.0   \n",
       "1685          9    20          3         0.0         1.0          0.0   \n",
       "\n",
       "      uid_user_11  uid_user_12  uid_user_13  uid_user_14  ...  labname_lab02  \\\n",
       "0             0.0          0.0          0.0          0.0  ...            0.0   \n",
       "1             0.0          0.0          0.0          0.0  ...            0.0   \n",
       "2             0.0          0.0          0.0          0.0  ...            0.0   \n",
       "3             0.0          0.0          0.0          0.0  ...            0.0   \n",
       "4             0.0          0.0          0.0          0.0  ...            0.0   \n",
       "...           ...          ...          ...          ...  ...            ...   \n",
       "1681          0.0          0.0          0.0          0.0  ...            0.0   \n",
       "1682          0.0          0.0          0.0          0.0  ...            0.0   \n",
       "1683          0.0          0.0          0.0          0.0  ...            0.0   \n",
       "1684          0.0          0.0          0.0          0.0  ...            0.0   \n",
       "1685          0.0          0.0          0.0          0.0  ...            0.0   \n",
       "\n",
       "      labname_lab03  labname_lab03s  labname_lab05s  labname_laba04  \\\n",
       "0               0.0             0.0             0.0             0.0   \n",
       "1               0.0             0.0             0.0             0.0   \n",
       "2               0.0             0.0             0.0             0.0   \n",
       "3               0.0             0.0             0.0             0.0   \n",
       "4               0.0             0.0             0.0             0.0   \n",
       "...             ...             ...             ...             ...   \n",
       "1681            0.0             0.0             0.0             0.0   \n",
       "1682            0.0             0.0             0.0             0.0   \n",
       "1683            0.0             0.0             0.0             0.0   \n",
       "1684            0.0             0.0             0.0             0.0   \n",
       "1685            0.0             0.0             0.0             0.0   \n",
       "\n",
       "      labname_laba04s  labname_laba05  labname_laba06  labname_laba06s  \\\n",
       "0                 0.0             0.0             0.0              0.0   \n",
       "1                 0.0             0.0             0.0              0.0   \n",
       "2                 0.0             0.0             0.0              0.0   \n",
       "3                 0.0             0.0             0.0              0.0   \n",
       "4                 0.0             0.0             0.0              0.0   \n",
       "...               ...             ...             ...              ...   \n",
       "1681              0.0             0.0             0.0              1.0   \n",
       "1682              0.0             0.0             0.0              1.0   \n",
       "1683              0.0             0.0             0.0              1.0   \n",
       "1684              0.0             0.0             0.0              1.0   \n",
       "1685              0.0             0.0             0.0              1.0   \n",
       "\n",
       "      labname_project1  \n",
       "0                  1.0  \n",
       "1                  1.0  \n",
       "2                  1.0  \n",
       "3                  1.0  \n",
       "4                  1.0  \n",
       "...                ...  \n",
       "1681               0.0  \n",
       "1682               0.0  \n",
       "1683               0.0  \n",
       "1684               0.0  \n",
       "1685               0.0  \n",
       "\n",
       "[1686 rows x 44 columns]"
      ]
     },
     "execution_count": 12,
     "metadata": {},
     "output_type": "execute_result"
    }
   ],
   "source": [
    "df"
   ]
  },
  {
   "cell_type": "code",
   "execution_count": 13,
   "metadata": {
    "id": "ldLf7a85Z-4s",
    "scrolled": false
   },
   "outputs": [
    {
     "data": {
      "text/html": [
       "<div>\n",
       "<style scoped>\n",
       "    .dataframe tbody tr th:only-of-type {\n",
       "        vertical-align: middle;\n",
       "    }\n",
       "\n",
       "    .dataframe tbody tr th {\n",
       "        vertical-align: top;\n",
       "    }\n",
       "\n",
       "    .dataframe thead th {\n",
       "        text-align: right;\n",
       "    }\n",
       "</style>\n",
       "<table border=\"1\" class=\"dataframe\">\n",
       "  <thead>\n",
       "    <tr style=\"text-align: right;\">\n",
       "      <th></th>\n",
       "      <th>numTrials</th>\n",
       "      <th>hour</th>\n",
       "      <th>uid_user_0</th>\n",
       "      <th>uid_user_1</th>\n",
       "      <th>uid_user_10</th>\n",
       "      <th>uid_user_11</th>\n",
       "      <th>uid_user_12</th>\n",
       "      <th>uid_user_13</th>\n",
       "      <th>uid_user_14</th>\n",
       "      <th>uid_user_15</th>\n",
       "      <th>...</th>\n",
       "      <th>labname_lab02</th>\n",
       "      <th>labname_lab03</th>\n",
       "      <th>labname_lab03s</th>\n",
       "      <th>labname_lab05s</th>\n",
       "      <th>labname_laba04</th>\n",
       "      <th>labname_laba04s</th>\n",
       "      <th>labname_laba05</th>\n",
       "      <th>labname_laba06</th>\n",
       "      <th>labname_laba06s</th>\n",
       "      <th>labname_project1</th>\n",
       "    </tr>\n",
       "  </thead>\n",
       "  <tbody>\n",
       "    <tr>\n",
       "      <th>0</th>\n",
       "      <td>1</td>\n",
       "      <td>5</td>\n",
       "      <td>0.0</td>\n",
       "      <td>0.0</td>\n",
       "      <td>0.0</td>\n",
       "      <td>0.0</td>\n",
       "      <td>0.0</td>\n",
       "      <td>0.0</td>\n",
       "      <td>0.0</td>\n",
       "      <td>0.0</td>\n",
       "      <td>...</td>\n",
       "      <td>0.0</td>\n",
       "      <td>0.0</td>\n",
       "      <td>0.0</td>\n",
       "      <td>0.0</td>\n",
       "      <td>0.0</td>\n",
       "      <td>0.0</td>\n",
       "      <td>0.0</td>\n",
       "      <td>0.0</td>\n",
       "      <td>0.0</td>\n",
       "      <td>1.0</td>\n",
       "    </tr>\n",
       "    <tr>\n",
       "      <th>1</th>\n",
       "      <td>2</td>\n",
       "      <td>5</td>\n",
       "      <td>0.0</td>\n",
       "      <td>0.0</td>\n",
       "      <td>0.0</td>\n",
       "      <td>0.0</td>\n",
       "      <td>0.0</td>\n",
       "      <td>0.0</td>\n",
       "      <td>0.0</td>\n",
       "      <td>0.0</td>\n",
       "      <td>...</td>\n",
       "      <td>0.0</td>\n",
       "      <td>0.0</td>\n",
       "      <td>0.0</td>\n",
       "      <td>0.0</td>\n",
       "      <td>0.0</td>\n",
       "      <td>0.0</td>\n",
       "      <td>0.0</td>\n",
       "      <td>0.0</td>\n",
       "      <td>0.0</td>\n",
       "      <td>1.0</td>\n",
       "    </tr>\n",
       "    <tr>\n",
       "      <th>2</th>\n",
       "      <td>3</td>\n",
       "      <td>5</td>\n",
       "      <td>0.0</td>\n",
       "      <td>0.0</td>\n",
       "      <td>0.0</td>\n",
       "      <td>0.0</td>\n",
       "      <td>0.0</td>\n",
       "      <td>0.0</td>\n",
       "      <td>0.0</td>\n",
       "      <td>0.0</td>\n",
       "      <td>...</td>\n",
       "      <td>0.0</td>\n",
       "      <td>0.0</td>\n",
       "      <td>0.0</td>\n",
       "      <td>0.0</td>\n",
       "      <td>0.0</td>\n",
       "      <td>0.0</td>\n",
       "      <td>0.0</td>\n",
       "      <td>0.0</td>\n",
       "      <td>0.0</td>\n",
       "      <td>1.0</td>\n",
       "    </tr>\n",
       "    <tr>\n",
       "      <th>3</th>\n",
       "      <td>4</td>\n",
       "      <td>5</td>\n",
       "      <td>0.0</td>\n",
       "      <td>0.0</td>\n",
       "      <td>0.0</td>\n",
       "      <td>0.0</td>\n",
       "      <td>0.0</td>\n",
       "      <td>0.0</td>\n",
       "      <td>0.0</td>\n",
       "      <td>0.0</td>\n",
       "      <td>...</td>\n",
       "      <td>0.0</td>\n",
       "      <td>0.0</td>\n",
       "      <td>0.0</td>\n",
       "      <td>0.0</td>\n",
       "      <td>0.0</td>\n",
       "      <td>0.0</td>\n",
       "      <td>0.0</td>\n",
       "      <td>0.0</td>\n",
       "      <td>0.0</td>\n",
       "      <td>1.0</td>\n",
       "    </tr>\n",
       "    <tr>\n",
       "      <th>4</th>\n",
       "      <td>5</td>\n",
       "      <td>5</td>\n",
       "      <td>0.0</td>\n",
       "      <td>0.0</td>\n",
       "      <td>0.0</td>\n",
       "      <td>0.0</td>\n",
       "      <td>0.0</td>\n",
       "      <td>0.0</td>\n",
       "      <td>0.0</td>\n",
       "      <td>0.0</td>\n",
       "      <td>...</td>\n",
       "      <td>0.0</td>\n",
       "      <td>0.0</td>\n",
       "      <td>0.0</td>\n",
       "      <td>0.0</td>\n",
       "      <td>0.0</td>\n",
       "      <td>0.0</td>\n",
       "      <td>0.0</td>\n",
       "      <td>0.0</td>\n",
       "      <td>0.0</td>\n",
       "      <td>1.0</td>\n",
       "    </tr>\n",
       "    <tr>\n",
       "      <th>...</th>\n",
       "      <td>...</td>\n",
       "      <td>...</td>\n",
       "      <td>...</td>\n",
       "      <td>...</td>\n",
       "      <td>...</td>\n",
       "      <td>...</td>\n",
       "      <td>...</td>\n",
       "      <td>...</td>\n",
       "      <td>...</td>\n",
       "      <td>...</td>\n",
       "      <td>...</td>\n",
       "      <td>...</td>\n",
       "      <td>...</td>\n",
       "      <td>...</td>\n",
       "      <td>...</td>\n",
       "      <td>...</td>\n",
       "      <td>...</td>\n",
       "      <td>...</td>\n",
       "      <td>...</td>\n",
       "      <td>...</td>\n",
       "      <td>...</td>\n",
       "    </tr>\n",
       "    <tr>\n",
       "      <th>1681</th>\n",
       "      <td>9</td>\n",
       "      <td>20</td>\n",
       "      <td>0.0</td>\n",
       "      <td>0.0</td>\n",
       "      <td>0.0</td>\n",
       "      <td>0.0</td>\n",
       "      <td>0.0</td>\n",
       "      <td>0.0</td>\n",
       "      <td>0.0</td>\n",
       "      <td>0.0</td>\n",
       "      <td>...</td>\n",
       "      <td>0.0</td>\n",
       "      <td>0.0</td>\n",
       "      <td>0.0</td>\n",
       "      <td>0.0</td>\n",
       "      <td>0.0</td>\n",
       "      <td>0.0</td>\n",
       "      <td>0.0</td>\n",
       "      <td>0.0</td>\n",
       "      <td>1.0</td>\n",
       "      <td>0.0</td>\n",
       "    </tr>\n",
       "    <tr>\n",
       "      <th>1682</th>\n",
       "      <td>6</td>\n",
       "      <td>20</td>\n",
       "      <td>0.0</td>\n",
       "      <td>1.0</td>\n",
       "      <td>0.0</td>\n",
       "      <td>0.0</td>\n",
       "      <td>0.0</td>\n",
       "      <td>0.0</td>\n",
       "      <td>0.0</td>\n",
       "      <td>0.0</td>\n",
       "      <td>...</td>\n",
       "      <td>0.0</td>\n",
       "      <td>0.0</td>\n",
       "      <td>0.0</td>\n",
       "      <td>0.0</td>\n",
       "      <td>0.0</td>\n",
       "      <td>0.0</td>\n",
       "      <td>0.0</td>\n",
       "      <td>0.0</td>\n",
       "      <td>1.0</td>\n",
       "      <td>0.0</td>\n",
       "    </tr>\n",
       "    <tr>\n",
       "      <th>1683</th>\n",
       "      <td>7</td>\n",
       "      <td>20</td>\n",
       "      <td>0.0</td>\n",
       "      <td>1.0</td>\n",
       "      <td>0.0</td>\n",
       "      <td>0.0</td>\n",
       "      <td>0.0</td>\n",
       "      <td>0.0</td>\n",
       "      <td>0.0</td>\n",
       "      <td>0.0</td>\n",
       "      <td>...</td>\n",
       "      <td>0.0</td>\n",
       "      <td>0.0</td>\n",
       "      <td>0.0</td>\n",
       "      <td>0.0</td>\n",
       "      <td>0.0</td>\n",
       "      <td>0.0</td>\n",
       "      <td>0.0</td>\n",
       "      <td>0.0</td>\n",
       "      <td>1.0</td>\n",
       "      <td>0.0</td>\n",
       "    </tr>\n",
       "    <tr>\n",
       "      <th>1684</th>\n",
       "      <td>8</td>\n",
       "      <td>20</td>\n",
       "      <td>0.0</td>\n",
       "      <td>1.0</td>\n",
       "      <td>0.0</td>\n",
       "      <td>0.0</td>\n",
       "      <td>0.0</td>\n",
       "      <td>0.0</td>\n",
       "      <td>0.0</td>\n",
       "      <td>0.0</td>\n",
       "      <td>...</td>\n",
       "      <td>0.0</td>\n",
       "      <td>0.0</td>\n",
       "      <td>0.0</td>\n",
       "      <td>0.0</td>\n",
       "      <td>0.0</td>\n",
       "      <td>0.0</td>\n",
       "      <td>0.0</td>\n",
       "      <td>0.0</td>\n",
       "      <td>1.0</td>\n",
       "      <td>0.0</td>\n",
       "    </tr>\n",
       "    <tr>\n",
       "      <th>1685</th>\n",
       "      <td>9</td>\n",
       "      <td>20</td>\n",
       "      <td>0.0</td>\n",
       "      <td>1.0</td>\n",
       "      <td>0.0</td>\n",
       "      <td>0.0</td>\n",
       "      <td>0.0</td>\n",
       "      <td>0.0</td>\n",
       "      <td>0.0</td>\n",
       "      <td>0.0</td>\n",
       "      <td>...</td>\n",
       "      <td>0.0</td>\n",
       "      <td>0.0</td>\n",
       "      <td>0.0</td>\n",
       "      <td>0.0</td>\n",
       "      <td>0.0</td>\n",
       "      <td>0.0</td>\n",
       "      <td>0.0</td>\n",
       "      <td>0.0</td>\n",
       "      <td>1.0</td>\n",
       "      <td>0.0</td>\n",
       "    </tr>\n",
       "  </tbody>\n",
       "</table>\n",
       "<p>1686 rows × 43 columns</p>\n",
       "</div>"
      ],
      "text/plain": [
       "      numTrials  hour  uid_user_0  uid_user_1  uid_user_10  uid_user_11  \\\n",
       "0             1     5         0.0         0.0          0.0          0.0   \n",
       "1             2     5         0.0         0.0          0.0          0.0   \n",
       "2             3     5         0.0         0.0          0.0          0.0   \n",
       "3             4     5         0.0         0.0          0.0          0.0   \n",
       "4             5     5         0.0         0.0          0.0          0.0   \n",
       "...         ...   ...         ...         ...          ...          ...   \n",
       "1681          9    20         0.0         0.0          0.0          0.0   \n",
       "1682          6    20         0.0         1.0          0.0          0.0   \n",
       "1683          7    20         0.0         1.0          0.0          0.0   \n",
       "1684          8    20         0.0         1.0          0.0          0.0   \n",
       "1685          9    20         0.0         1.0          0.0          0.0   \n",
       "\n",
       "      uid_user_12  uid_user_13  uid_user_14  uid_user_15  ...  labname_lab02  \\\n",
       "0             0.0          0.0          0.0          0.0  ...            0.0   \n",
       "1             0.0          0.0          0.0          0.0  ...            0.0   \n",
       "2             0.0          0.0          0.0          0.0  ...            0.0   \n",
       "3             0.0          0.0          0.0          0.0  ...            0.0   \n",
       "4             0.0          0.0          0.0          0.0  ...            0.0   \n",
       "...           ...          ...          ...          ...  ...            ...   \n",
       "1681          0.0          0.0          0.0          0.0  ...            0.0   \n",
       "1682          0.0          0.0          0.0          0.0  ...            0.0   \n",
       "1683          0.0          0.0          0.0          0.0  ...            0.0   \n",
       "1684          0.0          0.0          0.0          0.0  ...            0.0   \n",
       "1685          0.0          0.0          0.0          0.0  ...            0.0   \n",
       "\n",
       "      labname_lab03  labname_lab03s  labname_lab05s  labname_laba04  \\\n",
       "0               0.0             0.0             0.0             0.0   \n",
       "1               0.0             0.0             0.0             0.0   \n",
       "2               0.0             0.0             0.0             0.0   \n",
       "3               0.0             0.0             0.0             0.0   \n",
       "4               0.0             0.0             0.0             0.0   \n",
       "...             ...             ...             ...             ...   \n",
       "1681            0.0             0.0             0.0             0.0   \n",
       "1682            0.0             0.0             0.0             0.0   \n",
       "1683            0.0             0.0             0.0             0.0   \n",
       "1684            0.0             0.0             0.0             0.0   \n",
       "1685            0.0             0.0             0.0             0.0   \n",
       "\n",
       "      labname_laba04s  labname_laba05  labname_laba06  labname_laba06s  \\\n",
       "0                 0.0             0.0             0.0              0.0   \n",
       "1                 0.0             0.0             0.0              0.0   \n",
       "2                 0.0             0.0             0.0              0.0   \n",
       "3                 0.0             0.0             0.0              0.0   \n",
       "4                 0.0             0.0             0.0              0.0   \n",
       "...               ...             ...             ...              ...   \n",
       "1681              0.0             0.0             0.0              1.0   \n",
       "1682              0.0             0.0             0.0              1.0   \n",
       "1683              0.0             0.0             0.0              1.0   \n",
       "1684              0.0             0.0             0.0              1.0   \n",
       "1685              0.0             0.0             0.0              1.0   \n",
       "\n",
       "      labname_project1  \n",
       "0                  1.0  \n",
       "1                  1.0  \n",
       "2                  1.0  \n",
       "3                  1.0  \n",
       "4                  1.0  \n",
       "...                ...  \n",
       "1681               0.0  \n",
       "1682               0.0  \n",
       "1683               0.0  \n",
       "1684               0.0  \n",
       "1685               0.0  \n",
       "\n",
       "[1686 rows x 43 columns]"
      ]
     },
     "execution_count": 13,
     "metadata": {},
     "output_type": "execute_result"
    }
   ],
   "source": [
    "X = df.drop(columns = ['dayofweek'])\n",
    "X"
   ]
  },
  {
   "cell_type": "code",
   "execution_count": 14,
   "metadata": {
    "colab": {
     "base_uri": "https://localhost:8080/",
     "height": 424
    },
    "id": "K2bbDlN4Y-YT",
    "outputId": "5889b966-c0cb-45fa-a608-b2e93d30e06d"
   },
   "outputs": [
    {
     "data": {
      "text/plain": [
       "0       4\n",
       "1       4\n",
       "2       4\n",
       "3       4\n",
       "4       4\n",
       "       ..\n",
       "1681    3\n",
       "1682    3\n",
       "1683    3\n",
       "1684    3\n",
       "1685    3\n",
       "Name: dayofweek, Length: 1686, dtype: int64"
      ]
     },
     "execution_count": 14,
     "metadata": {},
     "output_type": "execute_result"
    }
   ],
   "source": [
    "y = df['dayofweek']\n",
    "y"
   ]
  },
  {
   "cell_type": "code",
   "execution_count": 15,
   "metadata": {
    "colab": {
     "base_uri": "https://localhost:8080/",
     "height": 424
    },
    "id": "GeAT7UnaiqS1",
    "outputId": "de277277-4b61-475f-cc04-7a239c1b86d0"
   },
   "outputs": [],
   "source": [
    "X_train, X_test, y_train, y_test = train_test_split(X, y, stratify = y, test_size=0.2, random_state=21)"
   ]
  },
  {
   "cell_type": "code",
   "execution_count": 16,
   "metadata": {
    "colab": {
     "base_uri": "https://localhost:8080/",
     "height": 1000
    },
    "id": "smVq4IoEmUlf",
    "outputId": "a82637d1-3bf7-4b6a-a5fd-46f828776023"
   },
   "outputs": [
    {
     "data": {
      "text/plain": [
       "1087    1\n",
       "16      5\n",
       "563     6\n",
       "1381    3\n",
       "1199    2\n",
       "       ..\n",
       "1411    3\n",
       "1079    1\n",
       "1222    2\n",
       "1064    1\n",
       "1243    2\n",
       "Name: dayofweek, Length: 338, dtype: int64"
      ]
     },
     "execution_count": 16,
     "metadata": {},
     "output_type": "execute_result"
    }
   ],
   "source": [
    "y_test"
   ]
  },
  {
   "cell_type": "markdown",
   "metadata": {
    "id": "0-C8IHUEnwCE"
   },
   "source": [
    " 2. SVM gridsearch\n",
    " \n",
    "Используя GridSearchCV попробуйте разные значения параметра kernel (linear, rbf, sigmoid), параметра C (0.01, 0.1, 1, 1.5, 5, 10), параметра gamma (scale, auto), параметра class_weight (balanced, None).\n",
    "Используйте random_state=21 и probability=True найдите наилучшую комбинацию параметров с точки зрения accuracy.\n",
    "Создайте из результатов gridsearch датафрейм и отсортируйте по возрастанию значений rank_test_score. \n",
    "Посмотрите есть ли между какими-то соседними комбинациями большая разница (иногда более простая модель может давать сопоставимый результат)."
   ]
  },
  {
   "cell_type": "code",
   "execution_count": 17,
   "metadata": {
    "colab": {
     "base_uri": "https://localhost:8080/",
     "height": 282
    },
    "id": "-pSg7StFcXiT",
    "outputId": "d1787a50-d9a0-46d8-9fca-a871e61d8ea3"
   },
   "outputs": [],
   "source": [
    "param_grid = {'kernel': ['linear', 'rbf', 'sigmoid'],\n",
    "             'C' : [0.01, 0.1, 1, 1.5, 5, 10],\n",
    "             'gamma' : ['scale', 'auto'],\n",
    "             'class_weight' : ['balanced', None]}"
   ]
  },
  {
   "cell_type": "code",
   "execution_count": 18,
   "metadata": {},
   "outputs": [],
   "source": [
    "grid = GridSearchCV(estimator = SVC(random_state=21, probability=True), param_grid = param_grid)"
   ]
  },
  {
   "cell_type": "code",
   "execution_count": 19,
   "metadata": {},
   "outputs": [
    {
     "data": {
      "text/html": [
       "<style>#sk-container-id-1 {color: black;background-color: white;}#sk-container-id-1 pre{padding: 0;}#sk-container-id-1 div.sk-toggleable {background-color: white;}#sk-container-id-1 label.sk-toggleable__label {cursor: pointer;display: block;width: 100%;margin-bottom: 0;padding: 0.3em;box-sizing: border-box;text-align: center;}#sk-container-id-1 label.sk-toggleable__label-arrow:before {content: \"▸\";float: left;margin-right: 0.25em;color: #696969;}#sk-container-id-1 label.sk-toggleable__label-arrow:hover:before {color: black;}#sk-container-id-1 div.sk-estimator:hover label.sk-toggleable__label-arrow:before {color: black;}#sk-container-id-1 div.sk-toggleable__content {max-height: 0;max-width: 0;overflow: hidden;text-align: left;background-color: #f0f8ff;}#sk-container-id-1 div.sk-toggleable__content pre {margin: 0.2em;color: black;border-radius: 0.25em;background-color: #f0f8ff;}#sk-container-id-1 input.sk-toggleable__control:checked~div.sk-toggleable__content {max-height: 200px;max-width: 100%;overflow: auto;}#sk-container-id-1 input.sk-toggleable__control:checked~label.sk-toggleable__label-arrow:before {content: \"▾\";}#sk-container-id-1 div.sk-estimator input.sk-toggleable__control:checked~label.sk-toggleable__label {background-color: #d4ebff;}#sk-container-id-1 div.sk-label input.sk-toggleable__control:checked~label.sk-toggleable__label {background-color: #d4ebff;}#sk-container-id-1 input.sk-hidden--visually {border: 0;clip: rect(1px 1px 1px 1px);clip: rect(1px, 1px, 1px, 1px);height: 1px;margin: -1px;overflow: hidden;padding: 0;position: absolute;width: 1px;}#sk-container-id-1 div.sk-estimator {font-family: monospace;background-color: #f0f8ff;border: 1px dotted black;border-radius: 0.25em;box-sizing: border-box;margin-bottom: 0.5em;}#sk-container-id-1 div.sk-estimator:hover {background-color: #d4ebff;}#sk-container-id-1 div.sk-parallel-item::after {content: \"\";width: 100%;border-bottom: 1px solid gray;flex-grow: 1;}#sk-container-id-1 div.sk-label:hover label.sk-toggleable__label {background-color: #d4ebff;}#sk-container-id-1 div.sk-serial::before {content: \"\";position: absolute;border-left: 1px solid gray;box-sizing: border-box;top: 0;bottom: 0;left: 50%;z-index: 0;}#sk-container-id-1 div.sk-serial {display: flex;flex-direction: column;align-items: center;background-color: white;padding-right: 0.2em;padding-left: 0.2em;position: relative;}#sk-container-id-1 div.sk-item {position: relative;z-index: 1;}#sk-container-id-1 div.sk-parallel {display: flex;align-items: stretch;justify-content: center;background-color: white;position: relative;}#sk-container-id-1 div.sk-item::before, #sk-container-id-1 div.sk-parallel-item::before {content: \"\";position: absolute;border-left: 1px solid gray;box-sizing: border-box;top: 0;bottom: 0;left: 50%;z-index: -1;}#sk-container-id-1 div.sk-parallel-item {display: flex;flex-direction: column;z-index: 1;position: relative;background-color: white;}#sk-container-id-1 div.sk-parallel-item:first-child::after {align-self: flex-end;width: 50%;}#sk-container-id-1 div.sk-parallel-item:last-child::after {align-self: flex-start;width: 50%;}#sk-container-id-1 div.sk-parallel-item:only-child::after {width: 0;}#sk-container-id-1 div.sk-dashed-wrapped {border: 1px dashed gray;margin: 0 0.4em 0.5em 0.4em;box-sizing: border-box;padding-bottom: 0.4em;background-color: white;}#sk-container-id-1 div.sk-label label {font-family: monospace;font-weight: bold;display: inline-block;line-height: 1.2em;}#sk-container-id-1 div.sk-label-container {text-align: center;}#sk-container-id-1 div.sk-container {/* jupyter's `normalize.less` sets `[hidden] { display: none; }` but bootstrap.min.css set `[hidden] { display: none !important; }` so we also need the `!important` here to be able to override the default hidden behavior on the sphinx rendered scikit-learn.org. See: https://github.com/scikit-learn/scikit-learn/issues/21755 */display: inline-block !important;position: relative;}#sk-container-id-1 div.sk-text-repr-fallback {display: none;}</style><div id=\"sk-container-id-1\" class=\"sk-top-container\"><div class=\"sk-text-repr-fallback\"><pre>GridSearchCV(estimator=SVC(probability=True, random_state=21),\n",
       "             param_grid={&#x27;C&#x27;: [0.01, 0.1, 1, 1.5, 5, 10],\n",
       "                         &#x27;class_weight&#x27;: [&#x27;balanced&#x27;, None],\n",
       "                         &#x27;gamma&#x27;: [&#x27;scale&#x27;, &#x27;auto&#x27;],\n",
       "                         &#x27;kernel&#x27;: [&#x27;linear&#x27;, &#x27;rbf&#x27;, &#x27;sigmoid&#x27;]})</pre><b>In a Jupyter environment, please rerun this cell to show the HTML representation or trust the notebook. <br />On GitHub, the HTML representation is unable to render, please try loading this page with nbviewer.org.</b></div><div class=\"sk-container\" hidden><div class=\"sk-item sk-dashed-wrapped\"><div class=\"sk-label-container\"><div class=\"sk-label sk-toggleable\"><input class=\"sk-toggleable__control sk-hidden--visually\" id=\"sk-estimator-id-1\" type=\"checkbox\" ><label for=\"sk-estimator-id-1\" class=\"sk-toggleable__label sk-toggleable__label-arrow\">GridSearchCV</label><div class=\"sk-toggleable__content\"><pre>GridSearchCV(estimator=SVC(probability=True, random_state=21),\n",
       "             param_grid={&#x27;C&#x27;: [0.01, 0.1, 1, 1.5, 5, 10],\n",
       "                         &#x27;class_weight&#x27;: [&#x27;balanced&#x27;, None],\n",
       "                         &#x27;gamma&#x27;: [&#x27;scale&#x27;, &#x27;auto&#x27;],\n",
       "                         &#x27;kernel&#x27;: [&#x27;linear&#x27;, &#x27;rbf&#x27;, &#x27;sigmoid&#x27;]})</pre></div></div></div><div class=\"sk-parallel\"><div class=\"sk-parallel-item\"><div class=\"sk-item\"><div class=\"sk-label-container\"><div class=\"sk-label sk-toggleable\"><input class=\"sk-toggleable__control sk-hidden--visually\" id=\"sk-estimator-id-2\" type=\"checkbox\" ><label for=\"sk-estimator-id-2\" class=\"sk-toggleable__label sk-toggleable__label-arrow\">estimator: SVC</label><div class=\"sk-toggleable__content\"><pre>SVC(probability=True, random_state=21)</pre></div></div></div><div class=\"sk-serial\"><div class=\"sk-item\"><div class=\"sk-estimator sk-toggleable\"><input class=\"sk-toggleable__control sk-hidden--visually\" id=\"sk-estimator-id-3\" type=\"checkbox\" ><label for=\"sk-estimator-id-3\" class=\"sk-toggleable__label sk-toggleable__label-arrow\">SVC</label><div class=\"sk-toggleable__content\"><pre>SVC(probability=True, random_state=21)</pre></div></div></div></div></div></div></div></div></div></div>"
      ],
      "text/plain": [
       "GridSearchCV(estimator=SVC(probability=True, random_state=21),\n",
       "             param_grid={'C': [0.01, 0.1, 1, 1.5, 5, 10],\n",
       "                         'class_weight': ['balanced', None],\n",
       "                         'gamma': ['scale', 'auto'],\n",
       "                         'kernel': ['linear', 'rbf', 'sigmoid']})"
      ]
     },
     "execution_count": 19,
     "metadata": {},
     "output_type": "execute_result"
    }
   ],
   "source": [
    "grid.fit(X_train, y_train)"
   ]
  },
  {
   "cell_type": "code",
   "execution_count": 20,
   "metadata": {},
   "outputs": [
    {
     "data": {
      "text/plain": [
       "{'C': 10, 'class_weight': None, 'gamma': 'auto', 'kernel': 'rbf'}"
      ]
     },
     "execution_count": 20,
     "metadata": {},
     "output_type": "execute_result"
    }
   ],
   "source": [
    "grid.best_params_"
   ]
  },
  {
   "cell_type": "code",
   "execution_count": 21,
   "metadata": {},
   "outputs": [
    {
     "data": {
      "text/html": [
       "<div>\n",
       "<style scoped>\n",
       "    .dataframe tbody tr th:only-of-type {\n",
       "        vertical-align: middle;\n",
       "    }\n",
       "\n",
       "    .dataframe tbody tr th {\n",
       "        vertical-align: top;\n",
       "    }\n",
       "\n",
       "    .dataframe thead th {\n",
       "        text-align: right;\n",
       "    }\n",
       "</style>\n",
       "<table border=\"1\" class=\"dataframe\">\n",
       "  <thead>\n",
       "    <tr style=\"text-align: right;\">\n",
       "      <th></th>\n",
       "      <th>params</th>\n",
       "      <th>mean_test_score</th>\n",
       "      <th>std_test_score</th>\n",
       "      <th>rank_test_score</th>\n",
       "    </tr>\n",
       "  </thead>\n",
       "  <tbody>\n",
       "    <tr>\n",
       "      <th>70</th>\n",
       "      <td>{'C': 10, 'class_weight': None, 'gamma': 'auto...</td>\n",
       "      <td>0.876109</td>\n",
       "      <td>0.018419</td>\n",
       "      <td>1</td>\n",
       "    </tr>\n",
       "    <tr>\n",
       "      <th>64</th>\n",
       "      <td>{'C': 10, 'class_weight': 'balanced', 'gamma':...</td>\n",
       "      <td>0.863500</td>\n",
       "      <td>0.010870</td>\n",
       "      <td>2</td>\n",
       "    </tr>\n",
       "    <tr>\n",
       "      <th>58</th>\n",
       "      <td>{'C': 5, 'class_weight': None, 'gamma': 'auto'...</td>\n",
       "      <td>0.816018</td>\n",
       "      <td>0.008116</td>\n",
       "      <td>3</td>\n",
       "    </tr>\n",
       "    <tr>\n",
       "      <th>52</th>\n",
       "      <td>{'C': 5, 'class_weight': 'balanced', 'gamma': ...</td>\n",
       "      <td>0.808608</td>\n",
       "      <td>0.021007</td>\n",
       "      <td>4</td>\n",
       "    </tr>\n",
       "    <tr>\n",
       "      <th>63</th>\n",
       "      <td>{'C': 10, 'class_weight': 'balanced', 'gamma':...</td>\n",
       "      <td>0.721052</td>\n",
       "      <td>0.034438</td>\n",
       "      <td>5</td>\n",
       "    </tr>\n",
       "    <tr>\n",
       "      <th>...</th>\n",
       "      <td>...</td>\n",
       "      <td>...</td>\n",
       "      <td>...</td>\n",
       "      <td>...</td>\n",
       "    </tr>\n",
       "    <tr>\n",
       "      <th>53</th>\n",
       "      <td>{'C': 5, 'class_weight': 'balanced', 'gamma': ...</td>\n",
       "      <td>0.129792</td>\n",
       "      <td>0.019869</td>\n",
       "      <td>68</td>\n",
       "    </tr>\n",
       "    <tr>\n",
       "      <th>65</th>\n",
       "      <td>{'C': 10, 'class_weight': 'balanced', 'gamma':...</td>\n",
       "      <td>0.115693</td>\n",
       "      <td>0.020052</td>\n",
       "      <td>69</td>\n",
       "    </tr>\n",
       "    <tr>\n",
       "      <th>41</th>\n",
       "      <td>{'C': 1.5, 'class_weight': 'balanced', 'gamma'...</td>\n",
       "      <td>0.079380</td>\n",
       "      <td>0.006913</td>\n",
       "      <td>70</td>\n",
       "    </tr>\n",
       "    <tr>\n",
       "      <th>17</th>\n",
       "      <td>{'C': 0.1, 'class_weight': 'balanced', 'gamma'...</td>\n",
       "      <td>0.062310</td>\n",
       "      <td>0.002678</td>\n",
       "      <td>71</td>\n",
       "    </tr>\n",
       "    <tr>\n",
       "      <th>29</th>\n",
       "      <td>{'C': 1, 'class_weight': 'balanced', 'gamma': ...</td>\n",
       "      <td>0.060088</td>\n",
       "      <td>0.009188</td>\n",
       "      <td>72</td>\n",
       "    </tr>\n",
       "  </tbody>\n",
       "</table>\n",
       "<p>72 rows × 4 columns</p>\n",
       "</div>"
      ],
      "text/plain": [
       "                                               params  mean_test_score  \\\n",
       "70  {'C': 10, 'class_weight': None, 'gamma': 'auto...         0.876109   \n",
       "64  {'C': 10, 'class_weight': 'balanced', 'gamma':...         0.863500   \n",
       "58  {'C': 5, 'class_weight': None, 'gamma': 'auto'...         0.816018   \n",
       "52  {'C': 5, 'class_weight': 'balanced', 'gamma': ...         0.808608   \n",
       "63  {'C': 10, 'class_weight': 'balanced', 'gamma':...         0.721052   \n",
       "..                                                ...              ...   \n",
       "53  {'C': 5, 'class_weight': 'balanced', 'gamma': ...         0.129792   \n",
       "65  {'C': 10, 'class_weight': 'balanced', 'gamma':...         0.115693   \n",
       "41  {'C': 1.5, 'class_weight': 'balanced', 'gamma'...         0.079380   \n",
       "17  {'C': 0.1, 'class_weight': 'balanced', 'gamma'...         0.062310   \n",
       "29  {'C': 1, 'class_weight': 'balanced', 'gamma': ...         0.060088   \n",
       "\n",
       "    std_test_score  rank_test_score  \n",
       "70        0.018419                1  \n",
       "64        0.010870                2  \n",
       "58        0.008116                3  \n",
       "52        0.021007                4  \n",
       "63        0.034438                5  \n",
       "..             ...              ...  \n",
       "53        0.019869               68  \n",
       "65        0.020052               69  \n",
       "41        0.006913               70  \n",
       "17        0.002678               71  \n",
       "29        0.009188               72  \n",
       "\n",
       "[72 rows x 4 columns]"
      ]
     },
     "execution_count": 21,
     "metadata": {},
     "output_type": "execute_result"
    }
   ],
   "source": [
    "SVC_estimators = pd.DataFrame(grid.cv_results_)\n",
    "SVC_estimators.sort_values('rank_test_score', inplace =True)\n",
    "SVC_estimators[['params', 'mean_test_score', 'std_test_score', 'rank_test_score']]"
   ]
  },
  {
   "cell_type": "markdown",
   "metadata": {},
   "source": [
    " 3. Decision tree\n",
    " \n",
    "Используя GridSearchCV попробуйте разные значения параметра max_depth (от 1 до 49), параметра class_weight (balanced, None), параметра criterion (entropy and gini). \n",
    "Используйте random_state=21 найдите наилучшую комбинацию параметров с точки зрения accuracy.\n",
    "Создайте из результатов gridsearch датафрейм и отсортируйте по возрастанию значений rank_test_score.\n",
    "Посмотрите есть ли между какими-то соседними комбинациями большая разница (иногда более простая модель может давать сопоставимый результат)."
   ]
  },
  {
   "cell_type": "code",
   "execution_count": 22,
   "metadata": {
    "id": "y2emktkks6rA",
    "scrolled": true
   },
   "outputs": [],
   "source": [
    "param_grid = {'max_depth': range(1, 50),\n",
    "             'class_weight' : ['balanced', None],\n",
    "             'criterion' : ['entropy', 'gini']}"
   ]
  },
  {
   "cell_type": "code",
   "execution_count": 23,
   "metadata": {
    "id": "Ie2u26xx2a_v"
   },
   "outputs": [],
   "source": [
    "grid = GridSearchCV(estimator = DecisionTreeClassifier(random_state=21), param_grid = param_grid)"
   ]
  },
  {
   "cell_type": "code",
   "execution_count": 24,
   "metadata": {
    "id": "rZEyfIqrveIB"
   },
   "outputs": [
    {
     "data": {
      "text/html": [
       "<style>#sk-container-id-2 {color: black;background-color: white;}#sk-container-id-2 pre{padding: 0;}#sk-container-id-2 div.sk-toggleable {background-color: white;}#sk-container-id-2 label.sk-toggleable__label {cursor: pointer;display: block;width: 100%;margin-bottom: 0;padding: 0.3em;box-sizing: border-box;text-align: center;}#sk-container-id-2 label.sk-toggleable__label-arrow:before {content: \"▸\";float: left;margin-right: 0.25em;color: #696969;}#sk-container-id-2 label.sk-toggleable__label-arrow:hover:before {color: black;}#sk-container-id-2 div.sk-estimator:hover label.sk-toggleable__label-arrow:before {color: black;}#sk-container-id-2 div.sk-toggleable__content {max-height: 0;max-width: 0;overflow: hidden;text-align: left;background-color: #f0f8ff;}#sk-container-id-2 div.sk-toggleable__content pre {margin: 0.2em;color: black;border-radius: 0.25em;background-color: #f0f8ff;}#sk-container-id-2 input.sk-toggleable__control:checked~div.sk-toggleable__content {max-height: 200px;max-width: 100%;overflow: auto;}#sk-container-id-2 input.sk-toggleable__control:checked~label.sk-toggleable__label-arrow:before {content: \"▾\";}#sk-container-id-2 div.sk-estimator input.sk-toggleable__control:checked~label.sk-toggleable__label {background-color: #d4ebff;}#sk-container-id-2 div.sk-label input.sk-toggleable__control:checked~label.sk-toggleable__label {background-color: #d4ebff;}#sk-container-id-2 input.sk-hidden--visually {border: 0;clip: rect(1px 1px 1px 1px);clip: rect(1px, 1px, 1px, 1px);height: 1px;margin: -1px;overflow: hidden;padding: 0;position: absolute;width: 1px;}#sk-container-id-2 div.sk-estimator {font-family: monospace;background-color: #f0f8ff;border: 1px dotted black;border-radius: 0.25em;box-sizing: border-box;margin-bottom: 0.5em;}#sk-container-id-2 div.sk-estimator:hover {background-color: #d4ebff;}#sk-container-id-2 div.sk-parallel-item::after {content: \"\";width: 100%;border-bottom: 1px solid gray;flex-grow: 1;}#sk-container-id-2 div.sk-label:hover label.sk-toggleable__label {background-color: #d4ebff;}#sk-container-id-2 div.sk-serial::before {content: \"\";position: absolute;border-left: 1px solid gray;box-sizing: border-box;top: 0;bottom: 0;left: 50%;z-index: 0;}#sk-container-id-2 div.sk-serial {display: flex;flex-direction: column;align-items: center;background-color: white;padding-right: 0.2em;padding-left: 0.2em;position: relative;}#sk-container-id-2 div.sk-item {position: relative;z-index: 1;}#sk-container-id-2 div.sk-parallel {display: flex;align-items: stretch;justify-content: center;background-color: white;position: relative;}#sk-container-id-2 div.sk-item::before, #sk-container-id-2 div.sk-parallel-item::before {content: \"\";position: absolute;border-left: 1px solid gray;box-sizing: border-box;top: 0;bottom: 0;left: 50%;z-index: -1;}#sk-container-id-2 div.sk-parallel-item {display: flex;flex-direction: column;z-index: 1;position: relative;background-color: white;}#sk-container-id-2 div.sk-parallel-item:first-child::after {align-self: flex-end;width: 50%;}#sk-container-id-2 div.sk-parallel-item:last-child::after {align-self: flex-start;width: 50%;}#sk-container-id-2 div.sk-parallel-item:only-child::after {width: 0;}#sk-container-id-2 div.sk-dashed-wrapped {border: 1px dashed gray;margin: 0 0.4em 0.5em 0.4em;box-sizing: border-box;padding-bottom: 0.4em;background-color: white;}#sk-container-id-2 div.sk-label label {font-family: monospace;font-weight: bold;display: inline-block;line-height: 1.2em;}#sk-container-id-2 div.sk-label-container {text-align: center;}#sk-container-id-2 div.sk-container {/* jupyter's `normalize.less` sets `[hidden] { display: none; }` but bootstrap.min.css set `[hidden] { display: none !important; }` so we also need the `!important` here to be able to override the default hidden behavior on the sphinx rendered scikit-learn.org. See: https://github.com/scikit-learn/scikit-learn/issues/21755 */display: inline-block !important;position: relative;}#sk-container-id-2 div.sk-text-repr-fallback {display: none;}</style><div id=\"sk-container-id-2\" class=\"sk-top-container\"><div class=\"sk-text-repr-fallback\"><pre>GridSearchCV(estimator=DecisionTreeClassifier(random_state=21),\n",
       "             param_grid={&#x27;class_weight&#x27;: [&#x27;balanced&#x27;, None],\n",
       "                         &#x27;criterion&#x27;: [&#x27;entropy&#x27;, &#x27;gini&#x27;],\n",
       "                         &#x27;max_depth&#x27;: range(1, 50)})</pre><b>In a Jupyter environment, please rerun this cell to show the HTML representation or trust the notebook. <br />On GitHub, the HTML representation is unable to render, please try loading this page with nbviewer.org.</b></div><div class=\"sk-container\" hidden><div class=\"sk-item sk-dashed-wrapped\"><div class=\"sk-label-container\"><div class=\"sk-label sk-toggleable\"><input class=\"sk-toggleable__control sk-hidden--visually\" id=\"sk-estimator-id-4\" type=\"checkbox\" ><label for=\"sk-estimator-id-4\" class=\"sk-toggleable__label sk-toggleable__label-arrow\">GridSearchCV</label><div class=\"sk-toggleable__content\"><pre>GridSearchCV(estimator=DecisionTreeClassifier(random_state=21),\n",
       "             param_grid={&#x27;class_weight&#x27;: [&#x27;balanced&#x27;, None],\n",
       "                         &#x27;criterion&#x27;: [&#x27;entropy&#x27;, &#x27;gini&#x27;],\n",
       "                         &#x27;max_depth&#x27;: range(1, 50)})</pre></div></div></div><div class=\"sk-parallel\"><div class=\"sk-parallel-item\"><div class=\"sk-item\"><div class=\"sk-label-container\"><div class=\"sk-label sk-toggleable\"><input class=\"sk-toggleable__control sk-hidden--visually\" id=\"sk-estimator-id-5\" type=\"checkbox\" ><label for=\"sk-estimator-id-5\" class=\"sk-toggleable__label sk-toggleable__label-arrow\">estimator: DecisionTreeClassifier</label><div class=\"sk-toggleable__content\"><pre>DecisionTreeClassifier(random_state=21)</pre></div></div></div><div class=\"sk-serial\"><div class=\"sk-item\"><div class=\"sk-estimator sk-toggleable\"><input class=\"sk-toggleable__control sk-hidden--visually\" id=\"sk-estimator-id-6\" type=\"checkbox\" ><label for=\"sk-estimator-id-6\" class=\"sk-toggleable__label sk-toggleable__label-arrow\">DecisionTreeClassifier</label><div class=\"sk-toggleable__content\"><pre>DecisionTreeClassifier(random_state=21)</pre></div></div></div></div></div></div></div></div></div></div>"
      ],
      "text/plain": [
       "GridSearchCV(estimator=DecisionTreeClassifier(random_state=21),\n",
       "             param_grid={'class_weight': ['balanced', None],\n",
       "                         'criterion': ['entropy', 'gini'],\n",
       "                         'max_depth': range(1, 50)})"
      ]
     },
     "execution_count": 24,
     "metadata": {},
     "output_type": "execute_result"
    }
   ],
   "source": [
    "grid.fit(X_train, y_train)"
   ]
  },
  {
   "cell_type": "code",
   "execution_count": 25,
   "metadata": {},
   "outputs": [
    {
     "data": {
      "text/plain": [
       "{'class_weight': 'balanced', 'criterion': 'gini', 'max_depth': 22}"
      ]
     },
     "execution_count": 25,
     "metadata": {},
     "output_type": "execute_result"
    }
   ],
   "source": [
    "grid.best_params_"
   ]
  },
  {
   "cell_type": "code",
   "execution_count": 26,
   "metadata": {},
   "outputs": [
    {
     "data": {
      "text/html": [
       "<div>\n",
       "<style scoped>\n",
       "    .dataframe tbody tr th:only-of-type {\n",
       "        vertical-align: middle;\n",
       "    }\n",
       "\n",
       "    .dataframe tbody tr th {\n",
       "        vertical-align: top;\n",
       "    }\n",
       "\n",
       "    .dataframe thead th {\n",
       "        text-align: right;\n",
       "    }\n",
       "</style>\n",
       "<table border=\"1\" class=\"dataframe\">\n",
       "  <thead>\n",
       "    <tr style=\"text-align: right;\">\n",
       "      <th></th>\n",
       "      <th>params</th>\n",
       "      <th>mean_test_score</th>\n",
       "      <th>std_test_score</th>\n",
       "      <th>rank_test_score</th>\n",
       "    </tr>\n",
       "  </thead>\n",
       "  <tbody>\n",
       "    <tr>\n",
       "      <th>70</th>\n",
       "      <td>{'class_weight': 'balanced', 'criterion': 'gin...</td>\n",
       "      <td>0.873121</td>\n",
       "      <td>0.023998</td>\n",
       "      <td>1</td>\n",
       "    </tr>\n",
       "    <tr>\n",
       "      <th>69</th>\n",
       "      <td>{'class_weight': 'balanced', 'criterion': 'gin...</td>\n",
       "      <td>0.873121</td>\n",
       "      <td>0.026300</td>\n",
       "      <td>2</td>\n",
       "    </tr>\n",
       "    <tr>\n",
       "      <th>97</th>\n",
       "      <td>{'class_weight': 'balanced', 'criterion': 'gin...</td>\n",
       "      <td>0.873116</td>\n",
       "      <td>0.023911</td>\n",
       "      <td>3</td>\n",
       "    </tr>\n",
       "    <tr>\n",
       "      <th>95</th>\n",
       "      <td>{'class_weight': 'balanced', 'criterion': 'gin...</td>\n",
       "      <td>0.873116</td>\n",
       "      <td>0.023911</td>\n",
       "      <td>3</td>\n",
       "    </tr>\n",
       "    <tr>\n",
       "      <th>94</th>\n",
       "      <td>{'class_weight': 'balanced', 'criterion': 'gin...</td>\n",
       "      <td>0.873116</td>\n",
       "      <td>0.023911</td>\n",
       "      <td>3</td>\n",
       "    </tr>\n",
       "    <tr>\n",
       "      <th>...</th>\n",
       "      <td>...</td>\n",
       "      <td>...</td>\n",
       "      <td>...</td>\n",
       "      <td>...</td>\n",
       "    </tr>\n",
       "    <tr>\n",
       "      <th>51</th>\n",
       "      <td>{'class_weight': 'balanced', 'criterion': 'gin...</td>\n",
       "      <td>0.373906</td>\n",
       "      <td>0.044064</td>\n",
       "      <td>192</td>\n",
       "    </tr>\n",
       "    <tr>\n",
       "      <th>147</th>\n",
       "      <td>{'class_weight': None, 'criterion': 'gini', 'm...</td>\n",
       "      <td>0.355330</td>\n",
       "      <td>0.009338</td>\n",
       "      <td>193</td>\n",
       "    </tr>\n",
       "    <tr>\n",
       "      <th>98</th>\n",
       "      <td>{'class_weight': None, 'criterion': 'entropy',...</td>\n",
       "      <td>0.355330</td>\n",
       "      <td>0.009338</td>\n",
       "      <td>193</td>\n",
       "    </tr>\n",
       "    <tr>\n",
       "      <th>49</th>\n",
       "      <td>{'class_weight': 'balanced', 'criterion': 'gin...</td>\n",
       "      <td>0.286358</td>\n",
       "      <td>0.028376</td>\n",
       "      <td>195</td>\n",
       "    </tr>\n",
       "    <tr>\n",
       "      <th>0</th>\n",
       "      <td>{'class_weight': 'balanced', 'criterion': 'ent...</td>\n",
       "      <td>0.286358</td>\n",
       "      <td>0.028376</td>\n",
       "      <td>195</td>\n",
       "    </tr>\n",
       "  </tbody>\n",
       "</table>\n",
       "<p>196 rows × 4 columns</p>\n",
       "</div>"
      ],
      "text/plain": [
       "                                                params  mean_test_score  \\\n",
       "70   {'class_weight': 'balanced', 'criterion': 'gin...         0.873121   \n",
       "69   {'class_weight': 'balanced', 'criterion': 'gin...         0.873121   \n",
       "97   {'class_weight': 'balanced', 'criterion': 'gin...         0.873116   \n",
       "95   {'class_weight': 'balanced', 'criterion': 'gin...         0.873116   \n",
       "94   {'class_weight': 'balanced', 'criterion': 'gin...         0.873116   \n",
       "..                                                 ...              ...   \n",
       "51   {'class_weight': 'balanced', 'criterion': 'gin...         0.373906   \n",
       "147  {'class_weight': None, 'criterion': 'gini', 'm...         0.355330   \n",
       "98   {'class_weight': None, 'criterion': 'entropy',...         0.355330   \n",
       "49   {'class_weight': 'balanced', 'criterion': 'gin...         0.286358   \n",
       "0    {'class_weight': 'balanced', 'criterion': 'ent...         0.286358   \n",
       "\n",
       "     std_test_score  rank_test_score  \n",
       "70         0.023998                1  \n",
       "69         0.026300                2  \n",
       "97         0.023911                3  \n",
       "95         0.023911                3  \n",
       "94         0.023911                3  \n",
       "..              ...              ...  \n",
       "51         0.044064              192  \n",
       "147        0.009338              193  \n",
       "98         0.009338              193  \n",
       "49         0.028376              195  \n",
       "0          0.028376              195  \n",
       "\n",
       "[196 rows x 4 columns]"
      ]
     },
     "execution_count": 26,
     "metadata": {},
     "output_type": "execute_result"
    }
   ],
   "source": [
    "tree_estimators = pd.DataFrame(grid.cv_results_)\n",
    "tree_estimators.sort_values('rank_test_score', inplace =True)\n",
    "tree_estimators[['params', 'mean_test_score', 'std_test_score', 'rank_test_score']]"
   ]
  },
  {
   "cell_type": "markdown",
   "metadata": {
    "colab": {
     "base_uri": "https://localhost:8080/",
     "height": 282
    },
    "id": "yRfMMBWvd75l",
    "outputId": "3647dfaa-1e86-49e8-93d0-cbca15122061"
   },
   "source": [
    " 4. Случайный лес\n",
    " \n",
    "Используя GridSearchCV попробуйте разные значения параметра n_estimators (5, 10, 50, 100), параметра max_depth (от 1 до 49), параметра class_weight (balanced, None), параметра criterion (entropy and gini).\n",
    "Используйте random_state=21 найдите наилучшую комбинацию параметров с точки зрения accuracy.\n",
    "Создайте из результатов gridsearch датафрейм и отсортируйте по возрастанию значений rank_test_score.\n",
    "Посмотрите есть ли между какими-то соседними комбинациями большая разница (иногда более простая модель может давать сопоставимый результат)."
   ]
  },
  {
   "cell_type": "code",
   "execution_count": 27,
   "metadata": {
    "id": "3rpYAMM2wCoG"
   },
   "outputs": [],
   "source": [
    "param_grid = {'n_estimators': [5, 10, 50, 100],\n",
    "              'max_depth' : range(1, 50),\n",
    "             'class_weight' : ['balanced', None],\n",
    "             'criterion' : ['entropy', 'gini']}"
   ]
  },
  {
   "cell_type": "code",
   "execution_count": 28,
   "metadata": {
    "colab": {
     "base_uri": "https://localhost:8080/"
    },
    "id": "nCIqtIL2hO8z",
    "outputId": "eb724129-c3e6-47f3-db47-4d36676a439a"
   },
   "outputs": [],
   "source": [
    "grid = GridSearchCV(estimator = RandomForestClassifier(random_state=21), param_grid = param_grid)"
   ]
  },
  {
   "cell_type": "code",
   "execution_count": 29,
   "metadata": {
    "colab": {
     "base_uri": "https://localhost:8080/"
    },
    "id": "w1MIJHIh2BkT",
    "outputId": "d4a15e53-4f6f-42d0-f8b6-04d48541b837"
   },
   "outputs": [
    {
     "data": {
      "text/html": [
       "<style>#sk-container-id-3 {color: black;background-color: white;}#sk-container-id-3 pre{padding: 0;}#sk-container-id-3 div.sk-toggleable {background-color: white;}#sk-container-id-3 label.sk-toggleable__label {cursor: pointer;display: block;width: 100%;margin-bottom: 0;padding: 0.3em;box-sizing: border-box;text-align: center;}#sk-container-id-3 label.sk-toggleable__label-arrow:before {content: \"▸\";float: left;margin-right: 0.25em;color: #696969;}#sk-container-id-3 label.sk-toggleable__label-arrow:hover:before {color: black;}#sk-container-id-3 div.sk-estimator:hover label.sk-toggleable__label-arrow:before {color: black;}#sk-container-id-3 div.sk-toggleable__content {max-height: 0;max-width: 0;overflow: hidden;text-align: left;background-color: #f0f8ff;}#sk-container-id-3 div.sk-toggleable__content pre {margin: 0.2em;color: black;border-radius: 0.25em;background-color: #f0f8ff;}#sk-container-id-3 input.sk-toggleable__control:checked~div.sk-toggleable__content {max-height: 200px;max-width: 100%;overflow: auto;}#sk-container-id-3 input.sk-toggleable__control:checked~label.sk-toggleable__label-arrow:before {content: \"▾\";}#sk-container-id-3 div.sk-estimator input.sk-toggleable__control:checked~label.sk-toggleable__label {background-color: #d4ebff;}#sk-container-id-3 div.sk-label input.sk-toggleable__control:checked~label.sk-toggleable__label {background-color: #d4ebff;}#sk-container-id-3 input.sk-hidden--visually {border: 0;clip: rect(1px 1px 1px 1px);clip: rect(1px, 1px, 1px, 1px);height: 1px;margin: -1px;overflow: hidden;padding: 0;position: absolute;width: 1px;}#sk-container-id-3 div.sk-estimator {font-family: monospace;background-color: #f0f8ff;border: 1px dotted black;border-radius: 0.25em;box-sizing: border-box;margin-bottom: 0.5em;}#sk-container-id-3 div.sk-estimator:hover {background-color: #d4ebff;}#sk-container-id-3 div.sk-parallel-item::after {content: \"\";width: 100%;border-bottom: 1px solid gray;flex-grow: 1;}#sk-container-id-3 div.sk-label:hover label.sk-toggleable__label {background-color: #d4ebff;}#sk-container-id-3 div.sk-serial::before {content: \"\";position: absolute;border-left: 1px solid gray;box-sizing: border-box;top: 0;bottom: 0;left: 50%;z-index: 0;}#sk-container-id-3 div.sk-serial {display: flex;flex-direction: column;align-items: center;background-color: white;padding-right: 0.2em;padding-left: 0.2em;position: relative;}#sk-container-id-3 div.sk-item {position: relative;z-index: 1;}#sk-container-id-3 div.sk-parallel {display: flex;align-items: stretch;justify-content: center;background-color: white;position: relative;}#sk-container-id-3 div.sk-item::before, #sk-container-id-3 div.sk-parallel-item::before {content: \"\";position: absolute;border-left: 1px solid gray;box-sizing: border-box;top: 0;bottom: 0;left: 50%;z-index: -1;}#sk-container-id-3 div.sk-parallel-item {display: flex;flex-direction: column;z-index: 1;position: relative;background-color: white;}#sk-container-id-3 div.sk-parallel-item:first-child::after {align-self: flex-end;width: 50%;}#sk-container-id-3 div.sk-parallel-item:last-child::after {align-self: flex-start;width: 50%;}#sk-container-id-3 div.sk-parallel-item:only-child::after {width: 0;}#sk-container-id-3 div.sk-dashed-wrapped {border: 1px dashed gray;margin: 0 0.4em 0.5em 0.4em;box-sizing: border-box;padding-bottom: 0.4em;background-color: white;}#sk-container-id-3 div.sk-label label {font-family: monospace;font-weight: bold;display: inline-block;line-height: 1.2em;}#sk-container-id-3 div.sk-label-container {text-align: center;}#sk-container-id-3 div.sk-container {/* jupyter's `normalize.less` sets `[hidden] { display: none; }` but bootstrap.min.css set `[hidden] { display: none !important; }` so we also need the `!important` here to be able to override the default hidden behavior on the sphinx rendered scikit-learn.org. See: https://github.com/scikit-learn/scikit-learn/issues/21755 */display: inline-block !important;position: relative;}#sk-container-id-3 div.sk-text-repr-fallback {display: none;}</style><div id=\"sk-container-id-3\" class=\"sk-top-container\"><div class=\"sk-text-repr-fallback\"><pre>GridSearchCV(estimator=RandomForestClassifier(random_state=21),\n",
       "             param_grid={&#x27;class_weight&#x27;: [&#x27;balanced&#x27;, None],\n",
       "                         &#x27;criterion&#x27;: [&#x27;entropy&#x27;, &#x27;gini&#x27;],\n",
       "                         &#x27;max_depth&#x27;: range(1, 50),\n",
       "                         &#x27;n_estimators&#x27;: [5, 10, 50, 100]})</pre><b>In a Jupyter environment, please rerun this cell to show the HTML representation or trust the notebook. <br />On GitHub, the HTML representation is unable to render, please try loading this page with nbviewer.org.</b></div><div class=\"sk-container\" hidden><div class=\"sk-item sk-dashed-wrapped\"><div class=\"sk-label-container\"><div class=\"sk-label sk-toggleable\"><input class=\"sk-toggleable__control sk-hidden--visually\" id=\"sk-estimator-id-7\" type=\"checkbox\" ><label for=\"sk-estimator-id-7\" class=\"sk-toggleable__label sk-toggleable__label-arrow\">GridSearchCV</label><div class=\"sk-toggleable__content\"><pre>GridSearchCV(estimator=RandomForestClassifier(random_state=21),\n",
       "             param_grid={&#x27;class_weight&#x27;: [&#x27;balanced&#x27;, None],\n",
       "                         &#x27;criterion&#x27;: [&#x27;entropy&#x27;, &#x27;gini&#x27;],\n",
       "                         &#x27;max_depth&#x27;: range(1, 50),\n",
       "                         &#x27;n_estimators&#x27;: [5, 10, 50, 100]})</pre></div></div></div><div class=\"sk-parallel\"><div class=\"sk-parallel-item\"><div class=\"sk-item\"><div class=\"sk-label-container\"><div class=\"sk-label sk-toggleable\"><input class=\"sk-toggleable__control sk-hidden--visually\" id=\"sk-estimator-id-8\" type=\"checkbox\" ><label for=\"sk-estimator-id-8\" class=\"sk-toggleable__label sk-toggleable__label-arrow\">estimator: RandomForestClassifier</label><div class=\"sk-toggleable__content\"><pre>RandomForestClassifier(random_state=21)</pre></div></div></div><div class=\"sk-serial\"><div class=\"sk-item\"><div class=\"sk-estimator sk-toggleable\"><input class=\"sk-toggleable__control sk-hidden--visually\" id=\"sk-estimator-id-9\" type=\"checkbox\" ><label for=\"sk-estimator-id-9\" class=\"sk-toggleable__label sk-toggleable__label-arrow\">RandomForestClassifier</label><div class=\"sk-toggleable__content\"><pre>RandomForestClassifier(random_state=21)</pre></div></div></div></div></div></div></div></div></div></div>"
      ],
      "text/plain": [
       "GridSearchCV(estimator=RandomForestClassifier(random_state=21),\n",
       "             param_grid={'class_weight': ['balanced', None],\n",
       "                         'criterion': ['entropy', 'gini'],\n",
       "                         'max_depth': range(1, 50),\n",
       "                         'n_estimators': [5, 10, 50, 100]})"
      ]
     },
     "execution_count": 29,
     "metadata": {},
     "output_type": "execute_result"
    }
   ],
   "source": [
    "grid.fit(X_train, y_train)"
   ]
  },
  {
   "cell_type": "code",
   "execution_count": 30,
   "metadata": {},
   "outputs": [
    {
     "data": {
      "text/plain": [
       "{'class_weight': None,\n",
       " 'criterion': 'gini',\n",
       " 'max_depth': 28,\n",
       " 'n_estimators': 50}"
      ]
     },
     "execution_count": 30,
     "metadata": {},
     "output_type": "execute_result"
    }
   ],
   "source": [
    "grid.best_params_"
   ]
  },
  {
   "cell_type": "code",
   "execution_count": 31,
   "metadata": {},
   "outputs": [
    {
     "data": {
      "text/html": [
       "<div>\n",
       "<style scoped>\n",
       "    .dataframe tbody tr th:only-of-type {\n",
       "        vertical-align: middle;\n",
       "    }\n",
       "\n",
       "    .dataframe tbody tr th {\n",
       "        vertical-align: top;\n",
       "    }\n",
       "\n",
       "    .dataframe thead th {\n",
       "        text-align: right;\n",
       "    }\n",
       "</style>\n",
       "<table border=\"1\" class=\"dataframe\">\n",
       "  <thead>\n",
       "    <tr style=\"text-align: right;\">\n",
       "      <th></th>\n",
       "      <th>params</th>\n",
       "      <th>mean_test_score</th>\n",
       "      <th>std_test_score</th>\n",
       "      <th>rank_test_score</th>\n",
       "    </tr>\n",
       "  </thead>\n",
       "  <tbody>\n",
       "    <tr>\n",
       "      <th>698</th>\n",
       "      <td>{'class_weight': None, 'criterion': 'gini', 'm...</td>\n",
       "      <td>0.904290</td>\n",
       "      <td>0.010961</td>\n",
       "      <td>1</td>\n",
       "    </tr>\n",
       "    <tr>\n",
       "      <th>711</th>\n",
       "      <td>{'class_weight': None, 'criterion': 'gini', 'm...</td>\n",
       "      <td>0.903547</td>\n",
       "      <td>0.014380</td>\n",
       "      <td>2</td>\n",
       "    </tr>\n",
       "    <tr>\n",
       "      <th>314</th>\n",
       "      <td>{'class_weight': 'balanced', 'criterion': 'gin...</td>\n",
       "      <td>0.902817</td>\n",
       "      <td>0.013554</td>\n",
       "      <td>3</td>\n",
       "    </tr>\n",
       "    <tr>\n",
       "      <th>330</th>\n",
       "      <td>{'class_weight': 'balanced', 'criterion': 'gin...</td>\n",
       "      <td>0.902809</td>\n",
       "      <td>0.013010</td>\n",
       "      <td>4</td>\n",
       "    </tr>\n",
       "    <tr>\n",
       "      <th>702</th>\n",
       "      <td>{'class_weight': None, 'criterion': 'gini', 'm...</td>\n",
       "      <td>0.902806</td>\n",
       "      <td>0.011698</td>\n",
       "      <td>5</td>\n",
       "    </tr>\n",
       "    <tr>\n",
       "      <th>...</th>\n",
       "      <td>...</td>\n",
       "      <td>...</td>\n",
       "      <td>...</td>\n",
       "      <td>...</td>\n",
       "    </tr>\n",
       "    <tr>\n",
       "      <th>392</th>\n",
       "      <td>{'class_weight': None, 'criterion': 'entropy',...</td>\n",
       "      <td>0.353832</td>\n",
       "      <td>0.016467</td>\n",
       "      <td>780</td>\n",
       "    </tr>\n",
       "    <tr>\n",
       "      <th>4</th>\n",
       "      <td>{'class_weight': 'balanced', 'criterion': 'ent...</td>\n",
       "      <td>0.353110</td>\n",
       "      <td>0.021165</td>\n",
       "      <td>781</td>\n",
       "    </tr>\n",
       "    <tr>\n",
       "      <th>200</th>\n",
       "      <td>{'class_weight': 'balanced', 'criterion': 'gin...</td>\n",
       "      <td>0.346419</td>\n",
       "      <td>0.029749</td>\n",
       "      <td>782</td>\n",
       "    </tr>\n",
       "    <tr>\n",
       "      <th>196</th>\n",
       "      <td>{'class_weight': 'balanced', 'criterion': 'gin...</td>\n",
       "      <td>0.283390</td>\n",
       "      <td>0.011062</td>\n",
       "      <td>783</td>\n",
       "    </tr>\n",
       "    <tr>\n",
       "      <th>0</th>\n",
       "      <td>{'class_weight': 'balanced', 'criterion': 'ent...</td>\n",
       "      <td>0.270794</td>\n",
       "      <td>0.024718</td>\n",
       "      <td>784</td>\n",
       "    </tr>\n",
       "  </tbody>\n",
       "</table>\n",
       "<p>784 rows × 4 columns</p>\n",
       "</div>"
      ],
      "text/plain": [
       "                                                params  mean_test_score  \\\n",
       "698  {'class_weight': None, 'criterion': 'gini', 'm...         0.904290   \n",
       "711  {'class_weight': None, 'criterion': 'gini', 'm...         0.903547   \n",
       "314  {'class_weight': 'balanced', 'criterion': 'gin...         0.902817   \n",
       "330  {'class_weight': 'balanced', 'criterion': 'gin...         0.902809   \n",
       "702  {'class_weight': None, 'criterion': 'gini', 'm...         0.902806   \n",
       "..                                                 ...              ...   \n",
       "392  {'class_weight': None, 'criterion': 'entropy',...         0.353832   \n",
       "4    {'class_weight': 'balanced', 'criterion': 'ent...         0.353110   \n",
       "200  {'class_weight': 'balanced', 'criterion': 'gin...         0.346419   \n",
       "196  {'class_weight': 'balanced', 'criterion': 'gin...         0.283390   \n",
       "0    {'class_weight': 'balanced', 'criterion': 'ent...         0.270794   \n",
       "\n",
       "     std_test_score  rank_test_score  \n",
       "698        0.010961                1  \n",
       "711        0.014380                2  \n",
       "314        0.013554                3  \n",
       "330        0.013010                4  \n",
       "702        0.011698                5  \n",
       "..              ...              ...  \n",
       "392        0.016467              780  \n",
       "4          0.021165              781  \n",
       "200        0.029749              782  \n",
       "196        0.011062              783  \n",
       "0          0.024718              784  \n",
       "\n",
       "[784 rows x 4 columns]"
      ]
     },
     "execution_count": 31,
     "metadata": {},
     "output_type": "execute_result"
    }
   ],
   "source": [
    "forest_estimators = pd.DataFrame(grid.cv_results_)\n",
    "forest_estimators.sort_values('rank_test_score', inplace =True)\n",
    "forest_estimators[['params', 'mean_test_score', 'std_test_score', 'rank_test_score']]"
   ]
  },
  {
   "cell_type": "markdown",
   "metadata": {
    "colab": {
     "base_uri": "https://localhost:8080/"
    },
    "id": "RMYZudOE2oGS",
    "outputId": "ad900a27-ec07-41a4-c1e6-fa27b3d2ca27"
   },
   "source": [
    " 5. Индикатор прогресса\n",
    " Gridsearch может занимать довольно много времени, и вам может быть интересно, а сколько еще ждать до конца. Для этого есть способ.\n",
    "Напишите свой собственный gridsearch для тех же самых интервалов параметров случайного леса.\n",
    "Итерируйтесь по списку возможных комбинаций значений и рассчитывайте cross_val_score для каждой комбинации.\n",
    "Попробуйте увеличить параметр n_jobs. \n",
    "Значение cv для cross_val_score равно 5.\n",
    "Следите за прогрессом, используя библиотеку tqdm.notebook.\n",
    "Создайте датафрейм на основе результатов gridsearch со столбцами, соответствующими названиям параметров, а также их mean_accuracy и std_accuracy.\n",
    "Отсортируйте датафрейм по убыванию mean_accuracy. \n",
    "Посмотрите есть ли между какими-то соседними комбинациями большая разница (иногда более простая модель может давать сопоставимый результат)."
   ]
  },
  {
   "cell_type": "code",
   "execution_count": 32,
   "metadata": {
    "id": "y1zORwSywe01"
   },
   "outputs": [],
   "source": [
    "n_estimators = [5, 10, 50, 100]\n",
    "max_depth = list(range(1, 50))\n",
    "class_weight = ['balanced', None]\n",
    "criterion = ['entropy', 'gini']"
   ]
  },
  {
   "cell_type": "code",
   "execution_count": 33,
   "metadata": {},
   "outputs": [],
   "source": [
    "n_estimators_list = []\n",
    "max_depth_list = []\n",
    "class_weight_list = []\n",
    "criterion_list = []\n",
    "mean_list = []\n",
    "std_list = []"
   ]
  },
  {
   "cell_type": "code",
   "execution_count": 34,
   "metadata": {},
   "outputs": [
    {
     "data": {
      "application/vnd.jupyter.widget-view+json": {
       "model_id": "81263de2eaed4cf49fa4243bd39c2d77",
       "version_major": 2,
       "version_minor": 0
      },
      "text/plain": [
       "5, 1, balanced, entropy:   0%|          | 0/2 [00:00<?, ?it/s]"
      ]
     },
     "metadata": {},
     "output_type": "display_data"
    },
    {
     "data": {
      "application/vnd.jupyter.widget-view+json": {
       "model_id": "c8800b2845484e1ebc15131e2c93d240",
       "version_major": 2,
       "version_minor": 0
      },
      "text/plain": [
       "5, 1, None, gini:   0%|          | 0/2 [00:00<?, ?it/s]"
      ]
     },
     "metadata": {},
     "output_type": "display_data"
    },
    {
     "data": {
      "application/vnd.jupyter.widget-view+json": {
       "model_id": "18023c24f06141ca9e198cf1bcbff6f8",
       "version_major": 2,
       "version_minor": 0
      },
      "text/plain": [
       "5, 2, balanced, gini:   0%|          | 0/2 [00:00<?, ?it/s]"
      ]
     },
     "metadata": {},
     "output_type": "display_data"
    },
    {
     "data": {
      "application/vnd.jupyter.widget-view+json": {
       "model_id": "5a8262f840304719a2aebcfc80482f6e",
       "version_major": 2,
       "version_minor": 0
      },
      "text/plain": [
       "5, 2, None, gini:   0%|          | 0/2 [00:00<?, ?it/s]"
      ]
     },
     "metadata": {},
     "output_type": "display_data"
    },
    {
     "data": {
      "application/vnd.jupyter.widget-view+json": {
       "model_id": "2898e0c410fb4ffaa121b9dfe4a1e094",
       "version_major": 2,
       "version_minor": 0
      },
      "text/plain": [
       "5, 3, balanced, gini:   0%|          | 0/2 [00:00<?, ?it/s]"
      ]
     },
     "metadata": {},
     "output_type": "display_data"
    },
    {
     "data": {
      "application/vnd.jupyter.widget-view+json": {
       "model_id": "f157da147d8f42b1a905e35f2c3dda6e",
       "version_major": 2,
       "version_minor": 0
      },
      "text/plain": [
       "5, 3, None, gini:   0%|          | 0/2 [00:00<?, ?it/s]"
      ]
     },
     "metadata": {},
     "output_type": "display_data"
    },
    {
     "data": {
      "application/vnd.jupyter.widget-view+json": {
       "model_id": "32ba79e1406e43e2aaea51dd15d71e2e",
       "version_major": 2,
       "version_minor": 0
      },
      "text/plain": [
       "5, 4, balanced, gini:   0%|          | 0/2 [00:00<?, ?it/s]"
      ]
     },
     "metadata": {},
     "output_type": "display_data"
    },
    {
     "data": {
      "application/vnd.jupyter.widget-view+json": {
       "model_id": "e38c6a31362e4f31b493a06b94238345",
       "version_major": 2,
       "version_minor": 0
      },
      "text/plain": [
       "5, 4, None, gini:   0%|          | 0/2 [00:00<?, ?it/s]"
      ]
     },
     "metadata": {},
     "output_type": "display_data"
    },
    {
     "data": {
      "application/vnd.jupyter.widget-view+json": {
       "model_id": "8b3291ff6fa0414c868839e5854b0c84",
       "version_major": 2,
       "version_minor": 0
      },
      "text/plain": [
       "5, 5, balanced, gini:   0%|          | 0/2 [00:00<?, ?it/s]"
      ]
     },
     "metadata": {},
     "output_type": "display_data"
    },
    {
     "data": {
      "application/vnd.jupyter.widget-view+json": {
       "model_id": "8050938c7ff9462c8ca1b007be16ccf7",
       "version_major": 2,
       "version_minor": 0
      },
      "text/plain": [
       "5, 5, None, gini:   0%|          | 0/2 [00:00<?, ?it/s]"
      ]
     },
     "metadata": {},
     "output_type": "display_data"
    },
    {
     "data": {
      "application/vnd.jupyter.widget-view+json": {
       "model_id": "092b37d69d7445c9ae072f834abf6448",
       "version_major": 2,
       "version_minor": 0
      },
      "text/plain": [
       "5, 6, balanced, gini:   0%|          | 0/2 [00:00<?, ?it/s]"
      ]
     },
     "metadata": {},
     "output_type": "display_data"
    },
    {
     "data": {
      "application/vnd.jupyter.widget-view+json": {
       "model_id": "4da4d576483e4241aa81fa1fa5fd5558",
       "version_major": 2,
       "version_minor": 0
      },
      "text/plain": [
       "5, 6, None, gini:   0%|          | 0/2 [00:00<?, ?it/s]"
      ]
     },
     "metadata": {},
     "output_type": "display_data"
    },
    {
     "data": {
      "application/vnd.jupyter.widget-view+json": {
       "model_id": "c5dbeab1d2cf4ccc91afc144f492ecb6",
       "version_major": 2,
       "version_minor": 0
      },
      "text/plain": [
       "5, 7, balanced, gini:   0%|          | 0/2 [00:00<?, ?it/s]"
      ]
     },
     "metadata": {},
     "output_type": "display_data"
    },
    {
     "data": {
      "application/vnd.jupyter.widget-view+json": {
       "model_id": "37640469477a44bdb32c2d3111dc458e",
       "version_major": 2,
       "version_minor": 0
      },
      "text/plain": [
       "5, 7, None, gini:   0%|          | 0/2 [00:00<?, ?it/s]"
      ]
     },
     "metadata": {},
     "output_type": "display_data"
    },
    {
     "data": {
      "application/vnd.jupyter.widget-view+json": {
       "model_id": "00036d14d86f4fd3a909a0cd3eced367",
       "version_major": 2,
       "version_minor": 0
      },
      "text/plain": [
       "5, 8, balanced, gini:   0%|          | 0/2 [00:00<?, ?it/s]"
      ]
     },
     "metadata": {},
     "output_type": "display_data"
    },
    {
     "data": {
      "application/vnd.jupyter.widget-view+json": {
       "model_id": "7712840ba2b9428db0d76ffdc90913de",
       "version_major": 2,
       "version_minor": 0
      },
      "text/plain": [
       "5, 8, None, gini:   0%|          | 0/2 [00:00<?, ?it/s]"
      ]
     },
     "metadata": {},
     "output_type": "display_data"
    },
    {
     "data": {
      "application/vnd.jupyter.widget-view+json": {
       "model_id": "903d7240641e481a83222e8c0583c4ec",
       "version_major": 2,
       "version_minor": 0
      },
      "text/plain": [
       "5, 9, balanced, gini:   0%|          | 0/2 [00:00<?, ?it/s]"
      ]
     },
     "metadata": {},
     "output_type": "display_data"
    },
    {
     "data": {
      "application/vnd.jupyter.widget-view+json": {
       "model_id": "c0c86447f831421b839344f188766bb7",
       "version_major": 2,
       "version_minor": 0
      },
      "text/plain": [
       "5, 9, None, gini:   0%|          | 0/2 [00:00<?, ?it/s]"
      ]
     },
     "metadata": {},
     "output_type": "display_data"
    },
    {
     "data": {
      "application/vnd.jupyter.widget-view+json": {
       "model_id": "925a04697c1841dd8a9fca2a3da3da14",
       "version_major": 2,
       "version_minor": 0
      },
      "text/plain": [
       "5, 10, balanced, gini:   0%|          | 0/2 [00:00<?, ?it/s]"
      ]
     },
     "metadata": {},
     "output_type": "display_data"
    },
    {
     "data": {
      "application/vnd.jupyter.widget-view+json": {
       "model_id": "1591e8e3fc0d453193510bd156ea7a72",
       "version_major": 2,
       "version_minor": 0
      },
      "text/plain": [
       "5, 10, None, gini:   0%|          | 0/2 [00:00<?, ?it/s]"
      ]
     },
     "metadata": {},
     "output_type": "display_data"
    },
    {
     "data": {
      "application/vnd.jupyter.widget-view+json": {
       "model_id": "477c2db36b0d418ab35eba7fe257ddb8",
       "version_major": 2,
       "version_minor": 0
      },
      "text/plain": [
       "5, 11, balanced, gini:   0%|          | 0/2 [00:00<?, ?it/s]"
      ]
     },
     "metadata": {},
     "output_type": "display_data"
    },
    {
     "data": {
      "application/vnd.jupyter.widget-view+json": {
       "model_id": "fe92894160bd4f10a49b977f25474c96",
       "version_major": 2,
       "version_minor": 0
      },
      "text/plain": [
       "5, 11, None, gini:   0%|          | 0/2 [00:00<?, ?it/s]"
      ]
     },
     "metadata": {},
     "output_type": "display_data"
    },
    {
     "data": {
      "application/vnd.jupyter.widget-view+json": {
       "model_id": "8132426238554974a73db1ff968bbe4c",
       "version_major": 2,
       "version_minor": 0
      },
      "text/plain": [
       "5, 12, balanced, gini:   0%|          | 0/2 [00:00<?, ?it/s]"
      ]
     },
     "metadata": {},
     "output_type": "display_data"
    },
    {
     "data": {
      "application/vnd.jupyter.widget-view+json": {
       "model_id": "d7bad73386cf49078f56e06e7bb61266",
       "version_major": 2,
       "version_minor": 0
      },
      "text/plain": [
       "5, 12, None, gini:   0%|          | 0/2 [00:00<?, ?it/s]"
      ]
     },
     "metadata": {},
     "output_type": "display_data"
    },
    {
     "data": {
      "application/vnd.jupyter.widget-view+json": {
       "model_id": "6c29fb8083514e2cb21e15500c9c7628",
       "version_major": 2,
       "version_minor": 0
      },
      "text/plain": [
       "5, 13, balanced, gini:   0%|          | 0/2 [00:00<?, ?it/s]"
      ]
     },
     "metadata": {},
     "output_type": "display_data"
    },
    {
     "data": {
      "application/vnd.jupyter.widget-view+json": {
       "model_id": "3113ede669db49029db4dddb64b2f4a6",
       "version_major": 2,
       "version_minor": 0
      },
      "text/plain": [
       "5, 13, None, gini:   0%|          | 0/2 [00:00<?, ?it/s]"
      ]
     },
     "metadata": {},
     "output_type": "display_data"
    },
    {
     "data": {
      "application/vnd.jupyter.widget-view+json": {
       "model_id": "6de37973609c46ca905c1fe8889bf83f",
       "version_major": 2,
       "version_minor": 0
      },
      "text/plain": [
       "5, 14, balanced, gini:   0%|          | 0/2 [00:00<?, ?it/s]"
      ]
     },
     "metadata": {},
     "output_type": "display_data"
    },
    {
     "data": {
      "application/vnd.jupyter.widget-view+json": {
       "model_id": "f2c9c1f5f9eb446ca8e51b766ad3251e",
       "version_major": 2,
       "version_minor": 0
      },
      "text/plain": [
       "5, 14, None, gini:   0%|          | 0/2 [00:00<?, ?it/s]"
      ]
     },
     "metadata": {},
     "output_type": "display_data"
    },
    {
     "data": {
      "application/vnd.jupyter.widget-view+json": {
       "model_id": "9b948e9a7e6c443cadc8222cd67dea4e",
       "version_major": 2,
       "version_minor": 0
      },
      "text/plain": [
       "5, 15, balanced, gini:   0%|          | 0/2 [00:00<?, ?it/s]"
      ]
     },
     "metadata": {},
     "output_type": "display_data"
    },
    {
     "data": {
      "application/vnd.jupyter.widget-view+json": {
       "model_id": "74e938c1de814f60abcfa1a9e04bbe66",
       "version_major": 2,
       "version_minor": 0
      },
      "text/plain": [
       "5, 15, None, gini:   0%|          | 0/2 [00:00<?, ?it/s]"
      ]
     },
     "metadata": {},
     "output_type": "display_data"
    },
    {
     "data": {
      "application/vnd.jupyter.widget-view+json": {
       "model_id": "9cf439d577c54301bc9b32e117d42c75",
       "version_major": 2,
       "version_minor": 0
      },
      "text/plain": [
       "5, 16, balanced, gini:   0%|          | 0/2 [00:00<?, ?it/s]"
      ]
     },
     "metadata": {},
     "output_type": "display_data"
    },
    {
     "data": {
      "application/vnd.jupyter.widget-view+json": {
       "model_id": "cdba060a84f5483e8c3acfa307647d12",
       "version_major": 2,
       "version_minor": 0
      },
      "text/plain": [
       "5, 16, None, gini:   0%|          | 0/2 [00:00<?, ?it/s]"
      ]
     },
     "metadata": {},
     "output_type": "display_data"
    },
    {
     "data": {
      "application/vnd.jupyter.widget-view+json": {
       "model_id": "6c1f6af5f5b649e3b08d49d0a80ea66e",
       "version_major": 2,
       "version_minor": 0
      },
      "text/plain": [
       "5, 17, balanced, gini:   0%|          | 0/2 [00:00<?, ?it/s]"
      ]
     },
     "metadata": {},
     "output_type": "display_data"
    },
    {
     "data": {
      "application/vnd.jupyter.widget-view+json": {
       "model_id": "8ecaeb39d68944b981764e6d1ce454c2",
       "version_major": 2,
       "version_minor": 0
      },
      "text/plain": [
       "5, 17, None, gini:   0%|          | 0/2 [00:00<?, ?it/s]"
      ]
     },
     "metadata": {},
     "output_type": "display_data"
    },
    {
     "data": {
      "application/vnd.jupyter.widget-view+json": {
       "model_id": "828593ebafbe4cc5a9e1ffc0da8ccd8b",
       "version_major": 2,
       "version_minor": 0
      },
      "text/plain": [
       "5, 18, balanced, gini:   0%|          | 0/2 [00:00<?, ?it/s]"
      ]
     },
     "metadata": {},
     "output_type": "display_data"
    },
    {
     "data": {
      "application/vnd.jupyter.widget-view+json": {
       "model_id": "549d6e92ad8e47eaaa38b6854dcdb312",
       "version_major": 2,
       "version_minor": 0
      },
      "text/plain": [
       "5, 18, None, gini:   0%|          | 0/2 [00:00<?, ?it/s]"
      ]
     },
     "metadata": {},
     "output_type": "display_data"
    },
    {
     "data": {
      "application/vnd.jupyter.widget-view+json": {
       "model_id": "39cf4d3882bf4725a05b9129a1d07bf3",
       "version_major": 2,
       "version_minor": 0
      },
      "text/plain": [
       "5, 19, balanced, gini:   0%|          | 0/2 [00:00<?, ?it/s]"
      ]
     },
     "metadata": {},
     "output_type": "display_data"
    },
    {
     "data": {
      "application/vnd.jupyter.widget-view+json": {
       "model_id": "1b18ec4829e74a078878a4a6990eb994",
       "version_major": 2,
       "version_minor": 0
      },
      "text/plain": [
       "5, 19, None, gini:   0%|          | 0/2 [00:00<?, ?it/s]"
      ]
     },
     "metadata": {},
     "output_type": "display_data"
    },
    {
     "data": {
      "application/vnd.jupyter.widget-view+json": {
       "model_id": "98066c3488e44d8cb88e6bbac719e806",
       "version_major": 2,
       "version_minor": 0
      },
      "text/plain": [
       "5, 20, balanced, gini:   0%|          | 0/2 [00:00<?, ?it/s]"
      ]
     },
     "metadata": {},
     "output_type": "display_data"
    },
    {
     "data": {
      "application/vnd.jupyter.widget-view+json": {
       "model_id": "2f930da734cb4b3c8d4680031123d240",
       "version_major": 2,
       "version_minor": 0
      },
      "text/plain": [
       "5, 20, None, gini:   0%|          | 0/2 [00:00<?, ?it/s]"
      ]
     },
     "metadata": {},
     "output_type": "display_data"
    },
    {
     "data": {
      "application/vnd.jupyter.widget-view+json": {
       "model_id": "8b23b1e8a4544453a6e98ffd3328943d",
       "version_major": 2,
       "version_minor": 0
      },
      "text/plain": [
       "5, 21, balanced, gini:   0%|          | 0/2 [00:00<?, ?it/s]"
      ]
     },
     "metadata": {},
     "output_type": "display_data"
    },
    {
     "data": {
      "application/vnd.jupyter.widget-view+json": {
       "model_id": "ab0f4ea89507463f9ccd53203ed4c3bd",
       "version_major": 2,
       "version_minor": 0
      },
      "text/plain": [
       "5, 21, None, gini:   0%|          | 0/2 [00:00<?, ?it/s]"
      ]
     },
     "metadata": {},
     "output_type": "display_data"
    },
    {
     "data": {
      "application/vnd.jupyter.widget-view+json": {
       "model_id": "91ee8f85c6644d4b9e447f9f9145393b",
       "version_major": 2,
       "version_minor": 0
      },
      "text/plain": [
       "5, 22, balanced, gini:   0%|          | 0/2 [00:00<?, ?it/s]"
      ]
     },
     "metadata": {},
     "output_type": "display_data"
    },
    {
     "data": {
      "application/vnd.jupyter.widget-view+json": {
       "model_id": "e878851068bf4910b1fa8a5051878611",
       "version_major": 2,
       "version_minor": 0
      },
      "text/plain": [
       "5, 22, None, gini:   0%|          | 0/2 [00:00<?, ?it/s]"
      ]
     },
     "metadata": {},
     "output_type": "display_data"
    },
    {
     "data": {
      "application/vnd.jupyter.widget-view+json": {
       "model_id": "6304cef400a845db8efc5c43b7a24e09",
       "version_major": 2,
       "version_minor": 0
      },
      "text/plain": [
       "5, 23, balanced, gini:   0%|          | 0/2 [00:00<?, ?it/s]"
      ]
     },
     "metadata": {},
     "output_type": "display_data"
    },
    {
     "data": {
      "application/vnd.jupyter.widget-view+json": {
       "model_id": "5ce1dc6c6f67454c895aa54a4b76565d",
       "version_major": 2,
       "version_minor": 0
      },
      "text/plain": [
       "5, 23, None, gini:   0%|          | 0/2 [00:00<?, ?it/s]"
      ]
     },
     "metadata": {},
     "output_type": "display_data"
    },
    {
     "data": {
      "application/vnd.jupyter.widget-view+json": {
       "model_id": "dadddf94ffb74789aebc22565d591836",
       "version_major": 2,
       "version_minor": 0
      },
      "text/plain": [
       "5, 24, balanced, gini:   0%|          | 0/2 [00:00<?, ?it/s]"
      ]
     },
     "metadata": {},
     "output_type": "display_data"
    },
    {
     "data": {
      "application/vnd.jupyter.widget-view+json": {
       "model_id": "3ec9831919a24914a83b5a048dd56615",
       "version_major": 2,
       "version_minor": 0
      },
      "text/plain": [
       "5, 24, None, gini:   0%|          | 0/2 [00:00<?, ?it/s]"
      ]
     },
     "metadata": {},
     "output_type": "display_data"
    },
    {
     "data": {
      "application/vnd.jupyter.widget-view+json": {
       "model_id": "ae7e57bd6f644a5ea3ebadcdf75b1257",
       "version_major": 2,
       "version_minor": 0
      },
      "text/plain": [
       "5, 25, balanced, gini:   0%|          | 0/2 [00:00<?, ?it/s]"
      ]
     },
     "metadata": {},
     "output_type": "display_data"
    },
    {
     "data": {
      "application/vnd.jupyter.widget-view+json": {
       "model_id": "7be5b306fd7a42f1a2adfb0ccee6fe7d",
       "version_major": 2,
       "version_minor": 0
      },
      "text/plain": [
       "5, 25, None, gini:   0%|          | 0/2 [00:00<?, ?it/s]"
      ]
     },
     "metadata": {},
     "output_type": "display_data"
    },
    {
     "data": {
      "application/vnd.jupyter.widget-view+json": {
       "model_id": "0943265fba0144be8b0c2e34da990e15",
       "version_major": 2,
       "version_minor": 0
      },
      "text/plain": [
       "5, 26, balanced, gini:   0%|          | 0/2 [00:00<?, ?it/s]"
      ]
     },
     "metadata": {},
     "output_type": "display_data"
    },
    {
     "data": {
      "application/vnd.jupyter.widget-view+json": {
       "model_id": "e6676f54dcc6478b9ba26715c5c51d9f",
       "version_major": 2,
       "version_minor": 0
      },
      "text/plain": [
       "5, 26, None, gini:   0%|          | 0/2 [00:00<?, ?it/s]"
      ]
     },
     "metadata": {},
     "output_type": "display_data"
    },
    {
     "data": {
      "application/vnd.jupyter.widget-view+json": {
       "model_id": "0cf650a6610e4ba98e0365ba8b00a617",
       "version_major": 2,
       "version_minor": 0
      },
      "text/plain": [
       "5, 27, balanced, gini:   0%|          | 0/2 [00:00<?, ?it/s]"
      ]
     },
     "metadata": {},
     "output_type": "display_data"
    },
    {
     "data": {
      "application/vnd.jupyter.widget-view+json": {
       "model_id": "10f0159ce18b4d61ab2757755b7a4fa2",
       "version_major": 2,
       "version_minor": 0
      },
      "text/plain": [
       "5, 27, None, gini:   0%|          | 0/2 [00:00<?, ?it/s]"
      ]
     },
     "metadata": {},
     "output_type": "display_data"
    },
    {
     "data": {
      "application/vnd.jupyter.widget-view+json": {
       "model_id": "53ad9e63dc8b45b6be991dde2a1cd428",
       "version_major": 2,
       "version_minor": 0
      },
      "text/plain": [
       "5, 28, balanced, gini:   0%|          | 0/2 [00:00<?, ?it/s]"
      ]
     },
     "metadata": {},
     "output_type": "display_data"
    },
    {
     "data": {
      "application/vnd.jupyter.widget-view+json": {
       "model_id": "30cc359840174b2783c3d768cc456b8b",
       "version_major": 2,
       "version_minor": 0
      },
      "text/plain": [
       "5, 28, None, gini:   0%|          | 0/2 [00:00<?, ?it/s]"
      ]
     },
     "metadata": {},
     "output_type": "display_data"
    },
    {
     "data": {
      "application/vnd.jupyter.widget-view+json": {
       "model_id": "2da74d9c3b714c428ee97f6a848eb0da",
       "version_major": 2,
       "version_minor": 0
      },
      "text/plain": [
       "5, 29, balanced, gini:   0%|          | 0/2 [00:00<?, ?it/s]"
      ]
     },
     "metadata": {},
     "output_type": "display_data"
    },
    {
     "data": {
      "application/vnd.jupyter.widget-view+json": {
       "model_id": "bbe1182c3aab4e27a10a045765a79a99",
       "version_major": 2,
       "version_minor": 0
      },
      "text/plain": [
       "5, 29, None, gini:   0%|          | 0/2 [00:00<?, ?it/s]"
      ]
     },
     "metadata": {},
     "output_type": "display_data"
    },
    {
     "data": {
      "application/vnd.jupyter.widget-view+json": {
       "model_id": "53701890ebf0409aa1b4fa79ec76d1d6",
       "version_major": 2,
       "version_minor": 0
      },
      "text/plain": [
       "5, 30, balanced, gini:   0%|          | 0/2 [00:00<?, ?it/s]"
      ]
     },
     "metadata": {},
     "output_type": "display_data"
    },
    {
     "data": {
      "application/vnd.jupyter.widget-view+json": {
       "model_id": "124f86858888435a80fb9e5b8cb57aa6",
       "version_major": 2,
       "version_minor": 0
      },
      "text/plain": [
       "5, 30, None, gini:   0%|          | 0/2 [00:00<?, ?it/s]"
      ]
     },
     "metadata": {},
     "output_type": "display_data"
    },
    {
     "data": {
      "application/vnd.jupyter.widget-view+json": {
       "model_id": "f182333fdebf45c5b8664d13a862187c",
       "version_major": 2,
       "version_minor": 0
      },
      "text/plain": [
       "5, 31, balanced, gini:   0%|          | 0/2 [00:00<?, ?it/s]"
      ]
     },
     "metadata": {},
     "output_type": "display_data"
    },
    {
     "data": {
      "application/vnd.jupyter.widget-view+json": {
       "model_id": "642e16b49f11468282f85c08d68680e0",
       "version_major": 2,
       "version_minor": 0
      },
      "text/plain": [
       "5, 31, None, gini:   0%|          | 0/2 [00:00<?, ?it/s]"
      ]
     },
     "metadata": {},
     "output_type": "display_data"
    },
    {
     "data": {
      "application/vnd.jupyter.widget-view+json": {
       "model_id": "1b6af0625c68452d9fdc2311302a9b6a",
       "version_major": 2,
       "version_minor": 0
      },
      "text/plain": [
       "5, 32, balanced, gini:   0%|          | 0/2 [00:00<?, ?it/s]"
      ]
     },
     "metadata": {},
     "output_type": "display_data"
    },
    {
     "data": {
      "application/vnd.jupyter.widget-view+json": {
       "model_id": "ea08e90c313f4f7eb4c4c45160a1d544",
       "version_major": 2,
       "version_minor": 0
      },
      "text/plain": [
       "5, 32, None, gini:   0%|          | 0/2 [00:00<?, ?it/s]"
      ]
     },
     "metadata": {},
     "output_type": "display_data"
    },
    {
     "data": {
      "application/vnd.jupyter.widget-view+json": {
       "model_id": "f347287c73ca4c7ea42a4bad0a28a6d9",
       "version_major": 2,
       "version_minor": 0
      },
      "text/plain": [
       "5, 33, balanced, gini:   0%|          | 0/2 [00:00<?, ?it/s]"
      ]
     },
     "metadata": {},
     "output_type": "display_data"
    },
    {
     "data": {
      "application/vnd.jupyter.widget-view+json": {
       "model_id": "75b5ba999543432e810734efde0661b7",
       "version_major": 2,
       "version_minor": 0
      },
      "text/plain": [
       "5, 33, None, gini:   0%|          | 0/2 [00:00<?, ?it/s]"
      ]
     },
     "metadata": {},
     "output_type": "display_data"
    },
    {
     "data": {
      "application/vnd.jupyter.widget-view+json": {
       "model_id": "426f74b759894a2a854ce136dc2d2e67",
       "version_major": 2,
       "version_minor": 0
      },
      "text/plain": [
       "5, 34, balanced, gini:   0%|          | 0/2 [00:00<?, ?it/s]"
      ]
     },
     "metadata": {},
     "output_type": "display_data"
    },
    {
     "data": {
      "application/vnd.jupyter.widget-view+json": {
       "model_id": "11f23790ee5d46c2acff4eda0ce9b813",
       "version_major": 2,
       "version_minor": 0
      },
      "text/plain": [
       "5, 34, None, gini:   0%|          | 0/2 [00:00<?, ?it/s]"
      ]
     },
     "metadata": {},
     "output_type": "display_data"
    },
    {
     "data": {
      "application/vnd.jupyter.widget-view+json": {
       "model_id": "bf0cb30857784503b7f6a7d86d506151",
       "version_major": 2,
       "version_minor": 0
      },
      "text/plain": [
       "5, 35, balanced, gini:   0%|          | 0/2 [00:00<?, ?it/s]"
      ]
     },
     "metadata": {},
     "output_type": "display_data"
    },
    {
     "data": {
      "application/vnd.jupyter.widget-view+json": {
       "model_id": "1e96dfdc46cb40ee8b9b3cb173d7141d",
       "version_major": 2,
       "version_minor": 0
      },
      "text/plain": [
       "5, 35, None, gini:   0%|          | 0/2 [00:00<?, ?it/s]"
      ]
     },
     "metadata": {},
     "output_type": "display_data"
    },
    {
     "data": {
      "application/vnd.jupyter.widget-view+json": {
       "model_id": "f8c91d54ce3947e7a7db213de6a8a820",
       "version_major": 2,
       "version_minor": 0
      },
      "text/plain": [
       "5, 36, balanced, gini:   0%|          | 0/2 [00:00<?, ?it/s]"
      ]
     },
     "metadata": {},
     "output_type": "display_data"
    },
    {
     "data": {
      "application/vnd.jupyter.widget-view+json": {
       "model_id": "c652c2da374f4017a82dbe86121f2dd8",
       "version_major": 2,
       "version_minor": 0
      },
      "text/plain": [
       "5, 36, None, gini:   0%|          | 0/2 [00:00<?, ?it/s]"
      ]
     },
     "metadata": {},
     "output_type": "display_data"
    },
    {
     "data": {
      "application/vnd.jupyter.widget-view+json": {
       "model_id": "a24463521a6b4ce5a39a418a3322d2ca",
       "version_major": 2,
       "version_minor": 0
      },
      "text/plain": [
       "5, 37, balanced, gini:   0%|          | 0/2 [00:00<?, ?it/s]"
      ]
     },
     "metadata": {},
     "output_type": "display_data"
    },
    {
     "data": {
      "application/vnd.jupyter.widget-view+json": {
       "model_id": "3a6b81a4c32b4600af3ca169f2f2ddcf",
       "version_major": 2,
       "version_minor": 0
      },
      "text/plain": [
       "5, 37, None, gini:   0%|          | 0/2 [00:00<?, ?it/s]"
      ]
     },
     "metadata": {},
     "output_type": "display_data"
    },
    {
     "data": {
      "application/vnd.jupyter.widget-view+json": {
       "model_id": "776e0ee7f3ba4503b5d6e0b477621135",
       "version_major": 2,
       "version_minor": 0
      },
      "text/plain": [
       "5, 38, balanced, gini:   0%|          | 0/2 [00:00<?, ?it/s]"
      ]
     },
     "metadata": {},
     "output_type": "display_data"
    },
    {
     "data": {
      "application/vnd.jupyter.widget-view+json": {
       "model_id": "939c4a2180c04cbf993f2cc61bae0bc8",
       "version_major": 2,
       "version_minor": 0
      },
      "text/plain": [
       "5, 38, None, gini:   0%|          | 0/2 [00:00<?, ?it/s]"
      ]
     },
     "metadata": {},
     "output_type": "display_data"
    },
    {
     "data": {
      "application/vnd.jupyter.widget-view+json": {
       "model_id": "6000827922fc4f2b952c067b57d29770",
       "version_major": 2,
       "version_minor": 0
      },
      "text/plain": [
       "5, 39, balanced, gini:   0%|          | 0/2 [00:00<?, ?it/s]"
      ]
     },
     "metadata": {},
     "output_type": "display_data"
    },
    {
     "data": {
      "application/vnd.jupyter.widget-view+json": {
       "model_id": "cfd019f3d41e464486a17d73b03b1eb4",
       "version_major": 2,
       "version_minor": 0
      },
      "text/plain": [
       "5, 39, None, gini:   0%|          | 0/2 [00:00<?, ?it/s]"
      ]
     },
     "metadata": {},
     "output_type": "display_data"
    },
    {
     "data": {
      "application/vnd.jupyter.widget-view+json": {
       "model_id": "72aed1d598c044ceb0ccd8a92ce77cb5",
       "version_major": 2,
       "version_minor": 0
      },
      "text/plain": [
       "5, 40, balanced, gini:   0%|          | 0/2 [00:00<?, ?it/s]"
      ]
     },
     "metadata": {},
     "output_type": "display_data"
    },
    {
     "data": {
      "application/vnd.jupyter.widget-view+json": {
       "model_id": "b9500d13c2dd44d9988d9f7f5328ffd7",
       "version_major": 2,
       "version_minor": 0
      },
      "text/plain": [
       "5, 40, None, gini:   0%|          | 0/2 [00:00<?, ?it/s]"
      ]
     },
     "metadata": {},
     "output_type": "display_data"
    },
    {
     "data": {
      "application/vnd.jupyter.widget-view+json": {
       "model_id": "addfeca439d741d2b436d21e47467923",
       "version_major": 2,
       "version_minor": 0
      },
      "text/plain": [
       "5, 41, balanced, gini:   0%|          | 0/2 [00:00<?, ?it/s]"
      ]
     },
     "metadata": {},
     "output_type": "display_data"
    },
    {
     "data": {
      "application/vnd.jupyter.widget-view+json": {
       "model_id": "05af9644d72d492290ca3f4152b91f35",
       "version_major": 2,
       "version_minor": 0
      },
      "text/plain": [
       "5, 41, None, gini:   0%|          | 0/2 [00:00<?, ?it/s]"
      ]
     },
     "metadata": {},
     "output_type": "display_data"
    },
    {
     "data": {
      "application/vnd.jupyter.widget-view+json": {
       "model_id": "53ed414cefe94946a04e7f69663448e1",
       "version_major": 2,
       "version_minor": 0
      },
      "text/plain": [
       "5, 42, balanced, gini:   0%|          | 0/2 [00:00<?, ?it/s]"
      ]
     },
     "metadata": {},
     "output_type": "display_data"
    },
    {
     "data": {
      "application/vnd.jupyter.widget-view+json": {
       "model_id": "61236ab9460645f0b7e626bfb3706ada",
       "version_major": 2,
       "version_minor": 0
      },
      "text/plain": [
       "5, 42, None, gini:   0%|          | 0/2 [00:00<?, ?it/s]"
      ]
     },
     "metadata": {},
     "output_type": "display_data"
    },
    {
     "data": {
      "application/vnd.jupyter.widget-view+json": {
       "model_id": "85600998dc674569987e8a3dba28dd6e",
       "version_major": 2,
       "version_minor": 0
      },
      "text/plain": [
       "5, 43, balanced, gini:   0%|          | 0/2 [00:00<?, ?it/s]"
      ]
     },
     "metadata": {},
     "output_type": "display_data"
    },
    {
     "data": {
      "application/vnd.jupyter.widget-view+json": {
       "model_id": "e5beeda8f94848fa8f197d05c8f29884",
       "version_major": 2,
       "version_minor": 0
      },
      "text/plain": [
       "5, 43, None, gini:   0%|          | 0/2 [00:00<?, ?it/s]"
      ]
     },
     "metadata": {},
     "output_type": "display_data"
    },
    {
     "data": {
      "application/vnd.jupyter.widget-view+json": {
       "model_id": "df4e6b2433494997b68df00681cfb95c",
       "version_major": 2,
       "version_minor": 0
      },
      "text/plain": [
       "5, 44, balanced, gini:   0%|          | 0/2 [00:00<?, ?it/s]"
      ]
     },
     "metadata": {},
     "output_type": "display_data"
    },
    {
     "data": {
      "application/vnd.jupyter.widget-view+json": {
       "model_id": "865e765866134251a359abd5f320bc77",
       "version_major": 2,
       "version_minor": 0
      },
      "text/plain": [
       "5, 44, None, gini:   0%|          | 0/2 [00:00<?, ?it/s]"
      ]
     },
     "metadata": {},
     "output_type": "display_data"
    },
    {
     "data": {
      "application/vnd.jupyter.widget-view+json": {
       "model_id": "02d99f0819334ea0a3d2628970db2885",
       "version_major": 2,
       "version_minor": 0
      },
      "text/plain": [
       "5, 45, balanced, gini:   0%|          | 0/2 [00:00<?, ?it/s]"
      ]
     },
     "metadata": {},
     "output_type": "display_data"
    },
    {
     "data": {
      "application/vnd.jupyter.widget-view+json": {
       "model_id": "664c3e27c10a4355a57a12689109a949",
       "version_major": 2,
       "version_minor": 0
      },
      "text/plain": [
       "5, 45, None, gini:   0%|          | 0/2 [00:00<?, ?it/s]"
      ]
     },
     "metadata": {},
     "output_type": "display_data"
    },
    {
     "data": {
      "application/vnd.jupyter.widget-view+json": {
       "model_id": "41768459206b4054be2b2be2e9ebb126",
       "version_major": 2,
       "version_minor": 0
      },
      "text/plain": [
       "5, 46, balanced, gini:   0%|          | 0/2 [00:00<?, ?it/s]"
      ]
     },
     "metadata": {},
     "output_type": "display_data"
    },
    {
     "data": {
      "application/vnd.jupyter.widget-view+json": {
       "model_id": "8710eedec8394e75abb64245377e16d4",
       "version_major": 2,
       "version_minor": 0
      },
      "text/plain": [
       "5, 46, None, gini:   0%|          | 0/2 [00:00<?, ?it/s]"
      ]
     },
     "metadata": {},
     "output_type": "display_data"
    },
    {
     "data": {
      "application/vnd.jupyter.widget-view+json": {
       "model_id": "e76f51d9fc0643ca86b1372d50d9d60b",
       "version_major": 2,
       "version_minor": 0
      },
      "text/plain": [
       "5, 47, balanced, gini:   0%|          | 0/2 [00:00<?, ?it/s]"
      ]
     },
     "metadata": {},
     "output_type": "display_data"
    },
    {
     "data": {
      "application/vnd.jupyter.widget-view+json": {
       "model_id": "c67692c14c9343f2ae9c233fab1083bc",
       "version_major": 2,
       "version_minor": 0
      },
      "text/plain": [
       "5, 47, None, gini:   0%|          | 0/2 [00:00<?, ?it/s]"
      ]
     },
     "metadata": {},
     "output_type": "display_data"
    },
    {
     "data": {
      "application/vnd.jupyter.widget-view+json": {
       "model_id": "7a5970501fe5466ba0f7aea48c96c331",
       "version_major": 2,
       "version_minor": 0
      },
      "text/plain": [
       "5, 48, balanced, gini:   0%|          | 0/2 [00:00<?, ?it/s]"
      ]
     },
     "metadata": {},
     "output_type": "display_data"
    },
    {
     "data": {
      "application/vnd.jupyter.widget-view+json": {
       "model_id": "6c7e4813cee347868719fbcb31772457",
       "version_major": 2,
       "version_minor": 0
      },
      "text/plain": [
       "5, 48, None, gini:   0%|          | 0/2 [00:00<?, ?it/s]"
      ]
     },
     "metadata": {},
     "output_type": "display_data"
    },
    {
     "data": {
      "application/vnd.jupyter.widget-view+json": {
       "model_id": "7c4d6a3986a9412aaba6a094bc93bc2e",
       "version_major": 2,
       "version_minor": 0
      },
      "text/plain": [
       "5, 49, balanced, gini:   0%|          | 0/2 [00:00<?, ?it/s]"
      ]
     },
     "metadata": {},
     "output_type": "display_data"
    },
    {
     "data": {
      "application/vnd.jupyter.widget-view+json": {
       "model_id": "c8d8ef294f144a42af7796640c33090d",
       "version_major": 2,
       "version_minor": 0
      },
      "text/plain": [
       "5, 49, None, gini:   0%|          | 0/2 [00:00<?, ?it/s]"
      ]
     },
     "metadata": {},
     "output_type": "display_data"
    },
    {
     "data": {
      "application/vnd.jupyter.widget-view+json": {
       "model_id": "ed7b2bd71ce04b7880ba1bdb6d4c0671",
       "version_major": 2,
       "version_minor": 0
      },
      "text/plain": [
       "10, 1, balanced, gini:   0%|          | 0/2 [00:00<?, ?it/s]"
      ]
     },
     "metadata": {},
     "output_type": "display_data"
    },
    {
     "data": {
      "application/vnd.jupyter.widget-view+json": {
       "model_id": "4a07083169cc4f599e8d0ab95aec8afe",
       "version_major": 2,
       "version_minor": 0
      },
      "text/plain": [
       "10, 1, None, gini:   0%|          | 0/2 [00:00<?, ?it/s]"
      ]
     },
     "metadata": {},
     "output_type": "display_data"
    },
    {
     "data": {
      "application/vnd.jupyter.widget-view+json": {
       "model_id": "ca3284798246455fae1fcb6041b94ca2",
       "version_major": 2,
       "version_minor": 0
      },
      "text/plain": [
       "10, 2, balanced, gini:   0%|          | 0/2 [00:00<?, ?it/s]"
      ]
     },
     "metadata": {},
     "output_type": "display_data"
    },
    {
     "data": {
      "application/vnd.jupyter.widget-view+json": {
       "model_id": "26881a1baa374e1fa4301ac3e4d8242d",
       "version_major": 2,
       "version_minor": 0
      },
      "text/plain": [
       "10, 2, None, gini:   0%|          | 0/2 [00:00<?, ?it/s]"
      ]
     },
     "metadata": {},
     "output_type": "display_data"
    },
    {
     "data": {
      "application/vnd.jupyter.widget-view+json": {
       "model_id": "dae3d753f1dc4b55abd0daffba95834d",
       "version_major": 2,
       "version_minor": 0
      },
      "text/plain": [
       "10, 3, balanced, gini:   0%|          | 0/2 [00:00<?, ?it/s]"
      ]
     },
     "metadata": {},
     "output_type": "display_data"
    },
    {
     "data": {
      "application/vnd.jupyter.widget-view+json": {
       "model_id": "169deb09d7e4479dba19e29b9685148a",
       "version_major": 2,
       "version_minor": 0
      },
      "text/plain": [
       "10, 3, None, gini:   0%|          | 0/2 [00:00<?, ?it/s]"
      ]
     },
     "metadata": {},
     "output_type": "display_data"
    },
    {
     "data": {
      "application/vnd.jupyter.widget-view+json": {
       "model_id": "a04f1557135943b7bc0bf78a8ac95a20",
       "version_major": 2,
       "version_minor": 0
      },
      "text/plain": [
       "10, 4, balanced, gini:   0%|          | 0/2 [00:00<?, ?it/s]"
      ]
     },
     "metadata": {},
     "output_type": "display_data"
    },
    {
     "data": {
      "application/vnd.jupyter.widget-view+json": {
       "model_id": "adf9e107f4e14e388004c488cf60b581",
       "version_major": 2,
       "version_minor": 0
      },
      "text/plain": [
       "10, 4, None, gini:   0%|          | 0/2 [00:00<?, ?it/s]"
      ]
     },
     "metadata": {},
     "output_type": "display_data"
    },
    {
     "data": {
      "application/vnd.jupyter.widget-view+json": {
       "model_id": "1c925fbb4cda4905a2048e3b4dd3d285",
       "version_major": 2,
       "version_minor": 0
      },
      "text/plain": [
       "10, 5, balanced, gini:   0%|          | 0/2 [00:00<?, ?it/s]"
      ]
     },
     "metadata": {},
     "output_type": "display_data"
    },
    {
     "data": {
      "application/vnd.jupyter.widget-view+json": {
       "model_id": "ee6d8ec07f984adeab8a991fb3b96f90",
       "version_major": 2,
       "version_minor": 0
      },
      "text/plain": [
       "10, 5, None, gini:   0%|          | 0/2 [00:00<?, ?it/s]"
      ]
     },
     "metadata": {},
     "output_type": "display_data"
    },
    {
     "data": {
      "application/vnd.jupyter.widget-view+json": {
       "model_id": "c3b17a9e153a4f94bc75d8071c7f2170",
       "version_major": 2,
       "version_minor": 0
      },
      "text/plain": [
       "10, 6, balanced, gini:   0%|          | 0/2 [00:00<?, ?it/s]"
      ]
     },
     "metadata": {},
     "output_type": "display_data"
    },
    {
     "data": {
      "application/vnd.jupyter.widget-view+json": {
       "model_id": "652bd4a3284847d1a5b65fab5864046d",
       "version_major": 2,
       "version_minor": 0
      },
      "text/plain": [
       "10, 6, None, gini:   0%|          | 0/2 [00:00<?, ?it/s]"
      ]
     },
     "metadata": {},
     "output_type": "display_data"
    },
    {
     "data": {
      "application/vnd.jupyter.widget-view+json": {
       "model_id": "a86c55ffcd37434985eec6842f9925c0",
       "version_major": 2,
       "version_minor": 0
      },
      "text/plain": [
       "10, 7, balanced, gini:   0%|          | 0/2 [00:00<?, ?it/s]"
      ]
     },
     "metadata": {},
     "output_type": "display_data"
    },
    {
     "data": {
      "application/vnd.jupyter.widget-view+json": {
       "model_id": "b91958e87bf34bfcab07fb77a6901e16",
       "version_major": 2,
       "version_minor": 0
      },
      "text/plain": [
       "10, 7, None, gini:   0%|          | 0/2 [00:00<?, ?it/s]"
      ]
     },
     "metadata": {},
     "output_type": "display_data"
    },
    {
     "data": {
      "application/vnd.jupyter.widget-view+json": {
       "model_id": "6ef2866dcb6a44c8b48ffda841431435",
       "version_major": 2,
       "version_minor": 0
      },
      "text/plain": [
       "10, 8, balanced, gini:   0%|          | 0/2 [00:00<?, ?it/s]"
      ]
     },
     "metadata": {},
     "output_type": "display_data"
    },
    {
     "data": {
      "application/vnd.jupyter.widget-view+json": {
       "model_id": "4146e3daccd948b9b2efcc781d03040b",
       "version_major": 2,
       "version_minor": 0
      },
      "text/plain": [
       "10, 8, None, gini:   0%|          | 0/2 [00:00<?, ?it/s]"
      ]
     },
     "metadata": {},
     "output_type": "display_data"
    },
    {
     "data": {
      "application/vnd.jupyter.widget-view+json": {
       "model_id": "46eb5b9710194eda8bf247c1c6dbf273",
       "version_major": 2,
       "version_minor": 0
      },
      "text/plain": [
       "10, 9, balanced, gini:   0%|          | 0/2 [00:00<?, ?it/s]"
      ]
     },
     "metadata": {},
     "output_type": "display_data"
    },
    {
     "data": {
      "application/vnd.jupyter.widget-view+json": {
       "model_id": "2adbfa6cc2bb4f1790f56e1a0f864898",
       "version_major": 2,
       "version_minor": 0
      },
      "text/plain": [
       "10, 9, None, gini:   0%|          | 0/2 [00:00<?, ?it/s]"
      ]
     },
     "metadata": {},
     "output_type": "display_data"
    },
    {
     "data": {
      "application/vnd.jupyter.widget-view+json": {
       "model_id": "88bd0afe478d482f966a8795a2ebea51",
       "version_major": 2,
       "version_minor": 0
      },
      "text/plain": [
       "10, 10, balanced, gini:   0%|          | 0/2 [00:00<?, ?it/s]"
      ]
     },
     "metadata": {},
     "output_type": "display_data"
    },
    {
     "data": {
      "application/vnd.jupyter.widget-view+json": {
       "model_id": "a31308750fc04051b56241358591f2c8",
       "version_major": 2,
       "version_minor": 0
      },
      "text/plain": [
       "10, 10, None, gini:   0%|          | 0/2 [00:00<?, ?it/s]"
      ]
     },
     "metadata": {},
     "output_type": "display_data"
    },
    {
     "data": {
      "application/vnd.jupyter.widget-view+json": {
       "model_id": "8deed0d12ff6442ab7e8817de8a7adda",
       "version_major": 2,
       "version_minor": 0
      },
      "text/plain": [
       "10, 11, balanced, gini:   0%|          | 0/2 [00:00<?, ?it/s]"
      ]
     },
     "metadata": {},
     "output_type": "display_data"
    },
    {
     "data": {
      "application/vnd.jupyter.widget-view+json": {
       "model_id": "548dfe691a9e44e795e3e6822ff1e2db",
       "version_major": 2,
       "version_minor": 0
      },
      "text/plain": [
       "10, 11, None, gini:   0%|          | 0/2 [00:00<?, ?it/s]"
      ]
     },
     "metadata": {},
     "output_type": "display_data"
    },
    {
     "data": {
      "application/vnd.jupyter.widget-view+json": {
       "model_id": "69fbf69f6f1d43adbbd909c7d5f12273",
       "version_major": 2,
       "version_minor": 0
      },
      "text/plain": [
       "10, 12, balanced, gini:   0%|          | 0/2 [00:00<?, ?it/s]"
      ]
     },
     "metadata": {},
     "output_type": "display_data"
    },
    {
     "data": {
      "application/vnd.jupyter.widget-view+json": {
       "model_id": "f5201b8b9f244c239597527e29a6e255",
       "version_major": 2,
       "version_minor": 0
      },
      "text/plain": [
       "10, 12, None, gini:   0%|          | 0/2 [00:00<?, ?it/s]"
      ]
     },
     "metadata": {},
     "output_type": "display_data"
    },
    {
     "data": {
      "application/vnd.jupyter.widget-view+json": {
       "model_id": "bd986bd26e224723b010f26a47db1515",
       "version_major": 2,
       "version_minor": 0
      },
      "text/plain": [
       "10, 13, balanced, gini:   0%|          | 0/2 [00:00<?, ?it/s]"
      ]
     },
     "metadata": {},
     "output_type": "display_data"
    },
    {
     "data": {
      "application/vnd.jupyter.widget-view+json": {
       "model_id": "a4e2febdc4e6433eb5dfda0e73076ad2",
       "version_major": 2,
       "version_minor": 0
      },
      "text/plain": [
       "10, 13, None, gini:   0%|          | 0/2 [00:00<?, ?it/s]"
      ]
     },
     "metadata": {},
     "output_type": "display_data"
    },
    {
     "data": {
      "application/vnd.jupyter.widget-view+json": {
       "model_id": "5fa4e8e156064e7aa92cfc24894168e1",
       "version_major": 2,
       "version_minor": 0
      },
      "text/plain": [
       "10, 14, balanced, gini:   0%|          | 0/2 [00:00<?, ?it/s]"
      ]
     },
     "metadata": {},
     "output_type": "display_data"
    },
    {
     "data": {
      "application/vnd.jupyter.widget-view+json": {
       "model_id": "1a8ae65f5f774cd9b9d45cfd181e6150",
       "version_major": 2,
       "version_minor": 0
      },
      "text/plain": [
       "10, 14, None, gini:   0%|          | 0/2 [00:00<?, ?it/s]"
      ]
     },
     "metadata": {},
     "output_type": "display_data"
    },
    {
     "data": {
      "application/vnd.jupyter.widget-view+json": {
       "model_id": "b7e6adbdeac14e8cbfe6d6b69e6229d8",
       "version_major": 2,
       "version_minor": 0
      },
      "text/plain": [
       "10, 15, balanced, gini:   0%|          | 0/2 [00:00<?, ?it/s]"
      ]
     },
     "metadata": {},
     "output_type": "display_data"
    },
    {
     "data": {
      "application/vnd.jupyter.widget-view+json": {
       "model_id": "5cd3493edd9d4f01a0f7b674a6f9a585",
       "version_major": 2,
       "version_minor": 0
      },
      "text/plain": [
       "10, 15, None, gini:   0%|          | 0/2 [00:00<?, ?it/s]"
      ]
     },
     "metadata": {},
     "output_type": "display_data"
    },
    {
     "data": {
      "application/vnd.jupyter.widget-view+json": {
       "model_id": "fc7155e0b8ad47a1a3568e6220750dc7",
       "version_major": 2,
       "version_minor": 0
      },
      "text/plain": [
       "10, 16, balanced, gini:   0%|          | 0/2 [00:00<?, ?it/s]"
      ]
     },
     "metadata": {},
     "output_type": "display_data"
    },
    {
     "data": {
      "application/vnd.jupyter.widget-view+json": {
       "model_id": "c5b53832a00943c19978dfc52602b5bc",
       "version_major": 2,
       "version_minor": 0
      },
      "text/plain": [
       "10, 16, None, gini:   0%|          | 0/2 [00:00<?, ?it/s]"
      ]
     },
     "metadata": {},
     "output_type": "display_data"
    },
    {
     "data": {
      "application/vnd.jupyter.widget-view+json": {
       "model_id": "5c122bc82f09417e908791fbfba1cc79",
       "version_major": 2,
       "version_minor": 0
      },
      "text/plain": [
       "10, 17, balanced, gini:   0%|          | 0/2 [00:00<?, ?it/s]"
      ]
     },
     "metadata": {},
     "output_type": "display_data"
    },
    {
     "data": {
      "application/vnd.jupyter.widget-view+json": {
       "model_id": "4adb1f92f1f245b7bae8414f986125a5",
       "version_major": 2,
       "version_minor": 0
      },
      "text/plain": [
       "10, 17, None, gini:   0%|          | 0/2 [00:00<?, ?it/s]"
      ]
     },
     "metadata": {},
     "output_type": "display_data"
    },
    {
     "data": {
      "application/vnd.jupyter.widget-view+json": {
       "model_id": "1591f13e94e941da83136c93d34a6acd",
       "version_major": 2,
       "version_minor": 0
      },
      "text/plain": [
       "10, 18, balanced, gini:   0%|          | 0/2 [00:00<?, ?it/s]"
      ]
     },
     "metadata": {},
     "output_type": "display_data"
    },
    {
     "data": {
      "application/vnd.jupyter.widget-view+json": {
       "model_id": "be2356b9f6c24c1980107903e964db99",
       "version_major": 2,
       "version_minor": 0
      },
      "text/plain": [
       "10, 18, None, gini:   0%|          | 0/2 [00:00<?, ?it/s]"
      ]
     },
     "metadata": {},
     "output_type": "display_data"
    },
    {
     "data": {
      "application/vnd.jupyter.widget-view+json": {
       "model_id": "f3994cf4711f4f23b5d4d7353866d2d3",
       "version_major": 2,
       "version_minor": 0
      },
      "text/plain": [
       "10, 19, balanced, gini:   0%|          | 0/2 [00:00<?, ?it/s]"
      ]
     },
     "metadata": {},
     "output_type": "display_data"
    },
    {
     "data": {
      "application/vnd.jupyter.widget-view+json": {
       "model_id": "5b60f43dba694512b50167b40be36bf1",
       "version_major": 2,
       "version_minor": 0
      },
      "text/plain": [
       "10, 19, None, gini:   0%|          | 0/2 [00:00<?, ?it/s]"
      ]
     },
     "metadata": {},
     "output_type": "display_data"
    },
    {
     "data": {
      "application/vnd.jupyter.widget-view+json": {
       "model_id": "83880635cc7b447f9beb55059703ea27",
       "version_major": 2,
       "version_minor": 0
      },
      "text/plain": [
       "10, 20, balanced, gini:   0%|          | 0/2 [00:00<?, ?it/s]"
      ]
     },
     "metadata": {},
     "output_type": "display_data"
    },
    {
     "data": {
      "application/vnd.jupyter.widget-view+json": {
       "model_id": "0c464e3e754e4ee7992327fc38c3a851",
       "version_major": 2,
       "version_minor": 0
      },
      "text/plain": [
       "10, 20, None, gini:   0%|          | 0/2 [00:00<?, ?it/s]"
      ]
     },
     "metadata": {},
     "output_type": "display_data"
    },
    {
     "data": {
      "application/vnd.jupyter.widget-view+json": {
       "model_id": "993231c3b1f8411ebfc7f35c5ddf9866",
       "version_major": 2,
       "version_minor": 0
      },
      "text/plain": [
       "10, 21, balanced, gini:   0%|          | 0/2 [00:00<?, ?it/s]"
      ]
     },
     "metadata": {},
     "output_type": "display_data"
    },
    {
     "data": {
      "application/vnd.jupyter.widget-view+json": {
       "model_id": "8f67758bccb74ae59fb10556610eff7f",
       "version_major": 2,
       "version_minor": 0
      },
      "text/plain": [
       "10, 21, None, gini:   0%|          | 0/2 [00:00<?, ?it/s]"
      ]
     },
     "metadata": {},
     "output_type": "display_data"
    },
    {
     "data": {
      "application/vnd.jupyter.widget-view+json": {
       "model_id": "5fd07452808b431ab7fe08619f4c8685",
       "version_major": 2,
       "version_minor": 0
      },
      "text/plain": [
       "10, 22, balanced, gini:   0%|          | 0/2 [00:00<?, ?it/s]"
      ]
     },
     "metadata": {},
     "output_type": "display_data"
    },
    {
     "data": {
      "application/vnd.jupyter.widget-view+json": {
       "model_id": "5905f025effa419d87a3bc4f78ac4d59",
       "version_major": 2,
       "version_minor": 0
      },
      "text/plain": [
       "10, 22, None, gini:   0%|          | 0/2 [00:00<?, ?it/s]"
      ]
     },
     "metadata": {},
     "output_type": "display_data"
    },
    {
     "data": {
      "application/vnd.jupyter.widget-view+json": {
       "model_id": "4a4f36d755f94a4aa850ed35229e2bd3",
       "version_major": 2,
       "version_minor": 0
      },
      "text/plain": [
       "10, 23, balanced, gini:   0%|          | 0/2 [00:00<?, ?it/s]"
      ]
     },
     "metadata": {},
     "output_type": "display_data"
    },
    {
     "data": {
      "application/vnd.jupyter.widget-view+json": {
       "model_id": "ea7e672db0b141eb99a51cc124ebad7f",
       "version_major": 2,
       "version_minor": 0
      },
      "text/plain": [
       "10, 23, None, gini:   0%|          | 0/2 [00:00<?, ?it/s]"
      ]
     },
     "metadata": {},
     "output_type": "display_data"
    },
    {
     "data": {
      "application/vnd.jupyter.widget-view+json": {
       "model_id": "5e0cdfbc37e94303943d183c6b5aa5ed",
       "version_major": 2,
       "version_minor": 0
      },
      "text/plain": [
       "10, 24, balanced, gini:   0%|          | 0/2 [00:00<?, ?it/s]"
      ]
     },
     "metadata": {},
     "output_type": "display_data"
    },
    {
     "data": {
      "application/vnd.jupyter.widget-view+json": {
       "model_id": "48ad3e9d42054027945f9e8409a8e0b5",
       "version_major": 2,
       "version_minor": 0
      },
      "text/plain": [
       "10, 24, None, gini:   0%|          | 0/2 [00:00<?, ?it/s]"
      ]
     },
     "metadata": {},
     "output_type": "display_data"
    },
    {
     "data": {
      "application/vnd.jupyter.widget-view+json": {
       "model_id": "f37b4fa665634df98876dfdefe06e226",
       "version_major": 2,
       "version_minor": 0
      },
      "text/plain": [
       "10, 25, balanced, gini:   0%|          | 0/2 [00:00<?, ?it/s]"
      ]
     },
     "metadata": {},
     "output_type": "display_data"
    },
    {
     "data": {
      "application/vnd.jupyter.widget-view+json": {
       "model_id": "5142e082600b46a8b6b2660776cbfcda",
       "version_major": 2,
       "version_minor": 0
      },
      "text/plain": [
       "10, 25, None, gini:   0%|          | 0/2 [00:00<?, ?it/s]"
      ]
     },
     "metadata": {},
     "output_type": "display_data"
    },
    {
     "data": {
      "application/vnd.jupyter.widget-view+json": {
       "model_id": "2fb4891c7a21473791fd2df9b43a2e16",
       "version_major": 2,
       "version_minor": 0
      },
      "text/plain": [
       "10, 26, balanced, gini:   0%|          | 0/2 [00:00<?, ?it/s]"
      ]
     },
     "metadata": {},
     "output_type": "display_data"
    },
    {
     "data": {
      "application/vnd.jupyter.widget-view+json": {
       "model_id": "5b08d375114a4e7582deb968fd2a83fe",
       "version_major": 2,
       "version_minor": 0
      },
      "text/plain": [
       "10, 26, None, gini:   0%|          | 0/2 [00:00<?, ?it/s]"
      ]
     },
     "metadata": {},
     "output_type": "display_data"
    },
    {
     "data": {
      "application/vnd.jupyter.widget-view+json": {
       "model_id": "2d3e2f86e97048a5a72d9c6cda281f60",
       "version_major": 2,
       "version_minor": 0
      },
      "text/plain": [
       "10, 27, balanced, gini:   0%|          | 0/2 [00:00<?, ?it/s]"
      ]
     },
     "metadata": {},
     "output_type": "display_data"
    },
    {
     "data": {
      "application/vnd.jupyter.widget-view+json": {
       "model_id": "1485a3558ced4f6daab995a40216f383",
       "version_major": 2,
       "version_minor": 0
      },
      "text/plain": [
       "10, 27, None, gini:   0%|          | 0/2 [00:00<?, ?it/s]"
      ]
     },
     "metadata": {},
     "output_type": "display_data"
    },
    {
     "data": {
      "application/vnd.jupyter.widget-view+json": {
       "model_id": "194b988b6d724782ae798ed1d67edb68",
       "version_major": 2,
       "version_minor": 0
      },
      "text/plain": [
       "10, 28, balanced, gini:   0%|          | 0/2 [00:00<?, ?it/s]"
      ]
     },
     "metadata": {},
     "output_type": "display_data"
    },
    {
     "data": {
      "application/vnd.jupyter.widget-view+json": {
       "model_id": "0f4fba59171c4a1b97270648af279e3c",
       "version_major": 2,
       "version_minor": 0
      },
      "text/plain": [
       "10, 28, None, gini:   0%|          | 0/2 [00:00<?, ?it/s]"
      ]
     },
     "metadata": {},
     "output_type": "display_data"
    },
    {
     "data": {
      "application/vnd.jupyter.widget-view+json": {
       "model_id": "ed731aebf1db45a886a14c7c66096ffd",
       "version_major": 2,
       "version_minor": 0
      },
      "text/plain": [
       "10, 29, balanced, gini:   0%|          | 0/2 [00:00<?, ?it/s]"
      ]
     },
     "metadata": {},
     "output_type": "display_data"
    },
    {
     "data": {
      "application/vnd.jupyter.widget-view+json": {
       "model_id": "992aaa0979a34b91a32a50017aa83a9e",
       "version_major": 2,
       "version_minor": 0
      },
      "text/plain": [
       "10, 29, None, gini:   0%|          | 0/2 [00:00<?, ?it/s]"
      ]
     },
     "metadata": {},
     "output_type": "display_data"
    },
    {
     "data": {
      "application/vnd.jupyter.widget-view+json": {
       "model_id": "317ce67947164b8bafe7a6cb78b68c25",
       "version_major": 2,
       "version_minor": 0
      },
      "text/plain": [
       "10, 30, balanced, gini:   0%|          | 0/2 [00:00<?, ?it/s]"
      ]
     },
     "metadata": {},
     "output_type": "display_data"
    },
    {
     "data": {
      "application/vnd.jupyter.widget-view+json": {
       "model_id": "76d55578470a4536920ed3372e5aa1f4",
       "version_major": 2,
       "version_minor": 0
      },
      "text/plain": [
       "10, 30, None, gini:   0%|          | 0/2 [00:00<?, ?it/s]"
      ]
     },
     "metadata": {},
     "output_type": "display_data"
    },
    {
     "data": {
      "application/vnd.jupyter.widget-view+json": {
       "model_id": "92f2982e01de4ed48d880e63fa0c688d",
       "version_major": 2,
       "version_minor": 0
      },
      "text/plain": [
       "10, 31, balanced, gini:   0%|          | 0/2 [00:00<?, ?it/s]"
      ]
     },
     "metadata": {},
     "output_type": "display_data"
    },
    {
     "data": {
      "application/vnd.jupyter.widget-view+json": {
       "model_id": "d18c34dd0d7f44d0a163d4d7944eebbe",
       "version_major": 2,
       "version_minor": 0
      },
      "text/plain": [
       "10, 31, None, gini:   0%|          | 0/2 [00:00<?, ?it/s]"
      ]
     },
     "metadata": {},
     "output_type": "display_data"
    },
    {
     "data": {
      "application/vnd.jupyter.widget-view+json": {
       "model_id": "3ee0935409e4434faa025877ee5babf1",
       "version_major": 2,
       "version_minor": 0
      },
      "text/plain": [
       "10, 32, balanced, gini:   0%|          | 0/2 [00:00<?, ?it/s]"
      ]
     },
     "metadata": {},
     "output_type": "display_data"
    },
    {
     "data": {
      "application/vnd.jupyter.widget-view+json": {
       "model_id": "0fc4b0e84b014608bf59f376bd281ae9",
       "version_major": 2,
       "version_minor": 0
      },
      "text/plain": [
       "10, 32, None, gini:   0%|          | 0/2 [00:00<?, ?it/s]"
      ]
     },
     "metadata": {},
     "output_type": "display_data"
    },
    {
     "data": {
      "application/vnd.jupyter.widget-view+json": {
       "model_id": "7b51c5962a1648b2be7c21053e2cfe7b",
       "version_major": 2,
       "version_minor": 0
      },
      "text/plain": [
       "10, 33, balanced, gini:   0%|          | 0/2 [00:00<?, ?it/s]"
      ]
     },
     "metadata": {},
     "output_type": "display_data"
    },
    {
     "data": {
      "application/vnd.jupyter.widget-view+json": {
       "model_id": "95e0d29fb98e47d3b3aec19cfde8da05",
       "version_major": 2,
       "version_minor": 0
      },
      "text/plain": [
       "10, 33, None, gini:   0%|          | 0/2 [00:00<?, ?it/s]"
      ]
     },
     "metadata": {},
     "output_type": "display_data"
    },
    {
     "data": {
      "application/vnd.jupyter.widget-view+json": {
       "model_id": "a0ea9f1c6e4d46379c48ca20ee4440c8",
       "version_major": 2,
       "version_minor": 0
      },
      "text/plain": [
       "10, 34, balanced, gini:   0%|          | 0/2 [00:00<?, ?it/s]"
      ]
     },
     "metadata": {},
     "output_type": "display_data"
    },
    {
     "data": {
      "application/vnd.jupyter.widget-view+json": {
       "model_id": "c33bcc5258dd4a1fb835f2d8fc2132d2",
       "version_major": 2,
       "version_minor": 0
      },
      "text/plain": [
       "10, 34, None, gini:   0%|          | 0/2 [00:00<?, ?it/s]"
      ]
     },
     "metadata": {},
     "output_type": "display_data"
    },
    {
     "data": {
      "application/vnd.jupyter.widget-view+json": {
       "model_id": "67ff01c4360d4aee801522c9934409ca",
       "version_major": 2,
       "version_minor": 0
      },
      "text/plain": [
       "10, 35, balanced, gini:   0%|          | 0/2 [00:00<?, ?it/s]"
      ]
     },
     "metadata": {},
     "output_type": "display_data"
    },
    {
     "data": {
      "application/vnd.jupyter.widget-view+json": {
       "model_id": "745ef452eaf6481ebdfb2ad0d1b1420b",
       "version_major": 2,
       "version_minor": 0
      },
      "text/plain": [
       "10, 35, None, gini:   0%|          | 0/2 [00:00<?, ?it/s]"
      ]
     },
     "metadata": {},
     "output_type": "display_data"
    },
    {
     "data": {
      "application/vnd.jupyter.widget-view+json": {
       "model_id": "3a2c5953bc474d51a19db4542139d022",
       "version_major": 2,
       "version_minor": 0
      },
      "text/plain": [
       "10, 36, balanced, gini:   0%|          | 0/2 [00:00<?, ?it/s]"
      ]
     },
     "metadata": {},
     "output_type": "display_data"
    },
    {
     "data": {
      "application/vnd.jupyter.widget-view+json": {
       "model_id": "39b7a89f149b49a294d1e004e569bdc2",
       "version_major": 2,
       "version_minor": 0
      },
      "text/plain": [
       "10, 36, None, gini:   0%|          | 0/2 [00:00<?, ?it/s]"
      ]
     },
     "metadata": {},
     "output_type": "display_data"
    },
    {
     "data": {
      "application/vnd.jupyter.widget-view+json": {
       "model_id": "bfe47ee1315d4b94b13dd8d6daf8626a",
       "version_major": 2,
       "version_minor": 0
      },
      "text/plain": [
       "10, 37, balanced, gini:   0%|          | 0/2 [00:00<?, ?it/s]"
      ]
     },
     "metadata": {},
     "output_type": "display_data"
    },
    {
     "data": {
      "application/vnd.jupyter.widget-view+json": {
       "model_id": "eb32bb746b344a55ab57b448070b0dbd",
       "version_major": 2,
       "version_minor": 0
      },
      "text/plain": [
       "10, 37, None, gini:   0%|          | 0/2 [00:00<?, ?it/s]"
      ]
     },
     "metadata": {},
     "output_type": "display_data"
    },
    {
     "data": {
      "application/vnd.jupyter.widget-view+json": {
       "model_id": "dbde238bbc674a6486de98a25d44f8c6",
       "version_major": 2,
       "version_minor": 0
      },
      "text/plain": [
       "10, 38, balanced, gini:   0%|          | 0/2 [00:00<?, ?it/s]"
      ]
     },
     "metadata": {},
     "output_type": "display_data"
    },
    {
     "data": {
      "application/vnd.jupyter.widget-view+json": {
       "model_id": "45f75fc2d49c40d6b6926d6f33dac209",
       "version_major": 2,
       "version_minor": 0
      },
      "text/plain": [
       "10, 38, None, gini:   0%|          | 0/2 [00:00<?, ?it/s]"
      ]
     },
     "metadata": {},
     "output_type": "display_data"
    },
    {
     "data": {
      "application/vnd.jupyter.widget-view+json": {
       "model_id": "faf956b19e5241d1b37f1135adefe21b",
       "version_major": 2,
       "version_minor": 0
      },
      "text/plain": [
       "10, 39, balanced, gini:   0%|          | 0/2 [00:00<?, ?it/s]"
      ]
     },
     "metadata": {},
     "output_type": "display_data"
    },
    {
     "data": {
      "application/vnd.jupyter.widget-view+json": {
       "model_id": "6fa88798966142efb310a0df510284d8",
       "version_major": 2,
       "version_minor": 0
      },
      "text/plain": [
       "10, 39, None, gini:   0%|          | 0/2 [00:00<?, ?it/s]"
      ]
     },
     "metadata": {},
     "output_type": "display_data"
    },
    {
     "data": {
      "application/vnd.jupyter.widget-view+json": {
       "model_id": "869641bfedb24800a79786f3ad94c021",
       "version_major": 2,
       "version_minor": 0
      },
      "text/plain": [
       "10, 40, balanced, gini:   0%|          | 0/2 [00:00<?, ?it/s]"
      ]
     },
     "metadata": {},
     "output_type": "display_data"
    },
    {
     "data": {
      "application/vnd.jupyter.widget-view+json": {
       "model_id": "be858102f6424a09ae4c5817d5869ae3",
       "version_major": 2,
       "version_minor": 0
      },
      "text/plain": [
       "10, 40, None, gini:   0%|          | 0/2 [00:00<?, ?it/s]"
      ]
     },
     "metadata": {},
     "output_type": "display_data"
    },
    {
     "data": {
      "application/vnd.jupyter.widget-view+json": {
       "model_id": "89664c46d3224f45b42498f6fcfe8e2e",
       "version_major": 2,
       "version_minor": 0
      },
      "text/plain": [
       "10, 41, balanced, gini:   0%|          | 0/2 [00:00<?, ?it/s]"
      ]
     },
     "metadata": {},
     "output_type": "display_data"
    },
    {
     "data": {
      "application/vnd.jupyter.widget-view+json": {
       "model_id": "de92756054ff47e4a6a0040143cd8254",
       "version_major": 2,
       "version_minor": 0
      },
      "text/plain": [
       "10, 41, None, gini:   0%|          | 0/2 [00:00<?, ?it/s]"
      ]
     },
     "metadata": {},
     "output_type": "display_data"
    },
    {
     "data": {
      "application/vnd.jupyter.widget-view+json": {
       "model_id": "543365ab839547ce99b6650c16da24a4",
       "version_major": 2,
       "version_minor": 0
      },
      "text/plain": [
       "10, 42, balanced, gini:   0%|          | 0/2 [00:00<?, ?it/s]"
      ]
     },
     "metadata": {},
     "output_type": "display_data"
    },
    {
     "data": {
      "application/vnd.jupyter.widget-view+json": {
       "model_id": "b294b863a6fb4f26817a892507f2f853",
       "version_major": 2,
       "version_minor": 0
      },
      "text/plain": [
       "10, 42, None, gini:   0%|          | 0/2 [00:00<?, ?it/s]"
      ]
     },
     "metadata": {},
     "output_type": "display_data"
    },
    {
     "data": {
      "application/vnd.jupyter.widget-view+json": {
       "model_id": "c919d4b9f86147c48b861216589678c0",
       "version_major": 2,
       "version_minor": 0
      },
      "text/plain": [
       "10, 43, balanced, gini:   0%|          | 0/2 [00:00<?, ?it/s]"
      ]
     },
     "metadata": {},
     "output_type": "display_data"
    },
    {
     "data": {
      "application/vnd.jupyter.widget-view+json": {
       "model_id": "7deb64c56d494ebc91bb2620b1886236",
       "version_major": 2,
       "version_minor": 0
      },
      "text/plain": [
       "10, 43, None, gini:   0%|          | 0/2 [00:00<?, ?it/s]"
      ]
     },
     "metadata": {},
     "output_type": "display_data"
    },
    {
     "data": {
      "application/vnd.jupyter.widget-view+json": {
       "model_id": "f38c200d03054e03a205ccbf46039626",
       "version_major": 2,
       "version_minor": 0
      },
      "text/plain": [
       "10, 44, balanced, gini:   0%|          | 0/2 [00:00<?, ?it/s]"
      ]
     },
     "metadata": {},
     "output_type": "display_data"
    },
    {
     "data": {
      "application/vnd.jupyter.widget-view+json": {
       "model_id": "47fae6ba5e1f4e149c2c0182d0b02077",
       "version_major": 2,
       "version_minor": 0
      },
      "text/plain": [
       "10, 44, None, gini:   0%|          | 0/2 [00:00<?, ?it/s]"
      ]
     },
     "metadata": {},
     "output_type": "display_data"
    },
    {
     "data": {
      "application/vnd.jupyter.widget-view+json": {
       "model_id": "d116c183c40b415fa94eedff3a919dfe",
       "version_major": 2,
       "version_minor": 0
      },
      "text/plain": [
       "10, 45, balanced, gini:   0%|          | 0/2 [00:00<?, ?it/s]"
      ]
     },
     "metadata": {},
     "output_type": "display_data"
    },
    {
     "data": {
      "application/vnd.jupyter.widget-view+json": {
       "model_id": "0e6043ca9da4480d83261e519b4f13fc",
       "version_major": 2,
       "version_minor": 0
      },
      "text/plain": [
       "10, 45, None, gini:   0%|          | 0/2 [00:00<?, ?it/s]"
      ]
     },
     "metadata": {},
     "output_type": "display_data"
    },
    {
     "data": {
      "application/vnd.jupyter.widget-view+json": {
       "model_id": "19b4cc196ceb4cac899658f50221bcd2",
       "version_major": 2,
       "version_minor": 0
      },
      "text/plain": [
       "10, 46, balanced, gini:   0%|          | 0/2 [00:00<?, ?it/s]"
      ]
     },
     "metadata": {},
     "output_type": "display_data"
    },
    {
     "data": {
      "application/vnd.jupyter.widget-view+json": {
       "model_id": "9c8527b6f9f84b07beb71f628bdc1504",
       "version_major": 2,
       "version_minor": 0
      },
      "text/plain": [
       "10, 46, None, gini:   0%|          | 0/2 [00:00<?, ?it/s]"
      ]
     },
     "metadata": {},
     "output_type": "display_data"
    },
    {
     "data": {
      "application/vnd.jupyter.widget-view+json": {
       "model_id": "31c38da5e01c42deaf64ce48c86f8cdb",
       "version_major": 2,
       "version_minor": 0
      },
      "text/plain": [
       "10, 47, balanced, gini:   0%|          | 0/2 [00:00<?, ?it/s]"
      ]
     },
     "metadata": {},
     "output_type": "display_data"
    },
    {
     "data": {
      "application/vnd.jupyter.widget-view+json": {
       "model_id": "fc7ed81cc68e4aaa90f6b6eda986eaca",
       "version_major": 2,
       "version_minor": 0
      },
      "text/plain": [
       "10, 47, None, gini:   0%|          | 0/2 [00:00<?, ?it/s]"
      ]
     },
     "metadata": {},
     "output_type": "display_data"
    },
    {
     "data": {
      "application/vnd.jupyter.widget-view+json": {
       "model_id": "9778242130e54a0889107278d6737162",
       "version_major": 2,
       "version_minor": 0
      },
      "text/plain": [
       "10, 48, balanced, gini:   0%|          | 0/2 [00:00<?, ?it/s]"
      ]
     },
     "metadata": {},
     "output_type": "display_data"
    },
    {
     "data": {
      "application/vnd.jupyter.widget-view+json": {
       "model_id": "50fd88a5c5ec4dc491799933907450fa",
       "version_major": 2,
       "version_minor": 0
      },
      "text/plain": [
       "10, 48, None, gini:   0%|          | 0/2 [00:00<?, ?it/s]"
      ]
     },
     "metadata": {},
     "output_type": "display_data"
    },
    {
     "data": {
      "application/vnd.jupyter.widget-view+json": {
       "model_id": "3eb5da3f910644b1aabc1dffd7562246",
       "version_major": 2,
       "version_minor": 0
      },
      "text/plain": [
       "10, 49, balanced, gini:   0%|          | 0/2 [00:00<?, ?it/s]"
      ]
     },
     "metadata": {},
     "output_type": "display_data"
    },
    {
     "data": {
      "application/vnd.jupyter.widget-view+json": {
       "model_id": "cc88bb56f9f644cebb705bd9b4f430e1",
       "version_major": 2,
       "version_minor": 0
      },
      "text/plain": [
       "10, 49, None, gini:   0%|          | 0/2 [00:00<?, ?it/s]"
      ]
     },
     "metadata": {},
     "output_type": "display_data"
    },
    {
     "data": {
      "application/vnd.jupyter.widget-view+json": {
       "model_id": "c25fb933f27c4652986d11f0cf020a1a",
       "version_major": 2,
       "version_minor": 0
      },
      "text/plain": [
       "50, 1, balanced, gini:   0%|          | 0/2 [00:00<?, ?it/s]"
      ]
     },
     "metadata": {},
     "output_type": "display_data"
    },
    {
     "data": {
      "application/vnd.jupyter.widget-view+json": {
       "model_id": "15f5d0837e444afc9bbe566c090bf04c",
       "version_major": 2,
       "version_minor": 0
      },
      "text/plain": [
       "50, 1, None, gini:   0%|          | 0/2 [00:00<?, ?it/s]"
      ]
     },
     "metadata": {},
     "output_type": "display_data"
    },
    {
     "data": {
      "application/vnd.jupyter.widget-view+json": {
       "model_id": "2eeef8a5509447eeb7962cfc57fb09d0",
       "version_major": 2,
       "version_minor": 0
      },
      "text/plain": [
       "50, 2, balanced, gini:   0%|          | 0/2 [00:00<?, ?it/s]"
      ]
     },
     "metadata": {},
     "output_type": "display_data"
    },
    {
     "data": {
      "application/vnd.jupyter.widget-view+json": {
       "model_id": "b7d67107e39b4794872bf9e31410db85",
       "version_major": 2,
       "version_minor": 0
      },
      "text/plain": [
       "50, 2, None, gini:   0%|          | 0/2 [00:00<?, ?it/s]"
      ]
     },
     "metadata": {},
     "output_type": "display_data"
    },
    {
     "data": {
      "application/vnd.jupyter.widget-view+json": {
       "model_id": "a604f7673a6143a984f36e6043282cf9",
       "version_major": 2,
       "version_minor": 0
      },
      "text/plain": [
       "50, 3, balanced, gini:   0%|          | 0/2 [00:00<?, ?it/s]"
      ]
     },
     "metadata": {},
     "output_type": "display_data"
    },
    {
     "data": {
      "application/vnd.jupyter.widget-view+json": {
       "model_id": "37c2751fc55e4b13a9f3d2857d6e1c4b",
       "version_major": 2,
       "version_minor": 0
      },
      "text/plain": [
       "50, 3, None, gini:   0%|          | 0/2 [00:00<?, ?it/s]"
      ]
     },
     "metadata": {},
     "output_type": "display_data"
    },
    {
     "data": {
      "application/vnd.jupyter.widget-view+json": {
       "model_id": "1008bb0f30be42378c7aaf6dbd373f90",
       "version_major": 2,
       "version_minor": 0
      },
      "text/plain": [
       "50, 4, balanced, gini:   0%|          | 0/2 [00:00<?, ?it/s]"
      ]
     },
     "metadata": {},
     "output_type": "display_data"
    },
    {
     "data": {
      "application/vnd.jupyter.widget-view+json": {
       "model_id": "683e55150fe443dfa1be9ff6d1efb298",
       "version_major": 2,
       "version_minor": 0
      },
      "text/plain": [
       "50, 4, None, gini:   0%|          | 0/2 [00:00<?, ?it/s]"
      ]
     },
     "metadata": {},
     "output_type": "display_data"
    },
    {
     "data": {
      "application/vnd.jupyter.widget-view+json": {
       "model_id": "1595beaefd3348abba72ce8929b170ae",
       "version_major": 2,
       "version_minor": 0
      },
      "text/plain": [
       "50, 5, balanced, gini:   0%|          | 0/2 [00:00<?, ?it/s]"
      ]
     },
     "metadata": {},
     "output_type": "display_data"
    },
    {
     "data": {
      "application/vnd.jupyter.widget-view+json": {
       "model_id": "3ec421ada4c94816a923adcbd08805b9",
       "version_major": 2,
       "version_minor": 0
      },
      "text/plain": [
       "50, 5, None, gini:   0%|          | 0/2 [00:00<?, ?it/s]"
      ]
     },
     "metadata": {},
     "output_type": "display_data"
    },
    {
     "data": {
      "application/vnd.jupyter.widget-view+json": {
       "model_id": "a486443af5c648a5887507b8895b369d",
       "version_major": 2,
       "version_minor": 0
      },
      "text/plain": [
       "50, 6, balanced, gini:   0%|          | 0/2 [00:00<?, ?it/s]"
      ]
     },
     "metadata": {},
     "output_type": "display_data"
    },
    {
     "data": {
      "application/vnd.jupyter.widget-view+json": {
       "model_id": "b627b00ea2294236a4e4d9de39d515c4",
       "version_major": 2,
       "version_minor": 0
      },
      "text/plain": [
       "50, 6, None, gini:   0%|          | 0/2 [00:00<?, ?it/s]"
      ]
     },
     "metadata": {},
     "output_type": "display_data"
    },
    {
     "data": {
      "application/vnd.jupyter.widget-view+json": {
       "model_id": "61df534e011f47319d265a330a395836",
       "version_major": 2,
       "version_minor": 0
      },
      "text/plain": [
       "50, 7, balanced, gini:   0%|          | 0/2 [00:00<?, ?it/s]"
      ]
     },
     "metadata": {},
     "output_type": "display_data"
    },
    {
     "data": {
      "application/vnd.jupyter.widget-view+json": {
       "model_id": "1ce67957d7a244a6a62a4487d841a11d",
       "version_major": 2,
       "version_minor": 0
      },
      "text/plain": [
       "50, 7, None, gini:   0%|          | 0/2 [00:00<?, ?it/s]"
      ]
     },
     "metadata": {},
     "output_type": "display_data"
    },
    {
     "data": {
      "application/vnd.jupyter.widget-view+json": {
       "model_id": "7adf84747f6849aab742a3d141d02eed",
       "version_major": 2,
       "version_minor": 0
      },
      "text/plain": [
       "50, 8, balanced, gini:   0%|          | 0/2 [00:00<?, ?it/s]"
      ]
     },
     "metadata": {},
     "output_type": "display_data"
    },
    {
     "data": {
      "application/vnd.jupyter.widget-view+json": {
       "model_id": "aefa63c009a14f12b3cb5c514003263c",
       "version_major": 2,
       "version_minor": 0
      },
      "text/plain": [
       "50, 8, None, gini:   0%|          | 0/2 [00:00<?, ?it/s]"
      ]
     },
     "metadata": {},
     "output_type": "display_data"
    },
    {
     "data": {
      "application/vnd.jupyter.widget-view+json": {
       "model_id": "2fb0a6d2030d48a5929a89b5d2ba1ace",
       "version_major": 2,
       "version_minor": 0
      },
      "text/plain": [
       "50, 9, balanced, gini:   0%|          | 0/2 [00:00<?, ?it/s]"
      ]
     },
     "metadata": {},
     "output_type": "display_data"
    },
    {
     "data": {
      "application/vnd.jupyter.widget-view+json": {
       "model_id": "0d061fd5fece47aa8014cc3b51fb2a1e",
       "version_major": 2,
       "version_minor": 0
      },
      "text/plain": [
       "50, 9, None, gini:   0%|          | 0/2 [00:00<?, ?it/s]"
      ]
     },
     "metadata": {},
     "output_type": "display_data"
    },
    {
     "data": {
      "application/vnd.jupyter.widget-view+json": {
       "model_id": "d74b2f79a68447a4ae8031971a6ef6f1",
       "version_major": 2,
       "version_minor": 0
      },
      "text/plain": [
       "50, 10, balanced, gini:   0%|          | 0/2 [00:00<?, ?it/s]"
      ]
     },
     "metadata": {},
     "output_type": "display_data"
    },
    {
     "data": {
      "application/vnd.jupyter.widget-view+json": {
       "model_id": "18b4c6b4b4e543c691f9a5890be4b896",
       "version_major": 2,
       "version_minor": 0
      },
      "text/plain": [
       "50, 10, None, gini:   0%|          | 0/2 [00:00<?, ?it/s]"
      ]
     },
     "metadata": {},
     "output_type": "display_data"
    },
    {
     "data": {
      "application/vnd.jupyter.widget-view+json": {
       "model_id": "0ed8a533c91749b693293ad17bcc9f80",
       "version_major": 2,
       "version_minor": 0
      },
      "text/plain": [
       "50, 11, balanced, gini:   0%|          | 0/2 [00:00<?, ?it/s]"
      ]
     },
     "metadata": {},
     "output_type": "display_data"
    },
    {
     "data": {
      "application/vnd.jupyter.widget-view+json": {
       "model_id": "c9a680973ce94989944918ea548567b3",
       "version_major": 2,
       "version_minor": 0
      },
      "text/plain": [
       "50, 11, None, gini:   0%|          | 0/2 [00:00<?, ?it/s]"
      ]
     },
     "metadata": {},
     "output_type": "display_data"
    },
    {
     "data": {
      "application/vnd.jupyter.widget-view+json": {
       "model_id": "2bafe8b2fd0c4f3a8b6010dbceb4f25c",
       "version_major": 2,
       "version_minor": 0
      },
      "text/plain": [
       "50, 12, balanced, gini:   0%|          | 0/2 [00:00<?, ?it/s]"
      ]
     },
     "metadata": {},
     "output_type": "display_data"
    },
    {
     "data": {
      "application/vnd.jupyter.widget-view+json": {
       "model_id": "9f08d4b0e11540f980b9dc9562416ebc",
       "version_major": 2,
       "version_minor": 0
      },
      "text/plain": [
       "50, 12, None, gini:   0%|          | 0/2 [00:00<?, ?it/s]"
      ]
     },
     "metadata": {},
     "output_type": "display_data"
    },
    {
     "data": {
      "application/vnd.jupyter.widget-view+json": {
       "model_id": "84cd7ef810a64bf497806223204ffbc6",
       "version_major": 2,
       "version_minor": 0
      },
      "text/plain": [
       "50, 13, balanced, gini:   0%|          | 0/2 [00:00<?, ?it/s]"
      ]
     },
     "metadata": {},
     "output_type": "display_data"
    },
    {
     "data": {
      "application/vnd.jupyter.widget-view+json": {
       "model_id": "9ae79ba5573645f5aedcc1b4cf21bfb8",
       "version_major": 2,
       "version_minor": 0
      },
      "text/plain": [
       "50, 13, None, gini:   0%|          | 0/2 [00:00<?, ?it/s]"
      ]
     },
     "metadata": {},
     "output_type": "display_data"
    },
    {
     "data": {
      "application/vnd.jupyter.widget-view+json": {
       "model_id": "25f4940ab330437b822a0772be506f41",
       "version_major": 2,
       "version_minor": 0
      },
      "text/plain": [
       "50, 14, balanced, gini:   0%|          | 0/2 [00:00<?, ?it/s]"
      ]
     },
     "metadata": {},
     "output_type": "display_data"
    },
    {
     "data": {
      "application/vnd.jupyter.widget-view+json": {
       "model_id": "a450be873038487e8569d21f5afa50a0",
       "version_major": 2,
       "version_minor": 0
      },
      "text/plain": [
       "50, 14, None, gini:   0%|          | 0/2 [00:00<?, ?it/s]"
      ]
     },
     "metadata": {},
     "output_type": "display_data"
    },
    {
     "data": {
      "application/vnd.jupyter.widget-view+json": {
       "model_id": "6a3795b334b441188d94fc7f3647658b",
       "version_major": 2,
       "version_minor": 0
      },
      "text/plain": [
       "50, 15, balanced, gini:   0%|          | 0/2 [00:00<?, ?it/s]"
      ]
     },
     "metadata": {},
     "output_type": "display_data"
    },
    {
     "data": {
      "application/vnd.jupyter.widget-view+json": {
       "model_id": "f54e0806a2244159a6b358198b298bc5",
       "version_major": 2,
       "version_minor": 0
      },
      "text/plain": [
       "50, 15, None, gini:   0%|          | 0/2 [00:00<?, ?it/s]"
      ]
     },
     "metadata": {},
     "output_type": "display_data"
    },
    {
     "data": {
      "application/vnd.jupyter.widget-view+json": {
       "model_id": "6d66438c1ea5474eb89ce1f447d2cb59",
       "version_major": 2,
       "version_minor": 0
      },
      "text/plain": [
       "50, 16, balanced, gini:   0%|          | 0/2 [00:00<?, ?it/s]"
      ]
     },
     "metadata": {},
     "output_type": "display_data"
    },
    {
     "data": {
      "application/vnd.jupyter.widget-view+json": {
       "model_id": "421412f410a0450abccb37d4f7453df7",
       "version_major": 2,
       "version_minor": 0
      },
      "text/plain": [
       "50, 16, None, gini:   0%|          | 0/2 [00:00<?, ?it/s]"
      ]
     },
     "metadata": {},
     "output_type": "display_data"
    },
    {
     "data": {
      "application/vnd.jupyter.widget-view+json": {
       "model_id": "0c08ca275c7c4bedac516ab751202b73",
       "version_major": 2,
       "version_minor": 0
      },
      "text/plain": [
       "50, 17, balanced, gini:   0%|          | 0/2 [00:00<?, ?it/s]"
      ]
     },
     "metadata": {},
     "output_type": "display_data"
    },
    {
     "data": {
      "application/vnd.jupyter.widget-view+json": {
       "model_id": "72cefc3c55f74396ab5c636d9a2cff3d",
       "version_major": 2,
       "version_minor": 0
      },
      "text/plain": [
       "50, 17, None, gini:   0%|          | 0/2 [00:00<?, ?it/s]"
      ]
     },
     "metadata": {},
     "output_type": "display_data"
    },
    {
     "data": {
      "application/vnd.jupyter.widget-view+json": {
       "model_id": "cb273b549f754425bd8b5779f0fc1590",
       "version_major": 2,
       "version_minor": 0
      },
      "text/plain": [
       "50, 18, balanced, gini:   0%|          | 0/2 [00:00<?, ?it/s]"
      ]
     },
     "metadata": {},
     "output_type": "display_data"
    },
    {
     "data": {
      "application/vnd.jupyter.widget-view+json": {
       "model_id": "21effd5d4402422390e1f0dab1f3742a",
       "version_major": 2,
       "version_minor": 0
      },
      "text/plain": [
       "50, 18, None, gini:   0%|          | 0/2 [00:00<?, ?it/s]"
      ]
     },
     "metadata": {},
     "output_type": "display_data"
    },
    {
     "data": {
      "application/vnd.jupyter.widget-view+json": {
       "model_id": "3697f2d247704b278404b461d08d2452",
       "version_major": 2,
       "version_minor": 0
      },
      "text/plain": [
       "50, 19, balanced, gini:   0%|          | 0/2 [00:00<?, ?it/s]"
      ]
     },
     "metadata": {},
     "output_type": "display_data"
    },
    {
     "data": {
      "application/vnd.jupyter.widget-view+json": {
       "model_id": "267f41d1fb014a34bde04564088dab8f",
       "version_major": 2,
       "version_minor": 0
      },
      "text/plain": [
       "50, 19, None, gini:   0%|          | 0/2 [00:00<?, ?it/s]"
      ]
     },
     "metadata": {},
     "output_type": "display_data"
    },
    {
     "data": {
      "application/vnd.jupyter.widget-view+json": {
       "model_id": "bdf6f9aa26c945ecbd9ecf7b2bee7b73",
       "version_major": 2,
       "version_minor": 0
      },
      "text/plain": [
       "50, 20, balanced, gini:   0%|          | 0/2 [00:00<?, ?it/s]"
      ]
     },
     "metadata": {},
     "output_type": "display_data"
    },
    {
     "data": {
      "application/vnd.jupyter.widget-view+json": {
       "model_id": "0df156dfc1cd49b696b2cd2e8569e7ad",
       "version_major": 2,
       "version_minor": 0
      },
      "text/plain": [
       "50, 20, None, gini:   0%|          | 0/2 [00:00<?, ?it/s]"
      ]
     },
     "metadata": {},
     "output_type": "display_data"
    },
    {
     "data": {
      "application/vnd.jupyter.widget-view+json": {
       "model_id": "14ff6ef5b05643dd8ffed213c4d97b06",
       "version_major": 2,
       "version_minor": 0
      },
      "text/plain": [
       "50, 21, balanced, gini:   0%|          | 0/2 [00:00<?, ?it/s]"
      ]
     },
     "metadata": {},
     "output_type": "display_data"
    },
    {
     "data": {
      "application/vnd.jupyter.widget-view+json": {
       "model_id": "77df3daee9454c2dbd9edf2524894f62",
       "version_major": 2,
       "version_minor": 0
      },
      "text/plain": [
       "50, 21, None, gini:   0%|          | 0/2 [00:00<?, ?it/s]"
      ]
     },
     "metadata": {},
     "output_type": "display_data"
    },
    {
     "data": {
      "application/vnd.jupyter.widget-view+json": {
       "model_id": "4fe53ff2b4c74315871de0717335aa92",
       "version_major": 2,
       "version_minor": 0
      },
      "text/plain": [
       "50, 22, balanced, gini:   0%|          | 0/2 [00:00<?, ?it/s]"
      ]
     },
     "metadata": {},
     "output_type": "display_data"
    },
    {
     "data": {
      "application/vnd.jupyter.widget-view+json": {
       "model_id": "04c4394251984f5fbc00518ace57c48f",
       "version_major": 2,
       "version_minor": 0
      },
      "text/plain": [
       "50, 22, None, gini:   0%|          | 0/2 [00:00<?, ?it/s]"
      ]
     },
     "metadata": {},
     "output_type": "display_data"
    },
    {
     "data": {
      "application/vnd.jupyter.widget-view+json": {
       "model_id": "9ebac4eb7b1c4f1db5695e488b50038d",
       "version_major": 2,
       "version_minor": 0
      },
      "text/plain": [
       "50, 23, balanced, gini:   0%|          | 0/2 [00:00<?, ?it/s]"
      ]
     },
     "metadata": {},
     "output_type": "display_data"
    },
    {
     "data": {
      "application/vnd.jupyter.widget-view+json": {
       "model_id": "b2181c93050847a3953ea322161f0b45",
       "version_major": 2,
       "version_minor": 0
      },
      "text/plain": [
       "50, 23, None, gini:   0%|          | 0/2 [00:00<?, ?it/s]"
      ]
     },
     "metadata": {},
     "output_type": "display_data"
    },
    {
     "data": {
      "application/vnd.jupyter.widget-view+json": {
       "model_id": "ba2aceacc8bb4417a78aaf19c0914d24",
       "version_major": 2,
       "version_minor": 0
      },
      "text/plain": [
       "50, 24, balanced, gini:   0%|          | 0/2 [00:00<?, ?it/s]"
      ]
     },
     "metadata": {},
     "output_type": "display_data"
    },
    {
     "data": {
      "application/vnd.jupyter.widget-view+json": {
       "model_id": "384aff0d80474cb8af59669130e729a6",
       "version_major": 2,
       "version_minor": 0
      },
      "text/plain": [
       "50, 24, None, gini:   0%|          | 0/2 [00:00<?, ?it/s]"
      ]
     },
     "metadata": {},
     "output_type": "display_data"
    },
    {
     "data": {
      "application/vnd.jupyter.widget-view+json": {
       "model_id": "ce8060a8665f4d64a36bf57831f68b06",
       "version_major": 2,
       "version_minor": 0
      },
      "text/plain": [
       "50, 25, balanced, gini:   0%|          | 0/2 [00:00<?, ?it/s]"
      ]
     },
     "metadata": {},
     "output_type": "display_data"
    },
    {
     "data": {
      "application/vnd.jupyter.widget-view+json": {
       "model_id": "45220c50880a443896ee027617f1262e",
       "version_major": 2,
       "version_minor": 0
      },
      "text/plain": [
       "50, 25, None, gini:   0%|          | 0/2 [00:00<?, ?it/s]"
      ]
     },
     "metadata": {},
     "output_type": "display_data"
    },
    {
     "data": {
      "application/vnd.jupyter.widget-view+json": {
       "model_id": "74639ef52a624ef0beb2126594e5ebfd",
       "version_major": 2,
       "version_minor": 0
      },
      "text/plain": [
       "50, 26, balanced, gini:   0%|          | 0/2 [00:00<?, ?it/s]"
      ]
     },
     "metadata": {},
     "output_type": "display_data"
    },
    {
     "data": {
      "application/vnd.jupyter.widget-view+json": {
       "model_id": "294fee04645b431ab5bccdeab8756ba1",
       "version_major": 2,
       "version_minor": 0
      },
      "text/plain": [
       "50, 26, None, gini:   0%|          | 0/2 [00:00<?, ?it/s]"
      ]
     },
     "metadata": {},
     "output_type": "display_data"
    },
    {
     "data": {
      "application/vnd.jupyter.widget-view+json": {
       "model_id": "69b5d293216c46a9a826cc0ba27daada",
       "version_major": 2,
       "version_minor": 0
      },
      "text/plain": [
       "50, 27, balanced, gini:   0%|          | 0/2 [00:00<?, ?it/s]"
      ]
     },
     "metadata": {},
     "output_type": "display_data"
    },
    {
     "data": {
      "application/vnd.jupyter.widget-view+json": {
       "model_id": "8b5f624654a2495ca19af78667b3f219",
       "version_major": 2,
       "version_minor": 0
      },
      "text/plain": [
       "50, 27, None, gini:   0%|          | 0/2 [00:00<?, ?it/s]"
      ]
     },
     "metadata": {},
     "output_type": "display_data"
    },
    {
     "data": {
      "application/vnd.jupyter.widget-view+json": {
       "model_id": "6dc8f6b228874660a8e41894872b5094",
       "version_major": 2,
       "version_minor": 0
      },
      "text/plain": [
       "50, 28, balanced, gini:   0%|          | 0/2 [00:00<?, ?it/s]"
      ]
     },
     "metadata": {},
     "output_type": "display_data"
    },
    {
     "data": {
      "application/vnd.jupyter.widget-view+json": {
       "model_id": "dd6dcc2715bb41bfb230642db690f811",
       "version_major": 2,
       "version_minor": 0
      },
      "text/plain": [
       "50, 28, None, gini:   0%|          | 0/2 [00:00<?, ?it/s]"
      ]
     },
     "metadata": {},
     "output_type": "display_data"
    },
    {
     "data": {
      "application/vnd.jupyter.widget-view+json": {
       "model_id": "019300e8a68548658a9c493ba72d2076",
       "version_major": 2,
       "version_minor": 0
      },
      "text/plain": [
       "50, 29, balanced, gini:   0%|          | 0/2 [00:00<?, ?it/s]"
      ]
     },
     "metadata": {},
     "output_type": "display_data"
    },
    {
     "data": {
      "application/vnd.jupyter.widget-view+json": {
       "model_id": "71ce894d92a247a2a83f163fd8ea38ee",
       "version_major": 2,
       "version_minor": 0
      },
      "text/plain": [
       "50, 29, None, gini:   0%|          | 0/2 [00:00<?, ?it/s]"
      ]
     },
     "metadata": {},
     "output_type": "display_data"
    },
    {
     "data": {
      "application/vnd.jupyter.widget-view+json": {
       "model_id": "55e339e86e2642a7a711c80b8f03952e",
       "version_major": 2,
       "version_minor": 0
      },
      "text/plain": [
       "50, 30, balanced, gini:   0%|          | 0/2 [00:00<?, ?it/s]"
      ]
     },
     "metadata": {},
     "output_type": "display_data"
    },
    {
     "data": {
      "application/vnd.jupyter.widget-view+json": {
       "model_id": "1e23e5b02dfa403ebf093a3845bfa3d1",
       "version_major": 2,
       "version_minor": 0
      },
      "text/plain": [
       "50, 30, None, gini:   0%|          | 0/2 [00:00<?, ?it/s]"
      ]
     },
     "metadata": {},
     "output_type": "display_data"
    },
    {
     "data": {
      "application/vnd.jupyter.widget-view+json": {
       "model_id": "223657fffe594b49a0c00822682df55d",
       "version_major": 2,
       "version_minor": 0
      },
      "text/plain": [
       "50, 31, balanced, gini:   0%|          | 0/2 [00:00<?, ?it/s]"
      ]
     },
     "metadata": {},
     "output_type": "display_data"
    },
    {
     "data": {
      "application/vnd.jupyter.widget-view+json": {
       "model_id": "5fb398cb100a48be91d32210238aff20",
       "version_major": 2,
       "version_minor": 0
      },
      "text/plain": [
       "50, 31, None, gini:   0%|          | 0/2 [00:00<?, ?it/s]"
      ]
     },
     "metadata": {},
     "output_type": "display_data"
    },
    {
     "data": {
      "application/vnd.jupyter.widget-view+json": {
       "model_id": "7f7261ed9bcd4feea9102cdb005149d2",
       "version_major": 2,
       "version_minor": 0
      },
      "text/plain": [
       "50, 32, balanced, gini:   0%|          | 0/2 [00:00<?, ?it/s]"
      ]
     },
     "metadata": {},
     "output_type": "display_data"
    },
    {
     "data": {
      "application/vnd.jupyter.widget-view+json": {
       "model_id": "e33183e62fdd4ae09ae350fee1913c4e",
       "version_major": 2,
       "version_minor": 0
      },
      "text/plain": [
       "50, 32, None, gini:   0%|          | 0/2 [00:00<?, ?it/s]"
      ]
     },
     "metadata": {},
     "output_type": "display_data"
    },
    {
     "data": {
      "application/vnd.jupyter.widget-view+json": {
       "model_id": "bc92fd9034ae410891e05a1a9f7e3b22",
       "version_major": 2,
       "version_minor": 0
      },
      "text/plain": [
       "50, 33, balanced, gini:   0%|          | 0/2 [00:00<?, ?it/s]"
      ]
     },
     "metadata": {},
     "output_type": "display_data"
    },
    {
     "data": {
      "application/vnd.jupyter.widget-view+json": {
       "model_id": "45b8840c1219414185683e15629aa043",
       "version_major": 2,
       "version_minor": 0
      },
      "text/plain": [
       "50, 33, None, gini:   0%|          | 0/2 [00:00<?, ?it/s]"
      ]
     },
     "metadata": {},
     "output_type": "display_data"
    },
    {
     "data": {
      "application/vnd.jupyter.widget-view+json": {
       "model_id": "b99470a5250c4f3e97c55bb046dbb03e",
       "version_major": 2,
       "version_minor": 0
      },
      "text/plain": [
       "50, 34, balanced, gini:   0%|          | 0/2 [00:00<?, ?it/s]"
      ]
     },
     "metadata": {},
     "output_type": "display_data"
    },
    {
     "data": {
      "application/vnd.jupyter.widget-view+json": {
       "model_id": "9308e51f17784be1a0bedfedb5cb2982",
       "version_major": 2,
       "version_minor": 0
      },
      "text/plain": [
       "50, 34, None, gini:   0%|          | 0/2 [00:00<?, ?it/s]"
      ]
     },
     "metadata": {},
     "output_type": "display_data"
    },
    {
     "data": {
      "application/vnd.jupyter.widget-view+json": {
       "model_id": "1692009db8dc4fa79ea8d1451c13175c",
       "version_major": 2,
       "version_minor": 0
      },
      "text/plain": [
       "50, 35, balanced, gini:   0%|          | 0/2 [00:00<?, ?it/s]"
      ]
     },
     "metadata": {},
     "output_type": "display_data"
    },
    {
     "data": {
      "application/vnd.jupyter.widget-view+json": {
       "model_id": "92c1b875cd7442708bd3399800e3c149",
       "version_major": 2,
       "version_minor": 0
      },
      "text/plain": [
       "50, 35, None, gini:   0%|          | 0/2 [00:00<?, ?it/s]"
      ]
     },
     "metadata": {},
     "output_type": "display_data"
    },
    {
     "data": {
      "application/vnd.jupyter.widget-view+json": {
       "model_id": "fb61aa19e5834870a62c54bda033e987",
       "version_major": 2,
       "version_minor": 0
      },
      "text/plain": [
       "50, 36, balanced, gini:   0%|          | 0/2 [00:00<?, ?it/s]"
      ]
     },
     "metadata": {},
     "output_type": "display_data"
    },
    {
     "data": {
      "application/vnd.jupyter.widget-view+json": {
       "model_id": "5cd4800c993a415da0392de027dedb5a",
       "version_major": 2,
       "version_minor": 0
      },
      "text/plain": [
       "50, 36, None, gini:   0%|          | 0/2 [00:00<?, ?it/s]"
      ]
     },
     "metadata": {},
     "output_type": "display_data"
    },
    {
     "data": {
      "application/vnd.jupyter.widget-view+json": {
       "model_id": "ac5f0cdb32b84d2085c18198e6311221",
       "version_major": 2,
       "version_minor": 0
      },
      "text/plain": [
       "50, 37, balanced, gini:   0%|          | 0/2 [00:00<?, ?it/s]"
      ]
     },
     "metadata": {},
     "output_type": "display_data"
    },
    {
     "data": {
      "application/vnd.jupyter.widget-view+json": {
       "model_id": "720a8d80fa95401ebb2e0182858c0aaf",
       "version_major": 2,
       "version_minor": 0
      },
      "text/plain": [
       "50, 37, None, gini:   0%|          | 0/2 [00:00<?, ?it/s]"
      ]
     },
     "metadata": {},
     "output_type": "display_data"
    },
    {
     "data": {
      "application/vnd.jupyter.widget-view+json": {
       "model_id": "cd601fa7a1314c0b927b1cda9618a698",
       "version_major": 2,
       "version_minor": 0
      },
      "text/plain": [
       "50, 38, balanced, gini:   0%|          | 0/2 [00:00<?, ?it/s]"
      ]
     },
     "metadata": {},
     "output_type": "display_data"
    },
    {
     "data": {
      "application/vnd.jupyter.widget-view+json": {
       "model_id": "59fbcd0298884bd89da17f819ab1461b",
       "version_major": 2,
       "version_minor": 0
      },
      "text/plain": [
       "50, 38, None, gini:   0%|          | 0/2 [00:00<?, ?it/s]"
      ]
     },
     "metadata": {},
     "output_type": "display_data"
    },
    {
     "data": {
      "application/vnd.jupyter.widget-view+json": {
       "model_id": "52c208e6c52a46fdaf165e2caa375f69",
       "version_major": 2,
       "version_minor": 0
      },
      "text/plain": [
       "50, 39, balanced, gini:   0%|          | 0/2 [00:00<?, ?it/s]"
      ]
     },
     "metadata": {},
     "output_type": "display_data"
    },
    {
     "data": {
      "application/vnd.jupyter.widget-view+json": {
       "model_id": "30a009fbca154dd99724edd740c688b9",
       "version_major": 2,
       "version_minor": 0
      },
      "text/plain": [
       "50, 39, None, gini:   0%|          | 0/2 [00:00<?, ?it/s]"
      ]
     },
     "metadata": {},
     "output_type": "display_data"
    },
    {
     "data": {
      "application/vnd.jupyter.widget-view+json": {
       "model_id": "4b3a4c2708274e228dc722d06bb4ded4",
       "version_major": 2,
       "version_minor": 0
      },
      "text/plain": [
       "50, 40, balanced, gini:   0%|          | 0/2 [00:00<?, ?it/s]"
      ]
     },
     "metadata": {},
     "output_type": "display_data"
    },
    {
     "data": {
      "application/vnd.jupyter.widget-view+json": {
       "model_id": "5485ee0093a04e11a69bd022f4364720",
       "version_major": 2,
       "version_minor": 0
      },
      "text/plain": [
       "50, 40, None, gini:   0%|          | 0/2 [00:00<?, ?it/s]"
      ]
     },
     "metadata": {},
     "output_type": "display_data"
    },
    {
     "data": {
      "application/vnd.jupyter.widget-view+json": {
       "model_id": "ee7169ffcd1a4c3fa6cb309e5ee1a965",
       "version_major": 2,
       "version_minor": 0
      },
      "text/plain": [
       "50, 41, balanced, gini:   0%|          | 0/2 [00:00<?, ?it/s]"
      ]
     },
     "metadata": {},
     "output_type": "display_data"
    },
    {
     "data": {
      "application/vnd.jupyter.widget-view+json": {
       "model_id": "8e2bb4fb8c6e48af902ef89a8959a4a7",
       "version_major": 2,
       "version_minor": 0
      },
      "text/plain": [
       "50, 41, None, gini:   0%|          | 0/2 [00:00<?, ?it/s]"
      ]
     },
     "metadata": {},
     "output_type": "display_data"
    },
    {
     "data": {
      "application/vnd.jupyter.widget-view+json": {
       "model_id": "6e94f3b4227b4a2eaf8cbfb06ac6634e",
       "version_major": 2,
       "version_minor": 0
      },
      "text/plain": [
       "50, 42, balanced, gini:   0%|          | 0/2 [00:00<?, ?it/s]"
      ]
     },
     "metadata": {},
     "output_type": "display_data"
    },
    {
     "data": {
      "application/vnd.jupyter.widget-view+json": {
       "model_id": "e95304bd6c8649e3b4eeeccbfe8550dd",
       "version_major": 2,
       "version_minor": 0
      },
      "text/plain": [
       "50, 42, None, gini:   0%|          | 0/2 [00:00<?, ?it/s]"
      ]
     },
     "metadata": {},
     "output_type": "display_data"
    },
    {
     "data": {
      "application/vnd.jupyter.widget-view+json": {
       "model_id": "de46b97941b4421dbeb1870ccdd20750",
       "version_major": 2,
       "version_minor": 0
      },
      "text/plain": [
       "50, 43, balanced, gini:   0%|          | 0/2 [00:00<?, ?it/s]"
      ]
     },
     "metadata": {},
     "output_type": "display_data"
    },
    {
     "data": {
      "application/vnd.jupyter.widget-view+json": {
       "model_id": "036854ecce4a4da5bf03229c8b0bd57e",
       "version_major": 2,
       "version_minor": 0
      },
      "text/plain": [
       "50, 43, None, gini:   0%|          | 0/2 [00:00<?, ?it/s]"
      ]
     },
     "metadata": {},
     "output_type": "display_data"
    },
    {
     "data": {
      "application/vnd.jupyter.widget-view+json": {
       "model_id": "d73a4362e1164021b2b0821b2a7434fb",
       "version_major": 2,
       "version_minor": 0
      },
      "text/plain": [
       "50, 44, balanced, gini:   0%|          | 0/2 [00:00<?, ?it/s]"
      ]
     },
     "metadata": {},
     "output_type": "display_data"
    },
    {
     "data": {
      "application/vnd.jupyter.widget-view+json": {
       "model_id": "6d11fe95aa2242a5a79ba15073dc0232",
       "version_major": 2,
       "version_minor": 0
      },
      "text/plain": [
       "50, 44, None, gini:   0%|          | 0/2 [00:00<?, ?it/s]"
      ]
     },
     "metadata": {},
     "output_type": "display_data"
    },
    {
     "data": {
      "application/vnd.jupyter.widget-view+json": {
       "model_id": "7af7ebc081244cf9bd3a315e21e6d4c4",
       "version_major": 2,
       "version_minor": 0
      },
      "text/plain": [
       "50, 45, balanced, gini:   0%|          | 0/2 [00:00<?, ?it/s]"
      ]
     },
     "metadata": {},
     "output_type": "display_data"
    },
    {
     "data": {
      "application/vnd.jupyter.widget-view+json": {
       "model_id": "4e72f9147fa946478ff3ff1924afd43c",
       "version_major": 2,
       "version_minor": 0
      },
      "text/plain": [
       "50, 45, None, gini:   0%|          | 0/2 [00:00<?, ?it/s]"
      ]
     },
     "metadata": {},
     "output_type": "display_data"
    },
    {
     "data": {
      "application/vnd.jupyter.widget-view+json": {
       "model_id": "deee006abaf542e49d2566cbf4d13bf7",
       "version_major": 2,
       "version_minor": 0
      },
      "text/plain": [
       "50, 46, balanced, gini:   0%|          | 0/2 [00:00<?, ?it/s]"
      ]
     },
     "metadata": {},
     "output_type": "display_data"
    },
    {
     "data": {
      "application/vnd.jupyter.widget-view+json": {
       "model_id": "2054e3c4597c43249fc41ca6e5568bf0",
       "version_major": 2,
       "version_minor": 0
      },
      "text/plain": [
       "50, 46, None, gini:   0%|          | 0/2 [00:00<?, ?it/s]"
      ]
     },
     "metadata": {},
     "output_type": "display_data"
    },
    {
     "data": {
      "application/vnd.jupyter.widget-view+json": {
       "model_id": "dc4eb046fb0c4ca2a9696fe6861b58ca",
       "version_major": 2,
       "version_minor": 0
      },
      "text/plain": [
       "50, 47, balanced, gini:   0%|          | 0/2 [00:00<?, ?it/s]"
      ]
     },
     "metadata": {},
     "output_type": "display_data"
    },
    {
     "data": {
      "application/vnd.jupyter.widget-view+json": {
       "model_id": "bb72ea0833c146b8a84810265e28d94e",
       "version_major": 2,
       "version_minor": 0
      },
      "text/plain": [
       "50, 47, None, gini:   0%|          | 0/2 [00:00<?, ?it/s]"
      ]
     },
     "metadata": {},
     "output_type": "display_data"
    },
    {
     "data": {
      "application/vnd.jupyter.widget-view+json": {
       "model_id": "379328127ec9485fb94a6f7072e52fc3",
       "version_major": 2,
       "version_minor": 0
      },
      "text/plain": [
       "50, 48, balanced, gini:   0%|          | 0/2 [00:00<?, ?it/s]"
      ]
     },
     "metadata": {},
     "output_type": "display_data"
    },
    {
     "data": {
      "application/vnd.jupyter.widget-view+json": {
       "model_id": "5f9721a8c73b4e7e91ee8a6f45b55bc3",
       "version_major": 2,
       "version_minor": 0
      },
      "text/plain": [
       "50, 48, None, gini:   0%|          | 0/2 [00:00<?, ?it/s]"
      ]
     },
     "metadata": {},
     "output_type": "display_data"
    },
    {
     "data": {
      "application/vnd.jupyter.widget-view+json": {
       "model_id": "b23fa3b6db8e46bfbde2c30a6b2784f6",
       "version_major": 2,
       "version_minor": 0
      },
      "text/plain": [
       "50, 49, balanced, gini:   0%|          | 0/2 [00:00<?, ?it/s]"
      ]
     },
     "metadata": {},
     "output_type": "display_data"
    },
    {
     "data": {
      "application/vnd.jupyter.widget-view+json": {
       "model_id": "4ec59010d328461a96a80aab77b3bce5",
       "version_major": 2,
       "version_minor": 0
      },
      "text/plain": [
       "50, 49, None, gini:   0%|          | 0/2 [00:00<?, ?it/s]"
      ]
     },
     "metadata": {},
     "output_type": "display_data"
    },
    {
     "data": {
      "application/vnd.jupyter.widget-view+json": {
       "model_id": "b93b7a5db65e47c8b6c6b9353c70a38a",
       "version_major": 2,
       "version_minor": 0
      },
      "text/plain": [
       "100, 1, balanced, gini:   0%|          | 0/2 [00:00<?, ?it/s]"
      ]
     },
     "metadata": {},
     "output_type": "display_data"
    },
    {
     "data": {
      "application/vnd.jupyter.widget-view+json": {
       "model_id": "1be8975fb27947c68929cdfa02c16d13",
       "version_major": 2,
       "version_minor": 0
      },
      "text/plain": [
       "100, 1, None, gini:   0%|          | 0/2 [00:00<?, ?it/s]"
      ]
     },
     "metadata": {},
     "output_type": "display_data"
    },
    {
     "data": {
      "application/vnd.jupyter.widget-view+json": {
       "model_id": "ba3cd8144f1a41c9905d43c4bb4be912",
       "version_major": 2,
       "version_minor": 0
      },
      "text/plain": [
       "100, 2, balanced, gini:   0%|          | 0/2 [00:00<?, ?it/s]"
      ]
     },
     "metadata": {},
     "output_type": "display_data"
    },
    {
     "data": {
      "application/vnd.jupyter.widget-view+json": {
       "model_id": "5e703982d59346bc84fd6fda875809c9",
       "version_major": 2,
       "version_minor": 0
      },
      "text/plain": [
       "100, 2, None, gini:   0%|          | 0/2 [00:00<?, ?it/s]"
      ]
     },
     "metadata": {},
     "output_type": "display_data"
    },
    {
     "data": {
      "application/vnd.jupyter.widget-view+json": {
       "model_id": "11643d17c99d415282ec497fc2efca6d",
       "version_major": 2,
       "version_minor": 0
      },
      "text/plain": [
       "100, 3, balanced, gini:   0%|          | 0/2 [00:00<?, ?it/s]"
      ]
     },
     "metadata": {},
     "output_type": "display_data"
    },
    {
     "data": {
      "application/vnd.jupyter.widget-view+json": {
       "model_id": "89e76c8fdcf84e0daed04f3ba02b184d",
       "version_major": 2,
       "version_minor": 0
      },
      "text/plain": [
       "100, 3, None, gini:   0%|          | 0/2 [00:00<?, ?it/s]"
      ]
     },
     "metadata": {},
     "output_type": "display_data"
    },
    {
     "data": {
      "application/vnd.jupyter.widget-view+json": {
       "model_id": "8db125ab4cae4c90b61b430215027180",
       "version_major": 2,
       "version_minor": 0
      },
      "text/plain": [
       "100, 4, balanced, gini:   0%|          | 0/2 [00:00<?, ?it/s]"
      ]
     },
     "metadata": {},
     "output_type": "display_data"
    },
    {
     "data": {
      "application/vnd.jupyter.widget-view+json": {
       "model_id": "71831584d9fd423a81fe91b64e1287fd",
       "version_major": 2,
       "version_minor": 0
      },
      "text/plain": [
       "100, 4, None, gini:   0%|          | 0/2 [00:00<?, ?it/s]"
      ]
     },
     "metadata": {},
     "output_type": "display_data"
    },
    {
     "data": {
      "application/vnd.jupyter.widget-view+json": {
       "model_id": "75b070e4ac30485999da4ee0fb78faa3",
       "version_major": 2,
       "version_minor": 0
      },
      "text/plain": [
       "100, 5, balanced, gini:   0%|          | 0/2 [00:00<?, ?it/s]"
      ]
     },
     "metadata": {},
     "output_type": "display_data"
    },
    {
     "data": {
      "application/vnd.jupyter.widget-view+json": {
       "model_id": "ef12da463b174363b8d1b7b8444ad972",
       "version_major": 2,
       "version_minor": 0
      },
      "text/plain": [
       "100, 5, None, gini:   0%|          | 0/2 [00:00<?, ?it/s]"
      ]
     },
     "metadata": {},
     "output_type": "display_data"
    },
    {
     "data": {
      "application/vnd.jupyter.widget-view+json": {
       "model_id": "0ffa7f4fc01c4e30ab3c7704f83d3f73",
       "version_major": 2,
       "version_minor": 0
      },
      "text/plain": [
       "100, 6, balanced, gini:   0%|          | 0/2 [00:00<?, ?it/s]"
      ]
     },
     "metadata": {},
     "output_type": "display_data"
    },
    {
     "data": {
      "application/vnd.jupyter.widget-view+json": {
       "model_id": "d80c011f4caa40f2910c1b512beb0ba1",
       "version_major": 2,
       "version_minor": 0
      },
      "text/plain": [
       "100, 6, None, gini:   0%|          | 0/2 [00:00<?, ?it/s]"
      ]
     },
     "metadata": {},
     "output_type": "display_data"
    },
    {
     "data": {
      "application/vnd.jupyter.widget-view+json": {
       "model_id": "7418a23b1126452db40673ce8a2b9a58",
       "version_major": 2,
       "version_minor": 0
      },
      "text/plain": [
       "100, 7, balanced, gini:   0%|          | 0/2 [00:00<?, ?it/s]"
      ]
     },
     "metadata": {},
     "output_type": "display_data"
    },
    {
     "data": {
      "application/vnd.jupyter.widget-view+json": {
       "model_id": "2aa51cd0cd27488aa9ea9ad3af796aca",
       "version_major": 2,
       "version_minor": 0
      },
      "text/plain": [
       "100, 7, None, gini:   0%|          | 0/2 [00:00<?, ?it/s]"
      ]
     },
     "metadata": {},
     "output_type": "display_data"
    },
    {
     "data": {
      "application/vnd.jupyter.widget-view+json": {
       "model_id": "682707170b0b4574a2ab8797426cf300",
       "version_major": 2,
       "version_minor": 0
      },
      "text/plain": [
       "100, 8, balanced, gini:   0%|          | 0/2 [00:00<?, ?it/s]"
      ]
     },
     "metadata": {},
     "output_type": "display_data"
    },
    {
     "data": {
      "application/vnd.jupyter.widget-view+json": {
       "model_id": "3f4e9cda8fa34eaeb3a66c6db8065ef1",
       "version_major": 2,
       "version_minor": 0
      },
      "text/plain": [
       "100, 8, None, gini:   0%|          | 0/2 [00:00<?, ?it/s]"
      ]
     },
     "metadata": {},
     "output_type": "display_data"
    },
    {
     "data": {
      "application/vnd.jupyter.widget-view+json": {
       "model_id": "354fa69cf4d447179e16394ddefa0036",
       "version_major": 2,
       "version_minor": 0
      },
      "text/plain": [
       "100, 9, balanced, gini:   0%|          | 0/2 [00:00<?, ?it/s]"
      ]
     },
     "metadata": {},
     "output_type": "display_data"
    },
    {
     "data": {
      "application/vnd.jupyter.widget-view+json": {
       "model_id": "dfe4f564afb544b99ead7258fea1268a",
       "version_major": 2,
       "version_minor": 0
      },
      "text/plain": [
       "100, 9, None, gini:   0%|          | 0/2 [00:00<?, ?it/s]"
      ]
     },
     "metadata": {},
     "output_type": "display_data"
    },
    {
     "data": {
      "application/vnd.jupyter.widget-view+json": {
       "model_id": "4e8b4a9050094609acf90e71ce405a57",
       "version_major": 2,
       "version_minor": 0
      },
      "text/plain": [
       "100, 10, balanced, gini:   0%|          | 0/2 [00:00<?, ?it/s]"
      ]
     },
     "metadata": {},
     "output_type": "display_data"
    },
    {
     "data": {
      "application/vnd.jupyter.widget-view+json": {
       "model_id": "dfd06959f40545ca8c00d93a4e7418fa",
       "version_major": 2,
       "version_minor": 0
      },
      "text/plain": [
       "100, 10, None, gini:   0%|          | 0/2 [00:00<?, ?it/s]"
      ]
     },
     "metadata": {},
     "output_type": "display_data"
    },
    {
     "data": {
      "application/vnd.jupyter.widget-view+json": {
       "model_id": "0da4b4f9c7fd40c88b61a6b635b72273",
       "version_major": 2,
       "version_minor": 0
      },
      "text/plain": [
       "100, 11, balanced, gini:   0%|          | 0/2 [00:00<?, ?it/s]"
      ]
     },
     "metadata": {},
     "output_type": "display_data"
    },
    {
     "data": {
      "application/vnd.jupyter.widget-view+json": {
       "model_id": "59732b076fb746b2855ceb539cb82882",
       "version_major": 2,
       "version_minor": 0
      },
      "text/plain": [
       "100, 11, None, gini:   0%|          | 0/2 [00:00<?, ?it/s]"
      ]
     },
     "metadata": {},
     "output_type": "display_data"
    },
    {
     "data": {
      "application/vnd.jupyter.widget-view+json": {
       "model_id": "9cf091b55eee4fab89e071fa912c1c7f",
       "version_major": 2,
       "version_minor": 0
      },
      "text/plain": [
       "100, 12, balanced, gini:   0%|          | 0/2 [00:00<?, ?it/s]"
      ]
     },
     "metadata": {},
     "output_type": "display_data"
    },
    {
     "data": {
      "application/vnd.jupyter.widget-view+json": {
       "model_id": "e8d3abbc20ae4837aa3779582c5baee6",
       "version_major": 2,
       "version_minor": 0
      },
      "text/plain": [
       "100, 12, None, gini:   0%|          | 0/2 [00:00<?, ?it/s]"
      ]
     },
     "metadata": {},
     "output_type": "display_data"
    },
    {
     "data": {
      "application/vnd.jupyter.widget-view+json": {
       "model_id": "c3288db0b72d4a93840aaf295f4dd507",
       "version_major": 2,
       "version_minor": 0
      },
      "text/plain": [
       "100, 13, balanced, gini:   0%|          | 0/2 [00:00<?, ?it/s]"
      ]
     },
     "metadata": {},
     "output_type": "display_data"
    },
    {
     "data": {
      "application/vnd.jupyter.widget-view+json": {
       "model_id": "014efb636ff2420898576684da927800",
       "version_major": 2,
       "version_minor": 0
      },
      "text/plain": [
       "100, 13, None, gini:   0%|          | 0/2 [00:00<?, ?it/s]"
      ]
     },
     "metadata": {},
     "output_type": "display_data"
    },
    {
     "data": {
      "application/vnd.jupyter.widget-view+json": {
       "model_id": "487ba0a500c0417b9d853c7e4a6b0c90",
       "version_major": 2,
       "version_minor": 0
      },
      "text/plain": [
       "100, 14, balanced, gini:   0%|          | 0/2 [00:00<?, ?it/s]"
      ]
     },
     "metadata": {},
     "output_type": "display_data"
    },
    {
     "data": {
      "application/vnd.jupyter.widget-view+json": {
       "model_id": "3d114ed3a6bf4c12a3f5ba76404c8428",
       "version_major": 2,
       "version_minor": 0
      },
      "text/plain": [
       "100, 14, None, gini:   0%|          | 0/2 [00:00<?, ?it/s]"
      ]
     },
     "metadata": {},
     "output_type": "display_data"
    },
    {
     "data": {
      "application/vnd.jupyter.widget-view+json": {
       "model_id": "27d741f8a4f940f2999d26b780a9168b",
       "version_major": 2,
       "version_minor": 0
      },
      "text/plain": [
       "100, 15, balanced, gini:   0%|          | 0/2 [00:00<?, ?it/s]"
      ]
     },
     "metadata": {},
     "output_type": "display_data"
    },
    {
     "data": {
      "application/vnd.jupyter.widget-view+json": {
       "model_id": "c9481515882f41cc9568fca333082738",
       "version_major": 2,
       "version_minor": 0
      },
      "text/plain": [
       "100, 15, None, gini:   0%|          | 0/2 [00:00<?, ?it/s]"
      ]
     },
     "metadata": {},
     "output_type": "display_data"
    },
    {
     "data": {
      "application/vnd.jupyter.widget-view+json": {
       "model_id": "38996c88c24f4c2aaacee00ee419fbee",
       "version_major": 2,
       "version_minor": 0
      },
      "text/plain": [
       "100, 16, balanced, gini:   0%|          | 0/2 [00:00<?, ?it/s]"
      ]
     },
     "metadata": {},
     "output_type": "display_data"
    },
    {
     "data": {
      "application/vnd.jupyter.widget-view+json": {
       "model_id": "65251ead7f7c44ae9cd63e8cf1860533",
       "version_major": 2,
       "version_minor": 0
      },
      "text/plain": [
       "100, 16, None, gini:   0%|          | 0/2 [00:00<?, ?it/s]"
      ]
     },
     "metadata": {},
     "output_type": "display_data"
    },
    {
     "data": {
      "application/vnd.jupyter.widget-view+json": {
       "model_id": "e91414810a814e22862afb917ae5b77a",
       "version_major": 2,
       "version_minor": 0
      },
      "text/plain": [
       "100, 17, balanced, gini:   0%|          | 0/2 [00:00<?, ?it/s]"
      ]
     },
     "metadata": {},
     "output_type": "display_data"
    },
    {
     "data": {
      "application/vnd.jupyter.widget-view+json": {
       "model_id": "3dcd537c26024837a12e69e6e32055f3",
       "version_major": 2,
       "version_minor": 0
      },
      "text/plain": [
       "100, 17, None, gini:   0%|          | 0/2 [00:00<?, ?it/s]"
      ]
     },
     "metadata": {},
     "output_type": "display_data"
    },
    {
     "data": {
      "application/vnd.jupyter.widget-view+json": {
       "model_id": "cd912400b3f8486d8214263b5ef270c5",
       "version_major": 2,
       "version_minor": 0
      },
      "text/plain": [
       "100, 18, balanced, gini:   0%|          | 0/2 [00:00<?, ?it/s]"
      ]
     },
     "metadata": {},
     "output_type": "display_data"
    },
    {
     "data": {
      "application/vnd.jupyter.widget-view+json": {
       "model_id": "b1a768a892e7482c871196fec6fc0861",
       "version_major": 2,
       "version_minor": 0
      },
      "text/plain": [
       "100, 18, None, gini:   0%|          | 0/2 [00:00<?, ?it/s]"
      ]
     },
     "metadata": {},
     "output_type": "display_data"
    },
    {
     "data": {
      "application/vnd.jupyter.widget-view+json": {
       "model_id": "4014c43479ef4c79b1921a98092bbfcb",
       "version_major": 2,
       "version_minor": 0
      },
      "text/plain": [
       "100, 19, balanced, gini:   0%|          | 0/2 [00:00<?, ?it/s]"
      ]
     },
     "metadata": {},
     "output_type": "display_data"
    },
    {
     "data": {
      "application/vnd.jupyter.widget-view+json": {
       "model_id": "5b936c6cd79a4df284712eeef55eebfd",
       "version_major": 2,
       "version_minor": 0
      },
      "text/plain": [
       "100, 19, None, gini:   0%|          | 0/2 [00:00<?, ?it/s]"
      ]
     },
     "metadata": {},
     "output_type": "display_data"
    },
    {
     "data": {
      "application/vnd.jupyter.widget-view+json": {
       "model_id": "9cd7339397ff4a54b78c7e2f19662f0f",
       "version_major": 2,
       "version_minor": 0
      },
      "text/plain": [
       "100, 20, balanced, gini:   0%|          | 0/2 [00:00<?, ?it/s]"
      ]
     },
     "metadata": {},
     "output_type": "display_data"
    },
    {
     "data": {
      "application/vnd.jupyter.widget-view+json": {
       "model_id": "52d4058a9e1d4aa7a9d5624ca3bc0d4e",
       "version_major": 2,
       "version_minor": 0
      },
      "text/plain": [
       "100, 20, None, gini:   0%|          | 0/2 [00:00<?, ?it/s]"
      ]
     },
     "metadata": {},
     "output_type": "display_data"
    },
    {
     "data": {
      "application/vnd.jupyter.widget-view+json": {
       "model_id": "8811540d720649d7976b5234443c2b54",
       "version_major": 2,
       "version_minor": 0
      },
      "text/plain": [
       "100, 21, balanced, gini:   0%|          | 0/2 [00:00<?, ?it/s]"
      ]
     },
     "metadata": {},
     "output_type": "display_data"
    },
    {
     "data": {
      "application/vnd.jupyter.widget-view+json": {
       "model_id": "ec3f72b6fe9a45d48dfda5db0ae8cde4",
       "version_major": 2,
       "version_minor": 0
      },
      "text/plain": [
       "100, 21, None, gini:   0%|          | 0/2 [00:00<?, ?it/s]"
      ]
     },
     "metadata": {},
     "output_type": "display_data"
    },
    {
     "data": {
      "application/vnd.jupyter.widget-view+json": {
       "model_id": "6560277f381e4663b71b215bc1bbcae4",
       "version_major": 2,
       "version_minor": 0
      },
      "text/plain": [
       "100, 22, balanced, gini:   0%|          | 0/2 [00:00<?, ?it/s]"
      ]
     },
     "metadata": {},
     "output_type": "display_data"
    },
    {
     "data": {
      "application/vnd.jupyter.widget-view+json": {
       "model_id": "b96be8e0b698468cb3dd17addc000909",
       "version_major": 2,
       "version_minor": 0
      },
      "text/plain": [
       "100, 22, None, gini:   0%|          | 0/2 [00:00<?, ?it/s]"
      ]
     },
     "metadata": {},
     "output_type": "display_data"
    },
    {
     "data": {
      "application/vnd.jupyter.widget-view+json": {
       "model_id": "ba36b4f110104d5fbfabc2412335e0dd",
       "version_major": 2,
       "version_minor": 0
      },
      "text/plain": [
       "100, 23, balanced, gini:   0%|          | 0/2 [00:00<?, ?it/s]"
      ]
     },
     "metadata": {},
     "output_type": "display_data"
    },
    {
     "data": {
      "application/vnd.jupyter.widget-view+json": {
       "model_id": "fbf4a2ea77854e6a934fbfee9ac34620",
       "version_major": 2,
       "version_minor": 0
      },
      "text/plain": [
       "100, 23, None, gini:   0%|          | 0/2 [00:00<?, ?it/s]"
      ]
     },
     "metadata": {},
     "output_type": "display_data"
    },
    {
     "data": {
      "application/vnd.jupyter.widget-view+json": {
       "model_id": "eef7893466b14843ab00d440cf8cdd6a",
       "version_major": 2,
       "version_minor": 0
      },
      "text/plain": [
       "100, 24, balanced, gini:   0%|          | 0/2 [00:00<?, ?it/s]"
      ]
     },
     "metadata": {},
     "output_type": "display_data"
    },
    {
     "data": {
      "application/vnd.jupyter.widget-view+json": {
       "model_id": "862987d4079246ef90a277eabca41cb8",
       "version_major": 2,
       "version_minor": 0
      },
      "text/plain": [
       "100, 24, None, gini:   0%|          | 0/2 [00:00<?, ?it/s]"
      ]
     },
     "metadata": {},
     "output_type": "display_data"
    },
    {
     "data": {
      "application/vnd.jupyter.widget-view+json": {
       "model_id": "78f1b9c9c5d143fe8d1aead0058720b2",
       "version_major": 2,
       "version_minor": 0
      },
      "text/plain": [
       "100, 25, balanced, gini:   0%|          | 0/2 [00:00<?, ?it/s]"
      ]
     },
     "metadata": {},
     "output_type": "display_data"
    },
    {
     "data": {
      "application/vnd.jupyter.widget-view+json": {
       "model_id": "df30f09ffa724371bc55ea3e012d94a0",
       "version_major": 2,
       "version_minor": 0
      },
      "text/plain": [
       "100, 25, None, gini:   0%|          | 0/2 [00:00<?, ?it/s]"
      ]
     },
     "metadata": {},
     "output_type": "display_data"
    },
    {
     "data": {
      "application/vnd.jupyter.widget-view+json": {
       "model_id": "3a902f45cb744146a9f56b7eb71a626d",
       "version_major": 2,
       "version_minor": 0
      },
      "text/plain": [
       "100, 26, balanced, gini:   0%|          | 0/2 [00:00<?, ?it/s]"
      ]
     },
     "metadata": {},
     "output_type": "display_data"
    },
    {
     "data": {
      "application/vnd.jupyter.widget-view+json": {
       "model_id": "f2e36e1a48954fa78b2eccd078534b7e",
       "version_major": 2,
       "version_minor": 0
      },
      "text/plain": [
       "100, 26, None, gini:   0%|          | 0/2 [00:00<?, ?it/s]"
      ]
     },
     "metadata": {},
     "output_type": "display_data"
    },
    {
     "data": {
      "application/vnd.jupyter.widget-view+json": {
       "model_id": "c27cf2a3b680408b9bc26651243fd802",
       "version_major": 2,
       "version_minor": 0
      },
      "text/plain": [
       "100, 27, balanced, gini:   0%|          | 0/2 [00:00<?, ?it/s]"
      ]
     },
     "metadata": {},
     "output_type": "display_data"
    },
    {
     "data": {
      "application/vnd.jupyter.widget-view+json": {
       "model_id": "9aba40e2b65e457895560f9c31715fb8",
       "version_major": 2,
       "version_minor": 0
      },
      "text/plain": [
       "100, 27, None, gini:   0%|          | 0/2 [00:00<?, ?it/s]"
      ]
     },
     "metadata": {},
     "output_type": "display_data"
    },
    {
     "data": {
      "application/vnd.jupyter.widget-view+json": {
       "model_id": "18309afe39764cef836c4dd1b3006898",
       "version_major": 2,
       "version_minor": 0
      },
      "text/plain": [
       "100, 28, balanced, gini:   0%|          | 0/2 [00:00<?, ?it/s]"
      ]
     },
     "metadata": {},
     "output_type": "display_data"
    },
    {
     "data": {
      "application/vnd.jupyter.widget-view+json": {
       "model_id": "72b2bc41b4c64d66b0b1c27d1eaa0fc4",
       "version_major": 2,
       "version_minor": 0
      },
      "text/plain": [
       "100, 28, None, gini:   0%|          | 0/2 [00:00<?, ?it/s]"
      ]
     },
     "metadata": {},
     "output_type": "display_data"
    },
    {
     "data": {
      "application/vnd.jupyter.widget-view+json": {
       "model_id": "b71d1e2c5dc04263b3917c9150ecb07c",
       "version_major": 2,
       "version_minor": 0
      },
      "text/plain": [
       "100, 29, balanced, gini:   0%|          | 0/2 [00:00<?, ?it/s]"
      ]
     },
     "metadata": {},
     "output_type": "display_data"
    },
    {
     "data": {
      "application/vnd.jupyter.widget-view+json": {
       "model_id": "bda65214da614ee09fe11faf5e16e943",
       "version_major": 2,
       "version_minor": 0
      },
      "text/plain": [
       "100, 29, None, gini:   0%|          | 0/2 [00:00<?, ?it/s]"
      ]
     },
     "metadata": {},
     "output_type": "display_data"
    },
    {
     "data": {
      "application/vnd.jupyter.widget-view+json": {
       "model_id": "655820571eb743f5902079e6cf78df42",
       "version_major": 2,
       "version_minor": 0
      },
      "text/plain": [
       "100, 30, balanced, gini:   0%|          | 0/2 [00:00<?, ?it/s]"
      ]
     },
     "metadata": {},
     "output_type": "display_data"
    },
    {
     "data": {
      "application/vnd.jupyter.widget-view+json": {
       "model_id": "9271cca3826c44d48a287fe02c813331",
       "version_major": 2,
       "version_minor": 0
      },
      "text/plain": [
       "100, 30, None, gini:   0%|          | 0/2 [00:00<?, ?it/s]"
      ]
     },
     "metadata": {},
     "output_type": "display_data"
    },
    {
     "data": {
      "application/vnd.jupyter.widget-view+json": {
       "model_id": "eb6ff8443e9645afb8d982777b878b6a",
       "version_major": 2,
       "version_minor": 0
      },
      "text/plain": [
       "100, 31, balanced, gini:   0%|          | 0/2 [00:00<?, ?it/s]"
      ]
     },
     "metadata": {},
     "output_type": "display_data"
    },
    {
     "data": {
      "application/vnd.jupyter.widget-view+json": {
       "model_id": "cfe91e00e8784f97a324c18ee475012f",
       "version_major": 2,
       "version_minor": 0
      },
      "text/plain": [
       "100, 31, None, gini:   0%|          | 0/2 [00:00<?, ?it/s]"
      ]
     },
     "metadata": {},
     "output_type": "display_data"
    },
    {
     "data": {
      "application/vnd.jupyter.widget-view+json": {
       "model_id": "e56d26f609b04e0398cfa9d390b21a7c",
       "version_major": 2,
       "version_minor": 0
      },
      "text/plain": [
       "100, 32, balanced, gini:   0%|          | 0/2 [00:00<?, ?it/s]"
      ]
     },
     "metadata": {},
     "output_type": "display_data"
    },
    {
     "data": {
      "application/vnd.jupyter.widget-view+json": {
       "model_id": "a85ac97697f64c3ba74d7663cbc9670d",
       "version_major": 2,
       "version_minor": 0
      },
      "text/plain": [
       "100, 32, None, gini:   0%|          | 0/2 [00:00<?, ?it/s]"
      ]
     },
     "metadata": {},
     "output_type": "display_data"
    },
    {
     "data": {
      "application/vnd.jupyter.widget-view+json": {
       "model_id": "f2926ca5e52846d4872f4ab5473e0340",
       "version_major": 2,
       "version_minor": 0
      },
      "text/plain": [
       "100, 33, balanced, gini:   0%|          | 0/2 [00:00<?, ?it/s]"
      ]
     },
     "metadata": {},
     "output_type": "display_data"
    },
    {
     "data": {
      "application/vnd.jupyter.widget-view+json": {
       "model_id": "03b3bc37661144158429e882b095b64f",
       "version_major": 2,
       "version_minor": 0
      },
      "text/plain": [
       "100, 33, None, gini:   0%|          | 0/2 [00:00<?, ?it/s]"
      ]
     },
     "metadata": {},
     "output_type": "display_data"
    },
    {
     "data": {
      "application/vnd.jupyter.widget-view+json": {
       "model_id": "eea28001fa5041a1aec732442d2b15eb",
       "version_major": 2,
       "version_minor": 0
      },
      "text/plain": [
       "100, 34, balanced, gini:   0%|          | 0/2 [00:00<?, ?it/s]"
      ]
     },
     "metadata": {},
     "output_type": "display_data"
    },
    {
     "data": {
      "application/vnd.jupyter.widget-view+json": {
       "model_id": "d7b392b6062b4635babd09165f8c8700",
       "version_major": 2,
       "version_minor": 0
      },
      "text/plain": [
       "100, 34, None, gini:   0%|          | 0/2 [00:00<?, ?it/s]"
      ]
     },
     "metadata": {},
     "output_type": "display_data"
    },
    {
     "data": {
      "application/vnd.jupyter.widget-view+json": {
       "model_id": "71875f6f8dcd4648b12a34ef422a1920",
       "version_major": 2,
       "version_minor": 0
      },
      "text/plain": [
       "100, 35, balanced, gini:   0%|          | 0/2 [00:00<?, ?it/s]"
      ]
     },
     "metadata": {},
     "output_type": "display_data"
    },
    {
     "data": {
      "application/vnd.jupyter.widget-view+json": {
       "model_id": "b087138b612c4883b358d8fe6dbf7f02",
       "version_major": 2,
       "version_minor": 0
      },
      "text/plain": [
       "100, 35, None, gini:   0%|          | 0/2 [00:00<?, ?it/s]"
      ]
     },
     "metadata": {},
     "output_type": "display_data"
    },
    {
     "data": {
      "application/vnd.jupyter.widget-view+json": {
       "model_id": "2a83e5efed6244ae8e0bf7b92df99dcd",
       "version_major": 2,
       "version_minor": 0
      },
      "text/plain": [
       "100, 36, balanced, gini:   0%|          | 0/2 [00:00<?, ?it/s]"
      ]
     },
     "metadata": {},
     "output_type": "display_data"
    },
    {
     "data": {
      "application/vnd.jupyter.widget-view+json": {
       "model_id": "fd84013b720048cab3d3aaf8541dfc40",
       "version_major": 2,
       "version_minor": 0
      },
      "text/plain": [
       "100, 36, None, gini:   0%|          | 0/2 [00:00<?, ?it/s]"
      ]
     },
     "metadata": {},
     "output_type": "display_data"
    },
    {
     "data": {
      "application/vnd.jupyter.widget-view+json": {
       "model_id": "d1e436494d84470cb19a2411efcfd365",
       "version_major": 2,
       "version_minor": 0
      },
      "text/plain": [
       "100, 37, balanced, gini:   0%|          | 0/2 [00:00<?, ?it/s]"
      ]
     },
     "metadata": {},
     "output_type": "display_data"
    },
    {
     "data": {
      "application/vnd.jupyter.widget-view+json": {
       "model_id": "1f6bf72991e94e138fc9ba319daa4d91",
       "version_major": 2,
       "version_minor": 0
      },
      "text/plain": [
       "100, 37, None, gini:   0%|          | 0/2 [00:00<?, ?it/s]"
      ]
     },
     "metadata": {},
     "output_type": "display_data"
    },
    {
     "data": {
      "application/vnd.jupyter.widget-view+json": {
       "model_id": "0ef3166a5e0c4e07abe9b47416e716cf",
       "version_major": 2,
       "version_minor": 0
      },
      "text/plain": [
       "100, 38, balanced, gini:   0%|          | 0/2 [00:00<?, ?it/s]"
      ]
     },
     "metadata": {},
     "output_type": "display_data"
    },
    {
     "data": {
      "application/vnd.jupyter.widget-view+json": {
       "model_id": "e39ef3b754cc428dbd6c47c4079d13cb",
       "version_major": 2,
       "version_minor": 0
      },
      "text/plain": [
       "100, 38, None, gini:   0%|          | 0/2 [00:00<?, ?it/s]"
      ]
     },
     "metadata": {},
     "output_type": "display_data"
    },
    {
     "data": {
      "application/vnd.jupyter.widget-view+json": {
       "model_id": "6b8ccdf188c14a3a8b6f8bb592e6a6dd",
       "version_major": 2,
       "version_minor": 0
      },
      "text/plain": [
       "100, 39, balanced, gini:   0%|          | 0/2 [00:00<?, ?it/s]"
      ]
     },
     "metadata": {},
     "output_type": "display_data"
    },
    {
     "data": {
      "application/vnd.jupyter.widget-view+json": {
       "model_id": "3cfc9f49bd3d4701baf397dd8988b981",
       "version_major": 2,
       "version_minor": 0
      },
      "text/plain": [
       "100, 39, None, gini:   0%|          | 0/2 [00:00<?, ?it/s]"
      ]
     },
     "metadata": {},
     "output_type": "display_data"
    },
    {
     "data": {
      "application/vnd.jupyter.widget-view+json": {
       "model_id": "e8e09fb2cc874156a1c16e49171700a1",
       "version_major": 2,
       "version_minor": 0
      },
      "text/plain": [
       "100, 40, balanced, gini:   0%|          | 0/2 [00:00<?, ?it/s]"
      ]
     },
     "metadata": {},
     "output_type": "display_data"
    },
    {
     "data": {
      "application/vnd.jupyter.widget-view+json": {
       "model_id": "7bb2f30a84d141d7a2840eee77a22dd2",
       "version_major": 2,
       "version_minor": 0
      },
      "text/plain": [
       "100, 40, None, gini:   0%|          | 0/2 [00:00<?, ?it/s]"
      ]
     },
     "metadata": {},
     "output_type": "display_data"
    },
    {
     "data": {
      "application/vnd.jupyter.widget-view+json": {
       "model_id": "d81983049eff4c63a0df8d5569868eb4",
       "version_major": 2,
       "version_minor": 0
      },
      "text/plain": [
       "100, 41, balanced, gini:   0%|          | 0/2 [00:00<?, ?it/s]"
      ]
     },
     "metadata": {},
     "output_type": "display_data"
    },
    {
     "data": {
      "application/vnd.jupyter.widget-view+json": {
       "model_id": "ae11949ecfaf470b88c17cc65e8da741",
       "version_major": 2,
       "version_minor": 0
      },
      "text/plain": [
       "100, 41, None, gini:   0%|          | 0/2 [00:00<?, ?it/s]"
      ]
     },
     "metadata": {},
     "output_type": "display_data"
    },
    {
     "data": {
      "application/vnd.jupyter.widget-view+json": {
       "model_id": "4ee7faf87219453da888cc269bdbe0cf",
       "version_major": 2,
       "version_minor": 0
      },
      "text/plain": [
       "100, 42, balanced, gini:   0%|          | 0/2 [00:00<?, ?it/s]"
      ]
     },
     "metadata": {},
     "output_type": "display_data"
    },
    {
     "data": {
      "application/vnd.jupyter.widget-view+json": {
       "model_id": "5a860adefcb04ff8b3dfba7b86968902",
       "version_major": 2,
       "version_minor": 0
      },
      "text/plain": [
       "100, 42, None, gini:   0%|          | 0/2 [00:00<?, ?it/s]"
      ]
     },
     "metadata": {},
     "output_type": "display_data"
    },
    {
     "data": {
      "application/vnd.jupyter.widget-view+json": {
       "model_id": "e9c4ee9b2094416787391858a8c73bf1",
       "version_major": 2,
       "version_minor": 0
      },
      "text/plain": [
       "100, 43, balanced, gini:   0%|          | 0/2 [00:00<?, ?it/s]"
      ]
     },
     "metadata": {},
     "output_type": "display_data"
    },
    {
     "data": {
      "application/vnd.jupyter.widget-view+json": {
       "model_id": "a37328cd29104c6f9837552231af4520",
       "version_major": 2,
       "version_minor": 0
      },
      "text/plain": [
       "100, 43, None, gini:   0%|          | 0/2 [00:00<?, ?it/s]"
      ]
     },
     "metadata": {},
     "output_type": "display_data"
    },
    {
     "data": {
      "application/vnd.jupyter.widget-view+json": {
       "model_id": "58e9912a9cd84b9a9f36e471e19260fe",
       "version_major": 2,
       "version_minor": 0
      },
      "text/plain": [
       "100, 44, balanced, gini:   0%|          | 0/2 [00:00<?, ?it/s]"
      ]
     },
     "metadata": {},
     "output_type": "display_data"
    },
    {
     "data": {
      "application/vnd.jupyter.widget-view+json": {
       "model_id": "4de4fdbe88884f65a48cb63d439650f5",
       "version_major": 2,
       "version_minor": 0
      },
      "text/plain": [
       "100, 44, None, gini:   0%|          | 0/2 [00:00<?, ?it/s]"
      ]
     },
     "metadata": {},
     "output_type": "display_data"
    },
    {
     "data": {
      "application/vnd.jupyter.widget-view+json": {
       "model_id": "2e84e4e33f694c68a08f3d83c5c7207f",
       "version_major": 2,
       "version_minor": 0
      },
      "text/plain": [
       "100, 45, balanced, gini:   0%|          | 0/2 [00:00<?, ?it/s]"
      ]
     },
     "metadata": {},
     "output_type": "display_data"
    },
    {
     "data": {
      "application/vnd.jupyter.widget-view+json": {
       "model_id": "d80d3c6d75d94ca4b6cef194bcead229",
       "version_major": 2,
       "version_minor": 0
      },
      "text/plain": [
       "100, 45, None, gini:   0%|          | 0/2 [00:00<?, ?it/s]"
      ]
     },
     "metadata": {},
     "output_type": "display_data"
    },
    {
     "data": {
      "application/vnd.jupyter.widget-view+json": {
       "model_id": "fa261c716cff4d78932fa47214563981",
       "version_major": 2,
       "version_minor": 0
      },
      "text/plain": [
       "100, 46, balanced, gini:   0%|          | 0/2 [00:00<?, ?it/s]"
      ]
     },
     "metadata": {},
     "output_type": "display_data"
    },
    {
     "data": {
      "application/vnd.jupyter.widget-view+json": {
       "model_id": "5d2863b4ee064594a2b96f9bbe309347",
       "version_major": 2,
       "version_minor": 0
      },
      "text/plain": [
       "100, 46, None, gini:   0%|          | 0/2 [00:00<?, ?it/s]"
      ]
     },
     "metadata": {},
     "output_type": "display_data"
    },
    {
     "data": {
      "application/vnd.jupyter.widget-view+json": {
       "model_id": "19e137d0e765449b978345cdcc4d280f",
       "version_major": 2,
       "version_minor": 0
      },
      "text/plain": [
       "100, 47, balanced, gini:   0%|          | 0/2 [00:00<?, ?it/s]"
      ]
     },
     "metadata": {},
     "output_type": "display_data"
    },
    {
     "data": {
      "application/vnd.jupyter.widget-view+json": {
       "model_id": "6061a0d3494d4054a5ff052c23c8f4d8",
       "version_major": 2,
       "version_minor": 0
      },
      "text/plain": [
       "100, 47, None, gini:   0%|          | 0/2 [00:00<?, ?it/s]"
      ]
     },
     "metadata": {},
     "output_type": "display_data"
    },
    {
     "data": {
      "application/vnd.jupyter.widget-view+json": {
       "model_id": "0e58fb4fda1340dd91c94708cc210a58",
       "version_major": 2,
       "version_minor": 0
      },
      "text/plain": [
       "100, 48, balanced, gini:   0%|          | 0/2 [00:00<?, ?it/s]"
      ]
     },
     "metadata": {},
     "output_type": "display_data"
    },
    {
     "data": {
      "application/vnd.jupyter.widget-view+json": {
       "model_id": "3936ace280424be4987da59f3900fc7e",
       "version_major": 2,
       "version_minor": 0
      },
      "text/plain": [
       "100, 48, None, gini:   0%|          | 0/2 [00:00<?, ?it/s]"
      ]
     },
     "metadata": {},
     "output_type": "display_data"
    },
    {
     "data": {
      "application/vnd.jupyter.widget-view+json": {
       "model_id": "a59112b54bc3467b9520aed02352debe",
       "version_major": 2,
       "version_minor": 0
      },
      "text/plain": [
       "100, 49, balanced, gini:   0%|          | 0/2 [00:00<?, ?it/s]"
      ]
     },
     "metadata": {},
     "output_type": "display_data"
    },
    {
     "data": {
      "application/vnd.jupyter.widget-view+json": {
       "model_id": "b670cb46e9f1412394f032dc340e09c5",
       "version_major": 2,
       "version_minor": 0
      },
      "text/plain": [
       "100, 49, None, gini:   0%|          | 0/2 [00:00<?, ?it/s]"
      ]
     },
     "metadata": {},
     "output_type": "display_data"
    }
   ],
   "source": [
    "for i in range(len(n_estimators)):\n",
    "    for j in range(len(max_depth)):\n",
    "        for k in range(len(class_weight)):\n",
    "            for m in trange(len(criterion), desc = f'{n_estimators[i]}, {max_depth[j]}, {class_weight[k]}, {criterion[m]}'):\n",
    "                n_estimators_list.append(n_estimators[i])\n",
    "                max_depth_list.append(max_depth[j])\n",
    "                class_weight_list.append(class_weight[k])\n",
    "                criterion_list.append(criterion[m])\n",
    "                cvs = cross_val_score(RandomForestClassifier(n_estimators = n_estimators[i],\n",
    "                                                            max_depth = max_depth[j],\n",
    "                                                            class_weight = class_weight[k],\n",
    "                                                            criterion = criterion[m],\n",
    "                                                            n_jobs = -1,\n",
    "                                                            random_state = 21), X_train, y_train, cv = 5, n_jobs = -1)\n",
    "                mean_list.append(cvs.mean())\n",
    "                std_list.append(cvs.std())"
   ]
  },
  {
   "cell_type": "code",
   "execution_count": 35,
   "metadata": {},
   "outputs": [
    {
     "data": {
      "text/html": [
       "<div>\n",
       "<style scoped>\n",
       "    .dataframe tbody tr th:only-of-type {\n",
       "        vertical-align: middle;\n",
       "    }\n",
       "\n",
       "    .dataframe tbody tr th {\n",
       "        vertical-align: top;\n",
       "    }\n",
       "\n",
       "    .dataframe thead th {\n",
       "        text-align: right;\n",
       "    }\n",
       "</style>\n",
       "<table border=\"1\" class=\"dataframe\">\n",
       "  <thead>\n",
       "    <tr style=\"text-align: right;\">\n",
       "      <th></th>\n",
       "      <th>n_estimators</th>\n",
       "      <th>max_depth</th>\n",
       "      <th>class_weight</th>\n",
       "      <th>criterion</th>\n",
       "      <th>mean_accuracy</th>\n",
       "      <th>std_accuracy</th>\n",
       "    </tr>\n",
       "  </thead>\n",
       "  <tbody>\n",
       "    <tr>\n",
       "      <th>503</th>\n",
       "      <td>50</td>\n",
       "      <td>28</td>\n",
       "      <td>None</td>\n",
       "      <td>gini</td>\n",
       "      <td>0.904290</td>\n",
       "      <td>0.010961</td>\n",
       "    </tr>\n",
       "    <tr>\n",
       "      <th>711</th>\n",
       "      <td>100</td>\n",
       "      <td>31</td>\n",
       "      <td>None</td>\n",
       "      <td>gini</td>\n",
       "      <td>0.903547</td>\n",
       "      <td>0.014380</td>\n",
       "    </tr>\n",
       "    <tr>\n",
       "      <th>509</th>\n",
       "      <td>50</td>\n",
       "      <td>30</td>\n",
       "      <td>balanced</td>\n",
       "      <td>gini</td>\n",
       "      <td>0.902817</td>\n",
       "      <td>0.013554</td>\n",
       "    </tr>\n",
       "    <tr>\n",
       "      <th>525</th>\n",
       "      <td>50</td>\n",
       "      <td>34</td>\n",
       "      <td>balanced</td>\n",
       "      <td>gini</td>\n",
       "      <td>0.902809</td>\n",
       "      <td>0.013010</td>\n",
       "    </tr>\n",
       "    <tr>\n",
       "      <th>783</th>\n",
       "      <td>100</td>\n",
       "      <td>49</td>\n",
       "      <td>None</td>\n",
       "      <td>gini</td>\n",
       "      <td>0.902806</td>\n",
       "      <td>0.010460</td>\n",
       "    </tr>\n",
       "    <tr>\n",
       "      <th>...</th>\n",
       "      <td>...</td>\n",
       "      <td>...</td>\n",
       "      <td>...</td>\n",
       "      <td>...</td>\n",
       "      <td>...</td>\n",
       "      <td>...</td>\n",
       "    </tr>\n",
       "    <tr>\n",
       "      <th>2</th>\n",
       "      <td>5</td>\n",
       "      <td>1</td>\n",
       "      <td>None</td>\n",
       "      <td>entropy</td>\n",
       "      <td>0.353832</td>\n",
       "      <td>0.016467</td>\n",
       "    </tr>\n",
       "    <tr>\n",
       "      <th>4</th>\n",
       "      <td>5</td>\n",
       "      <td>2</td>\n",
       "      <td>balanced</td>\n",
       "      <td>entropy</td>\n",
       "      <td>0.353110</td>\n",
       "      <td>0.021165</td>\n",
       "    </tr>\n",
       "    <tr>\n",
       "      <th>5</th>\n",
       "      <td>5</td>\n",
       "      <td>2</td>\n",
       "      <td>balanced</td>\n",
       "      <td>gini</td>\n",
       "      <td>0.346419</td>\n",
       "      <td>0.029749</td>\n",
       "    </tr>\n",
       "    <tr>\n",
       "      <th>1</th>\n",
       "      <td>5</td>\n",
       "      <td>1</td>\n",
       "      <td>balanced</td>\n",
       "      <td>gini</td>\n",
       "      <td>0.283390</td>\n",
       "      <td>0.011062</td>\n",
       "    </tr>\n",
       "    <tr>\n",
       "      <th>0</th>\n",
       "      <td>5</td>\n",
       "      <td>1</td>\n",
       "      <td>balanced</td>\n",
       "      <td>entropy</td>\n",
       "      <td>0.270794</td>\n",
       "      <td>0.024718</td>\n",
       "    </tr>\n",
       "  </tbody>\n",
       "</table>\n",
       "<p>784 rows × 6 columns</p>\n",
       "</div>"
      ],
      "text/plain": [
       "     n_estimators  max_depth class_weight criterion  mean_accuracy  \\\n",
       "503            50         28         None      gini       0.904290   \n",
       "711           100         31         None      gini       0.903547   \n",
       "509            50         30     balanced      gini       0.902817   \n",
       "525            50         34     balanced      gini       0.902809   \n",
       "783           100         49         None      gini       0.902806   \n",
       "..            ...        ...          ...       ...            ...   \n",
       "2               5          1         None   entropy       0.353832   \n",
       "4               5          2     balanced   entropy       0.353110   \n",
       "5               5          2     balanced      gini       0.346419   \n",
       "1               5          1     balanced      gini       0.283390   \n",
       "0               5          1     balanced   entropy       0.270794   \n",
       "\n",
       "     std_accuracy  \n",
       "503      0.010961  \n",
       "711      0.014380  \n",
       "509      0.013554  \n",
       "525      0.013010  \n",
       "783      0.010460  \n",
       "..            ...  \n",
       "2        0.016467  \n",
       "4        0.021165  \n",
       "5        0.029749  \n",
       "1        0.011062  \n",
       "0        0.024718  \n",
       "\n",
       "[784 rows x 6 columns]"
      ]
     },
     "execution_count": 35,
     "metadata": {},
     "output_type": "execute_result"
    }
   ],
   "source": [
    "scores = pd.DataFrame({'n_estimators' : n_estimators_list,\n",
    "                        'max_depth' : max_depth_list,\n",
    "                        'class_weight' : class_weight_list,\n",
    "                        'criterion' : criterion_list,\n",
    "                        'mean_accuracy' : mean_list,\n",
    "                        'std_accuracy' : std_list})\n",
    "scores.sort_values('mean_accuracy', inplace = True, ascending = False)\n",
    "scores"
   ]
  },
  {
   "cell_type": "markdown",
   "metadata": {},
   "source": [
    " \n",
    "Выберите лучшую модель и используйте ее для создания прогнозов для тестового датасета.\n",
    "Рассчитайте финальную accuracy."
   ]
  },
  {
   "cell_type": "code",
   "execution_count": 37,
   "metadata": {},
   "outputs": [
    {
     "data": {
      "text/plain": [
       "0.9319526627218935"
      ]
     },
     "execution_count": 37,
     "metadata": {},
     "output_type": "execute_result"
    }
   ],
   "source": [
    "best_model = RandomForestClassifier(class_weight = 'balanced', criterion = 'entropy', n_estimators=100, max_depth=24, random_state=21)\n",
    "best_model.fit(X_train, y_train)\n",
    "accuracy_score(y_test, best_model.predict(X_test))"
   ]
  },
  {
   "cell_type": "code",
   "execution_count": 38,
   "metadata": {},
   "outputs": [
    {
     "data": {
      "text/plain": [
       "0.9319526627218935"
      ]
     },
     "execution_count": 38,
     "metadata": {},
     "output_type": "execute_result"
    }
   ],
   "source": [
    "accuracy_score(y_test, best_model.predict(X_test))"
   ]
  },
  {
   "cell_type": "code",
   "execution_count": null,
   "metadata": {},
   "outputs": [],
   "source": []
  }
 ],
 "metadata": {
  "colab": {
   "collapsed_sections": [],
   "provenance": []
  },
  "kernelspec": {
   "display_name": "Python 3 (ipykernel)",
   "language": "python",
   "name": "python3"
  },
  "language_info": {
   "codemirror_mode": {
    "name": "ipython",
    "version": 3
   },
   "file_extension": ".py",
   "mimetype": "text/x-python",
   "name": "python",
   "nbconvert_exporter": "python",
   "pygments_lexer": "ipython3",
   "version": "3.9.12"
  }
 },
 "nbformat": 4,
 "nbformat_minor": 1
}
